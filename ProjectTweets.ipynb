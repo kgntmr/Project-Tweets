{
 "cells": [
  {
   "cell_type": "code",
   "execution_count": 1,
   "metadata": {},
   "outputs": [],
   "source": [
    "import mysql.connector\n",
    "\n",
    "mydb = mysql.connector.connect(\n",
    "    host=\"localhost\",\n",
    "    user=\"root\",\n",
    "    passwd=\"kda2023!\",\n",
    "    database=\"ProjectTweets\"\n",
    ")"
   ]
  },
  {
   "cell_type": "code",
   "execution_count": 2,
   "metadata": {},
   "outputs": [],
   "source": [
    "mycursor = mydb.cursor()"
   ]
  },
  {
   "cell_type": "code",
   "execution_count": 3,
   "metadata": {},
   "outputs": [],
   "source": [
    "# mycursor.execute(\"CREATE DATABASE ProjectTweets\")"
   ]
  },
  {
   "cell_type": "code",
   "execution_count": 4,
   "metadata": {},
   "outputs": [
    {
     "name": "stdout",
     "output_type": "stream",
     "text": [
      "('information_schema',)\n",
      "('mysql',)\n",
      "('new_schema',)\n",
      "('performance_schema',)\n",
      "('ProjectTweets',)\n",
      "('Tweets',)\n"
     ]
    }
   ],
   "source": [
    "mycursor.execute(\"SHOW DATABASES\")\n",
    "\n",
    "for db in mycursor:\n",
    "    print(db)"
   ]
  },
  {
   "cell_type": "code",
   "execution_count": 5,
   "metadata": {},
   "outputs": [],
   "source": [
    "# mycursor.execute(\"CREATE TABLE Tweets (id INT AUTO_INCREMENT PRIMARY KEY, date VARCHAR(255), flag VARCHAR(255), user VARCHAR(255), text VARCHAR(255))\")"
   ]
  },
  {
   "cell_type": "code",
   "execution_count": 6,
   "metadata": {},
   "outputs": [
    {
     "name": "stdout",
     "output_type": "stream",
     "text": [
      "('Tweets',)\n"
     ]
    }
   ],
   "source": [
    "mycursor.execute(\"SHOW TABLES\")\n",
    "\n",
    "for tb in mycursor:\n",
    "    print(tb)"
   ]
  },
  {
   "cell_type": "code",
   "execution_count": 7,
   "metadata": {},
   "outputs": [],
   "source": [
    "sqlFormula = \"\"\"\n",
    "    LOAD DATA LOCAL INFILE '/Users/kagantimur/Desktop/CA2/ProjectTweets.csv'\n",
    "    INTO TABLE Tweets\n",
    "    FIELDS TERMINATED BY ','\n",
    "    LINES TERMINATED BY '\\n'\n",
    "    IGNORE 1 ROWS;\n",
    "\"\"\""
   ]
  },
  {
   "cell_type": "code",
   "execution_count": 8,
   "metadata": {},
   "outputs": [
    {
     "ename": "DatabaseError",
     "evalue": "LOAD DATA LOCAL INFILE file request rejected due to restrictions on access.",
     "output_type": "error",
     "traceback": [
      "\u001b[0;31m---------------------------------------------------------------------------\u001b[0m",
      "\u001b[0;31mProgrammingError\u001b[0m                          Traceback (most recent call last)",
      "File \u001b[0;32m/opt/anaconda3/lib/python3.9/site-packages/mysql/connector/connection.py:1046\u001b[0m, in \u001b[0;36mMySQLConnection.cmd_query\u001b[0;34m(self, query, raw, buffered, raw_as_string)\u001b[0m\n\u001b[1;32m   1045\u001b[0m \u001b[39mtry\u001b[39;00m:\n\u001b[0;32m-> 1046\u001b[0m     result \u001b[39m=\u001b[39m \u001b[39mself\u001b[39;49m\u001b[39m.\u001b[39;49m_handle_result(\u001b[39mself\u001b[39;49m\u001b[39m.\u001b[39;49m_send_cmd(ServerCmd\u001b[39m.\u001b[39;49mQUERY, query))\n\u001b[1;32m   1047\u001b[0m \u001b[39mexcept\u001b[39;00m ProgrammingError \u001b[39mas\u001b[39;00m err:\n",
      "File \u001b[0;32m/opt/anaconda3/lib/python3.9/site-packages/mysql/connector/connection.py:824\u001b[0m, in \u001b[0;36mMySQLConnection._handle_result\u001b[0;34m(self, packet)\u001b[0m\n\u001b[1;32m    823\u001b[0m \u001b[39mif\u001b[39;00m packet[\u001b[39m4\u001b[39m] \u001b[39m==\u001b[39m \u001b[39m255\u001b[39m:\n\u001b[0;32m--> 824\u001b[0m     \u001b[39mraise\u001b[39;00m get_exception(packet)\n\u001b[1;32m    826\u001b[0m \u001b[39m# We have a text result set\u001b[39;00m\n",
      "\u001b[0;31mProgrammingError\u001b[0m: 3948 (42000): Loading local data is disabled; this must be enabled on both the client and server sides",
      "\nThe above exception was the direct cause of the following exception:\n",
      "\u001b[0;31mDatabaseError\u001b[0m                             Traceback (most recent call last)",
      "Cell \u001b[0;32mIn[8], line 2\u001b[0m\n\u001b[1;32m      1\u001b[0m \u001b[39m# Execute the SQL statement\u001b[39;00m\n\u001b[0;32m----> 2\u001b[0m mycursor\u001b[39m.\u001b[39;49mexecute(sqlFormula)\n\u001b[1;32m      4\u001b[0m \u001b[39m# Commit the changes\u001b[39;00m\n\u001b[1;32m      5\u001b[0m mydb\u001b[39m.\u001b[39mcommit()\n",
      "File \u001b[0;32m/opt/anaconda3/lib/python3.9/site-packages/mysql/connector/cursor.py:615\u001b[0m, in \u001b[0;36mMySQLCursor.execute\u001b[0;34m(self, operation, params, multi)\u001b[0m\n\u001b[1;32m    612\u001b[0m     \u001b[39mreturn\u001b[39;00m \u001b[39mself\u001b[39m\u001b[39m.\u001b[39m_execute_iter(\u001b[39mself\u001b[39m\u001b[39m.\u001b[39m_connection\u001b[39m.\u001b[39mcmd_query_iter(stmt))\n\u001b[1;32m    614\u001b[0m \u001b[39mtry\u001b[39;00m:\n\u001b[0;32m--> 615\u001b[0m     \u001b[39mself\u001b[39m\u001b[39m.\u001b[39m_handle_result(\u001b[39mself\u001b[39;49m\u001b[39m.\u001b[39;49m_connection\u001b[39m.\u001b[39;49mcmd_query(stmt))\n\u001b[1;32m    616\u001b[0m \u001b[39mexcept\u001b[39;00m InterfaceError \u001b[39mas\u001b[39;00m err:\n\u001b[1;32m    617\u001b[0m     \u001b[39mif\u001b[39;00m \u001b[39mself\u001b[39m\u001b[39m.\u001b[39m_connection\u001b[39m.\u001b[39mhave_next_result:\n",
      "File \u001b[0;32m/opt/anaconda3/lib/python3.9/site-packages/mysql/connector/connection.py:1053\u001b[0m, in \u001b[0;36mMySQLConnection.cmd_query\u001b[0;34m(self, query, raw, buffered, raw_as_string)\u001b[0m\n\u001b[1;32m   1048\u001b[0m     \u001b[39mif\u001b[39;00m err\u001b[39m.\u001b[39merrno \u001b[39m==\u001b[39m \u001b[39m3948\u001b[39m \u001b[39mand\u001b[39;00m \u001b[39m\"\u001b[39m\u001b[39mLoading local data is disabled\u001b[39m\u001b[39m\"\u001b[39m \u001b[39min\u001b[39;00m err\u001b[39m.\u001b[39mmsg:\n\u001b[1;32m   1049\u001b[0m         err_msg \u001b[39m=\u001b[39m (\n\u001b[1;32m   1050\u001b[0m             \u001b[39m\"\u001b[39m\u001b[39mLOAD DATA LOCAL INFILE file request rejected due \u001b[39m\u001b[39m\"\u001b[39m\n\u001b[1;32m   1051\u001b[0m             \u001b[39m\"\u001b[39m\u001b[39mto restrictions on access.\u001b[39m\u001b[39m\"\u001b[39m\n\u001b[1;32m   1052\u001b[0m         )\n\u001b[0;32m-> 1053\u001b[0m         \u001b[39mraise\u001b[39;00m DatabaseError(err_msg) \u001b[39mfrom\u001b[39;00m \u001b[39merr\u001b[39;00m\n\u001b[1;32m   1054\u001b[0m     \u001b[39mraise\u001b[39;00m\n\u001b[1;32m   1055\u001b[0m \u001b[39mif\u001b[39;00m \u001b[39mself\u001b[39m\u001b[39m.\u001b[39m_have_next_result:\n",
      "\u001b[0;31mDatabaseError\u001b[0m: LOAD DATA LOCAL INFILE file request rejected due to restrictions on access."
     ]
    }
   ],
   "source": [
    "# Execute the SQL statement\n",
    "mycursor.execute(sqlFormula)\n",
    "\n",
    "# Commit the changes\n",
    "mydb.commit()"
   ]
  },
  {
   "cell_type": "code",
   "execution_count": null,
   "metadata": {},
   "outputs": [],
   "source": []
  },
  {
   "cell_type": "code",
   "execution_count": null,
   "metadata": {},
   "outputs": [],
   "source": []
  }
 ],
 "metadata": {
  "kernelspec": {
   "display_name": "base",
   "language": "python",
   "name": "python3"
  },
  "language_info": {
   "codemirror_mode": {
    "name": "ipython",
    "version": 3
   },
   "file_extension": ".py",
   "mimetype": "text/x-python",
   "name": "python",
   "nbconvert_exporter": "python",
   "pygments_lexer": "ipython3",
   "version": "3.9.13"
  },
  "orig_nbformat": 4
 },
 "nbformat": 4,
 "nbformat_minor": 2
}
