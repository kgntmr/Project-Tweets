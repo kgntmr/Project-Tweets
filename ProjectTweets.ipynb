{
 "cells": [
  {
   "cell_type": "code",
   "execution_count": 1,
   "id": "bac2e33b",
   "metadata": {},
   "outputs": [
    {
     "name": "stderr",
     "output_type": "stream",
     "text": [
      "/tmp/ipykernel_10410/1099104516.py:13: UserWarning: \n",
      "The dash_core_components package is deprecated. Please replace\n",
      "`import dash_core_components as dcc` with `from dash import dcc`\n",
      "  import dash_core_components as dcc\n",
      "/tmp/ipykernel_10410/1099104516.py:14: UserWarning: \n",
      "The dash_html_components package is deprecated. Please replace\n",
      "`import dash_html_components as html` with `from dash import html`\n",
      "  import dash_html_components as html\n"
     ]
    }
   ],
   "source": [
    "# Importing PySpark related libraries\n",
    "from pyspark.sql import SparkSession, Row\n",
    "from pyspark.sql.functions import concat_ws, regexp_replace, col, lower, to_date, date_format\n",
    "from pyspark.ml.feature import Tokenizer, StopWordsRemover\n",
    "from pyspark.sql.functions import udf\n",
    "from pyspark.sql.types import StringType, DoubleType\n",
    "\n",
    "# Importing MongoDB related library\n",
    "from pymongo import MongoClient\n",
    "\n",
    "# Importing Dash and Plotly for data visualization\n",
    "import dash\n",
    "import dash_core_components as dcc\n",
    "import dash_html_components as html\n",
    "from dash.dependencies import Input, Output\n",
    "import plotly.graph_objs as go\n",
    "import plotly.express as px\n",
    "\n",
    "# Additional PySpark functions and features\n",
    "from pyspark.sql.functions import avg\n",
    "from pyspark.sql import functions as F\n",
    "from pyspark.sql.window import Window\n",
    "from pyspark.sql.functions import avg, col\n",
    "\n",
    "# Importing NLTK for natural language processing\n",
    "import nltk\n",
    "from nltk.stem import WordNetLemmatizer\n",
    "from nltk.sentiment.vader import SentimentIntensityAnalyzer\n",
    "\n",
    "# Downloading NLTK datasets if needed\n",
    "# nltk.download('omw-1.4')\n",
    "# nltk.download('wordnet')\n",
    "# nltk.download('vader_lexicon')\n",
    "\n",
    "# Importing datetime library\n",
    "from datetime import timedelta, datetime, date"
   ]
  },
  {
   "cell_type": "code",
   "execution_count": 2,
   "id": "dcf717f5",
   "metadata": {},
   "outputs": [],
   "source": [
    "spark = SparkSession.builder.appName('ProjectTweets').enableHiveSupport().getOrCreate()"
   ]
  },
  {
   "cell_type": "markdown",
   "id": "c91ffa58",
   "metadata": {},
   "source": [
    "# DATA PREPARATION"
   ]
  },
  {
   "cell_type": "code",
   "execution_count": 3,
   "id": "91573341",
   "metadata": {
    "scrolled": true
   },
   "outputs": [
    {
     "name": "stderr",
     "output_type": "stream",
     "text": [
      "                                                                                \r"
     ]
    }
   ],
   "source": [
    "df = spark.read.csv('/user1/ProjectTweets.csv', header=True, inferSchema=True)"
   ]
  },
  {
   "cell_type": "code",
   "execution_count": 4,
   "id": "e61bd395",
   "metadata": {},
   "outputs": [
    {
     "name": "stdout",
     "output_type": "stream",
     "text": [
      "root\n",
      " |-- 0: integer (nullable = true)\n",
      " |-- 1467810369: long (nullable = true)\n",
      " |-- Mon Apr 06 22:19:45 PDT 2009: string (nullable = true)\n",
      " |-- NO_QUERY: string (nullable = true)\n",
      " |-- _TheSpecialOne_: string (nullable = true)\n",
      " |-- @switchfoot http://twitpic.com/2y1zl - Awww, that's a bummer.  You shoulda got David Carr of Third Day to do it. ;D: string (nullable = true)\n",
      "\n"
     ]
    }
   ],
   "source": [
    "df.printSchema()"
   ]
  },
  {
   "cell_type": "code",
   "execution_count": 5,
   "id": "5363c840",
   "metadata": {},
   "outputs": [
    {
     "name": "stdout",
     "output_type": "stream",
     "text": [
      "+---+----------+----------------------------+--------+---------------+-------------------------------------------------------------------------------------------------------------------+\n",
      "|0  |1467810369|Mon Apr 06 22:19:45 PDT 2009|NO_QUERY|_TheSpecialOne_|@switchfoot http://twitpic.com/2y1zl - Awww, that's a bummer.  You shoulda got David Carr of Third Day to do it. ;D|\n",
      "+---+----------+----------------------------+--------+---------------+-------------------------------------------------------------------------------------------------------------------+\n",
      "|1  |1467810672|Mon Apr 06 22:19:49 PDT 2009|NO_QUERY|scotthamilton  |is upset that he can't update his Facebook by texting it... and might cry as a result  School today also. Blah!    |\n",
      "|2  |1467810917|Mon Apr 06 22:19:53 PDT 2009|NO_QUERY|mattycus       |@Kenichan I dived many times for the ball. Managed to save 50%  The rest go out of bounds                          |\n",
      "|3  |1467811184|Mon Apr 06 22:19:57 PDT 2009|NO_QUERY|ElleCTF        |my whole body feels itchy and like its on fire                                                                     |\n",
      "|4  |1467811193|Mon Apr 06 22:19:57 PDT 2009|NO_QUERY|Karoli         |@nationwideclass no, it's not behaving at all. i'm mad. why am i here? because I can't see you all over there.     |\n",
      "|5  |1467811372|Mon Apr 06 22:20:00 PDT 2009|NO_QUERY|joy_wolf       |@Kwesidei not the whole crew                                                                                       |\n",
      "+---+----------+----------------------------+--------+---------------+-------------------------------------------------------------------------------------------------------------------+\n",
      "only showing top 5 rows\n",
      "\n"
     ]
    }
   ],
   "source": [
    "df.show(5, truncate=False)"
   ]
  },
  {
   "cell_type": "code",
   "execution_count": 6,
   "id": "c358289e",
   "metadata": {},
   "outputs": [],
   "source": [
    "new_cols = ['ids', 'date', 'flag', 'user', 'text']\n",
    "\n",
    "for i, column_name in enumerate(new_cols):\n",
    "    df = df.withColumnRenamed(df.columns[i + 1], column_name)"
   ]
  },
  {
   "cell_type": "code",
   "execution_count": 7,
   "id": "fb99dd3b",
   "metadata": {},
   "outputs": [],
   "source": [
    "spark.conf.set('spark.sql.legacy.timeParserPolicy', 'LEGACY')"
   ]
  },
  {
   "cell_type": "code",
   "execution_count": 8,
   "id": "5f77ec01",
   "metadata": {},
   "outputs": [],
   "source": [
    "date_column = df.select('date')"
   ]
  },
  {
   "cell_type": "code",
   "execution_count": 9,
   "id": "2baf2eff",
   "metadata": {},
   "outputs": [],
   "source": [
    "df = df.withColumn('date', to_date(df['date'], 'EEE MMM dd HH:mm:ss zzz yyyy'))"
   ]
  },
  {
   "cell_type": "code",
   "execution_count": 10,
   "id": "3a856b04",
   "metadata": {},
   "outputs": [],
   "source": [
    "df = df.withColumn('date', to_date(col('date'), 'dd/MM/yyyy'))"
   ]
  },
  {
   "cell_type": "code",
   "execution_count": 11,
   "id": "06d9721a",
   "metadata": {
    "scrolled": true
   },
   "outputs": [
    {
     "name": "stdout",
     "output_type": "stream",
     "text": [
      "+---+----------+----------+--------+---------------+--------------------+\n",
      "|  0|       ids|      date|    flag|           user|                text|\n",
      "+---+----------+----------+--------+---------------+--------------------+\n",
      "|  1|1467810672|2009-04-07|NO_QUERY|  scotthamilton|is upset that he ...|\n",
      "|  2|1467810917|2009-04-07|NO_QUERY|       mattycus|@Kenichan I dived...|\n",
      "|  3|1467811184|2009-04-07|NO_QUERY|        ElleCTF|my whole body fee...|\n",
      "|  4|1467811193|2009-04-07|NO_QUERY|         Karoli|@nationwideclass ...|\n",
      "|  5|1467811372|2009-04-07|NO_QUERY|       joy_wolf|@Kwesidei not the...|\n",
      "|  6|1467811592|2009-04-07|NO_QUERY|        mybirch|         Need a hug |\n",
      "|  7|1467811594|2009-04-07|NO_QUERY|           coZZ|@LOLTrish hey  lo...|\n",
      "|  8|1467811795|2009-04-07|NO_QUERY|2Hood4Hollywood|@Tatiana_K nope t...|\n",
      "|  9|1467812025|2009-04-07|NO_QUERY|        mimismo|@twittera que me ...|\n",
      "| 10|1467812416|2009-04-07|NO_QUERY| erinx3leannexo|spring break in p...|\n",
      "| 11|1467812579|2009-04-07|NO_QUERY|   pardonlauren|I just re-pierced...|\n",
      "| 12|1467812723|2009-04-07|NO_QUERY|           TLeC|@caregiving I cou...|\n",
      "| 13|1467812771|2009-04-07|NO_QUERY|robrobbierobert|@octolinz16 It it...|\n",
      "| 14|1467812784|2009-04-07|NO_QUERY|    bayofwolves|@smarrison i woul...|\n",
      "| 15|1467812799|2009-04-07|NO_QUERY|     HairByJess|@iamjazzyfizzle I...|\n",
      "| 16|1467812964|2009-04-07|NO_QUERY| lovesongwriter|Hollis' death sce...|\n",
      "| 17|1467813137|2009-04-07|NO_QUERY|       armotley|about to file taxes |\n",
      "| 18|1467813579|2009-04-07|NO_QUERY|     starkissed|@LettyA ahh ive a...|\n",
      "| 19|1467813782|2009-04-07|NO_QUERY|      gi_gi_bee|@FakerPattyPattz ...|\n",
      "| 20|1467813985|2009-04-07|NO_QUERY|         quanvu|@alydesigns i was...|\n",
      "+---+----------+----------+--------+---------------+--------------------+\n",
      "only showing top 20 rows\n",
      "\n"
     ]
    }
   ],
   "source": [
    "df.show()"
   ]
  },
  {
   "cell_type": "code",
   "execution_count": 12,
   "id": "28086db3",
   "metadata": {},
   "outputs": [
    {
     "name": "stdout",
     "output_type": "stream",
     "text": [
      "root\n",
      " |-- 0: integer (nullable = true)\n",
      " |-- ids: long (nullable = true)\n",
      " |-- date: date (nullable = true)\n",
      " |-- flag: string (nullable = true)\n",
      " |-- user: string (nullable = true)\n",
      " |-- text: string (nullable = true)\n",
      "\n"
     ]
    }
   ],
   "source": [
    "df.printSchema()"
   ]
  },
  {
   "cell_type": "code",
   "execution_count": 13,
   "id": "572dff8f",
   "metadata": {},
   "outputs": [],
   "source": [
    "# Convert text data to lowercase and clean unnecessary characters\n",
    "df = df.withColumn(\"text\", lower(regexp_replace(col(\"text\"), \"[^a-zA-Z0-9\\\\s]\", \" \")))"
   ]
  },
  {
   "cell_type": "code",
   "execution_count": 14,
   "id": "2fc3289f",
   "metadata": {},
   "outputs": [],
   "source": [
    "# Remove special symbols, and links from text data\n",
    "df = df.withColumn(\"text\", regexp_replace(col(\"text\"), r'[@#]\\w+|https?://\\S+|\\W', \" \"))"
   ]
  },
  {
   "cell_type": "code",
   "execution_count": 15,
   "id": "e34447de",
   "metadata": {},
   "outputs": [
    {
     "name": "stdout",
     "output_type": "stream",
     "text": [
      "+---+----------+----------+--------+-------------+---------------------------------------------------------------------------------------------------------------+\n",
      "|0  |ids       |date      |flag    |user         |text                                                                                                           |\n",
      "+---+----------+----------+--------+-------------+---------------------------------------------------------------------------------------------------------------+\n",
      "|1  |1467810672|2009-04-07|NO_QUERY|scotthamilton|is upset that he can t update his facebook by texting it    and might cry as a result  school today also  blah |\n",
      "+---+----------+----------+--------+-------------+---------------------------------------------------------------------------------------------------------------+\n",
      "only showing top 1 row\n",
      "\n"
     ]
    }
   ],
   "source": [
    "df.show(1, truncate=False)"
   ]
  },
  {
   "cell_type": "markdown",
   "id": "c75fd5cc",
   "metadata": {},
   "source": [
    "## Sentiment Analysis without Tokenization, Lemmatization and Removing Stopwords"
   ]
  },
  {
   "cell_type": "code",
   "execution_count": 16,
   "id": "e939c3bf",
   "metadata": {},
   "outputs": [],
   "source": [
    "df_for_sentiment = df.select('date', 'text')"
   ]
  },
  {
   "cell_type": "code",
   "execution_count": 17,
   "id": "cd00a3f0",
   "metadata": {},
   "outputs": [],
   "source": [
    "# Vader SentimentIntensityAnalyzer'ı oluşturun\n",
    "sia = SentimentIntensityAnalyzer()\n",
    "\n",
    "# UDF için bir işlev tanımlayın\n",
    "def analyze_sentiment(text):\n",
    "    sentiment = sia.polarity_scores(text)\n",
    "    return sentiment['compound']\n",
    "\n",
    "# UDF'yi kaydedin\n",
    "sentiment_udf = udf(analyze_sentiment, DoubleType())"
   ]
  },
  {
   "cell_type": "code",
   "execution_count": 18,
   "id": "8a26f6e9",
   "metadata": {},
   "outputs": [
    {
     "name": "stderr",
     "output_type": "stream",
     "text": [
      "\r",
      "[Stage 5:>                                                          (0 + 1) / 1]\r"
     ]
    },
    {
     "name": "stdout",
     "output_type": "stream",
     "text": [
      "+----------+--------------------+---------------+\n",
      "|      date|                text|sentiment_score|\n",
      "+----------+--------------------+---------------+\n",
      "|2009-04-07|is upset that he ...|        -0.7269|\n",
      "|2009-04-07| kenichan i dived...|         0.4939|\n",
      "|2009-04-07|my whole body fee...|          -0.25|\n",
      "|2009-04-07| nationwideclass ...|        -0.6597|\n",
      "|2009-04-07| kwesidei not the...|            0.0|\n",
      "|2009-04-07|         need a hug |         0.4767|\n",
      "|2009-04-07| loltrish hey  lo...|         0.7906|\n",
      "|2009-04-07| tatiana k nope t...|            0.0|\n",
      "|2009-04-07| twittera que me ...|            0.0|\n",
      "|2009-04-07|spring break in p...|            0.0|\n",
      "|2009-04-07|i just re pierced...|            0.0|\n",
      "|2009-04-07| caregiving i cou...|        -0.5994|\n",
      "|2009-04-07| octolinz16 it it...|        -0.1027|\n",
      "|2009-04-07| smarrison i woul...|        -0.4767|\n",
      "|2009-04-07| iamjazzyfizzle i...|         0.2732|\n",
      "|2009-04-07|hollis  death sce...|        -0.9081|\n",
      "|2009-04-07|about to file taxes |            0.0|\n",
      "|2009-04-07| lettya ahh ive a...|         0.6369|\n",
      "|2009-04-07| fakerpattypattz ...|         0.1779|\n",
      "|2009-04-07| alydesigns i was...|            0.0|\n",
      "+----------+--------------------+---------------+\n",
      "only showing top 20 rows\n",
      "\n"
     ]
    },
    {
     "name": "stderr",
     "output_type": "stream",
     "text": [
      "\r",
      "                                                                                \r"
     ]
    }
   ],
   "source": [
    "# Vader analizini uygulayın ve sonuçları yeni bir sütuna ekleyin\n",
    "df_for_sentiment = df_for_sentiment.withColumn(\"sentiment_score\", sentiment_udf(df_for_sentiment[\"text\"]))\n",
    "\n",
    "# Sonuçları göstermek için ilk birkaç satırı görüntüleyebilirsiniz\n",
    "df_for_sentiment.show()"
   ]
  },
  {
   "cell_type": "code",
   "execution_count": 19,
   "id": "54cbd29f",
   "metadata": {},
   "outputs": [],
   "source": [
    "# \"date\" sütununu 'yyyy-MM-dd' formatına dönüştürün\n",
    "df_for_sentiment = df_for_sentiment.withColumn(\"date\", F.to_date(df_for_sentiment[\"date\"]))"
   ]
  },
  {
   "cell_type": "code",
   "execution_count": 20,
   "id": "dd48202c",
   "metadata": {},
   "outputs": [],
   "source": [
    "# Ensure you're using the correct column name in the aggregation\n",
    "daily_sentiment = df_for_sentiment.groupBy(\"date\").agg(avg(\"sentiment_score\").alias(\"avg_sentiment_score\")).orderBy(\"date\")"
   ]
  },
  {
   "cell_type": "code",
   "execution_count": 21,
   "id": "c2df5f2c",
   "metadata": {},
   "outputs": [
    {
     "name": "stderr",
     "output_type": "stream",
     "text": [
      "                                                                                \r"
     ]
    },
    {
     "name": "stdout",
     "output_type": "stream",
     "text": [
      "+----------+-------------------+\n",
      "|      date|avg_sentiment_score|\n",
      "+----------+-------------------+\n",
      "|2009-04-07| 0.1638104692791461|\n",
      "|2009-04-18|0.18738602157202913|\n",
      "|2009-04-19|0.18894100089100915|\n",
      "|2009-04-20|0.17782408521710552|\n",
      "|2009-04-21|0.17327567762269075|\n",
      "|2009-05-02|0.18204625353743725|\n",
      "|2009-05-03| 0.1826210820523057|\n",
      "|2009-05-04|0.17069686148275146|\n",
      "|2009-05-10|0.21331721973947454|\n",
      "|2009-05-11| 0.1945495898343243|\n",
      "|2009-05-12|0.17012766364070722|\n",
      "|2009-05-14|0.16996535817151087|\n",
      "|2009-05-17|0.19635329935688794|\n",
      "|2009-05-18|0.20330047123239273|\n",
      "|2009-05-22|  0.205010983837318|\n",
      "|2009-05-24|0.23156863905325445|\n",
      "|2009-05-25|0.20778757396449699|\n",
      "|2009-05-27|0.17629271882261635|\n",
      "|2009-05-29|  0.195280581307947|\n",
      "|2009-05-30|  0.197959609577845|\n",
      "+----------+-------------------+\n",
      "only showing top 20 rows\n",
      "\n"
     ]
    }
   ],
   "source": [
    "daily_sentiment.show()"
   ]
  },
  {
   "cell_type": "code",
   "execution_count": 22,
   "id": "dfbbd7e4",
   "metadata": {},
   "outputs": [
    {
     "name": "stderr",
     "output_type": "stream",
     "text": [
      "                                                                                \r"
     ]
    }
   ],
   "source": [
    "# Tüm tarih aralığını içerecek şekilde bir tam tarih dizisi oluşturun\n",
    "min_date = daily_sentiment.selectExpr(\"min(date) as min_date\").first().min_date\n",
    "max_date = daily_sentiment.selectExpr(\"max(date) as max_date\").first().max_date"
   ]
  },
  {
   "cell_type": "code",
   "execution_count": 23,
   "id": "c44a97d7",
   "metadata": {},
   "outputs": [],
   "source": [
    "# Tarih dizisini oluşturun (tüm günleri içerecek)\n",
    "date_range = [min_date + timedelta(days=x) for x in range((max_date - min_date).days + 1)]\n",
    "date_range_df = spark.createDataFrame([(date,) for date in date_range], [\"date\"])"
   ]
  },
  {
   "cell_type": "code",
   "execution_count": 24,
   "id": "54729282",
   "metadata": {},
   "outputs": [],
   "source": [
    "# Eksik tarihleri doldurun\n",
    "daily_sentiment = date_range_df.join(daily_sentiment, on=[\"date\"], how=\"left\").orderBy(\"date\").fillna(0, subset=[\"avg_sentiment_score\"])"
   ]
  },
  {
   "cell_type": "code",
   "execution_count": 25,
   "id": "f41b4de3",
   "metadata": {},
   "outputs": [
    {
     "name": "stderr",
     "output_type": "stream",
     "text": [
      "                                                                                \r"
     ]
    },
    {
     "name": "stdout",
     "output_type": "stream",
     "text": [
      "+----------+-------------------+\n",
      "|      date|avg_sentiment_score|\n",
      "+----------+-------------------+\n",
      "|2009-04-07| 0.1638104692791461|\n",
      "|2009-04-08|                0.0|\n",
      "|2009-04-09|                0.0|\n",
      "|2009-04-10|                0.0|\n",
      "|2009-04-11|                0.0|\n",
      "|2009-04-12|                0.0|\n",
      "|2009-04-13|                0.0|\n",
      "|2009-04-14|                0.0|\n",
      "|2009-04-15|                0.0|\n",
      "|2009-04-16|                0.0|\n",
      "|2009-04-17|                0.0|\n",
      "|2009-04-18|0.18738602157202913|\n",
      "|2009-04-19|0.18894100089100915|\n",
      "|2009-04-20|0.17782408521710552|\n",
      "|2009-04-21|0.17327567762269075|\n",
      "|2009-04-22|                0.0|\n",
      "|2009-04-23|                0.0|\n",
      "|2009-04-24|                0.0|\n",
      "|2009-04-25|                0.0|\n",
      "|2009-04-26|                0.0|\n",
      "+----------+-------------------+\n",
      "only showing top 20 rows\n",
      "\n"
     ]
    }
   ],
   "source": [
    "# Sonuçları göstermek için ilk birkaç satırı görüntüleyebilirsiniz\n",
    "daily_sentiment.show()"
   ]
  },
  {
   "cell_type": "code",
   "execution_count": 26,
   "id": "dd4caf8a",
   "metadata": {},
   "outputs": [],
   "source": [
    "# Dash uygulamasını başlatın\n",
    "app = dash.Dash(__name__)"
   ]
  },
  {
   "cell_type": "code",
   "execution_count": 27,
   "id": "8dc912d3",
   "metadata": {},
   "outputs": [
    {
     "name": "stderr",
     "output_type": "stream",
     "text": [
      "                                                                                \r"
     ]
    },
    {
     "data": {
      "text/html": [
       "\n",
       "        <iframe\n",
       "            width=\"100%\"\n",
       "            height=\"650\"\n",
       "            src=\"http://127.0.0.1:8050/\"\n",
       "            frameborder=\"0\"\n",
       "            allowfullscreen\n",
       "            \n",
       "        ></iframe>\n",
       "        "
      ],
      "text/plain": [
       "<IPython.lib.display.IFrame at 0x7faa10488ee0>"
      ]
     },
     "metadata": {},
     "output_type": "display_data"
    }
   ],
   "source": [
    "# Uygulamanın düzenini oluşturun\n",
    "app.layout = html.Div([\n",
    "    dcc.Graph(\n",
    "        id='sentiment-line-chart',\n",
    "        figure=px.line(daily_sentiment, x='date', y='avg_sentiment_score', title='Daily Average Sentiment Score')\n",
    "    )\n",
    "])\n",
    "\n",
    "if __name__ == '__main__':\n",
    "    app.run_server(debug=True)"
   ]
  },
  {
   "cell_type": "code",
   "execution_count": null,
   "id": "a390450d",
   "metadata": {},
   "outputs": [],
   "source": []
  },
  {
   "cell_type": "code",
   "execution_count": null,
   "id": "e4a85131",
   "metadata": {},
   "outputs": [],
   "source": []
  },
  {
   "cell_type": "code",
   "execution_count": null,
   "id": "5a54f6b0",
   "metadata": {},
   "outputs": [],
   "source": []
  },
  {
   "cell_type": "markdown",
   "id": "2eb7aa70",
   "metadata": {},
   "source": [
    "# Lemmatization, Tokenization, StopWordsRemover"
   ]
  },
  {
   "cell_type": "code",
   "execution_count": 28,
   "id": "7cb97431",
   "metadata": {},
   "outputs": [],
   "source": [
    "# Lemmatization using NLTK\n",
    "lemmatizer = WordNetLemmatizer()\n",
    "\n",
    "def lemmatize_text(text):\n",
    "    words = text.split()\n",
    "    lemmatized_words = [lemmatizer.lemmatize(word) for word in words]\n",
    "    return ' '.join(lemmatized_words)\n",
    "\n",
    "lemmatize_udf = udf(lemmatize_text, StringType())\n",
    "df = df.withColumn(\"text\", lemmatize_udf(\"text\"))"
   ]
  },
  {
   "cell_type": "code",
   "execution_count": 29,
   "id": "8abfb5ee",
   "metadata": {},
   "outputs": [],
   "source": [
    "# Tokenization\n",
    "tokenizer = Tokenizer(inputCol=\"text\", outputCol=\"filtered_words\")\n",
    "df = tokenizer.transform(df)"
   ]
  },
  {
   "cell_type": "code",
   "execution_count": 30,
   "id": "df0794fb",
   "metadata": {},
   "outputs": [],
   "source": [
    "# Use StopWordsRemover on the \"filtered_words\" column in your example DataFrame\n",
    "remover = StopWordsRemover(inputCol=\"filtered_words\", outputCol=\"filtered_words_without_stopwords\")\n",
    "df = remover.transform(df)\n",
    "\n",
    "# You can update the column name as per your needs\n",
    "df = df.withColumnRenamed(\"filtered_words_without_stopwords\", \"filtered_words_final\")"
   ]
  },
  {
   "cell_type": "markdown",
   "id": "2ef86ef2",
   "metadata": {},
   "source": [
    "# Preparing the Dataset for the Databases"
   ]
  },
  {
   "cell_type": "code",
   "execution_count": 31,
   "id": "7435bdd7",
   "metadata": {},
   "outputs": [
    {
     "name": "stderr",
     "output_type": "stream",
     "text": [
      "\r",
      "[Stage 24:>                                                         (0 + 1) / 1]\r"
     ]
    },
    {
     "name": "stdout",
     "output_type": "stream",
     "text": [
      "+-----------+----------+----------+--------+---------------+---------------------------------------------------------------------------------+\n",
      "|tweet_index|ids       |date      |flag    |user           |filtered_words_final                                                             |\n",
      "+-----------+----------+----------+--------+---------------+---------------------------------------------------------------------------------+\n",
      "|1          |1467810672|2009-04-07|NO_QUERY|scotthamilton  |[upset, update, facebook, texting, might, cry, result, school, today, also, blah]|\n",
      "|2          |1467810917|2009-04-07|NO_QUERY|mattycus       |[kenichan, dived, many, time, ball, managed, save, 50, rest, go, bound]          |\n",
      "|3          |1467811184|2009-04-07|NO_QUERY|ElleCTF        |[whole, body, feel, itchy, like, fire]                                           |\n",
      "|4          |1467811193|2009-04-07|NO_QUERY|Karoli         |[nationwideclass, behaving, m, mad, see]                                         |\n",
      "|5          |1467811372|2009-04-07|NO_QUERY|joy_wolf       |[kwesidei, whole, crew]                                                          |\n",
      "|6          |1467811592|2009-04-07|NO_QUERY|mybirch        |[need, hug]                                                                      |\n",
      "|7          |1467811594|2009-04-07|NO_QUERY|coZZ           |[loltrish, hey, long, time, see, yes, rain, bit, bit, lol, m, fine, thanks]      |\n",
      "|8          |1467811795|2009-04-07|NO_QUERY|2Hood4Hollywood|[tatiana, k, nope, didn]                                                         |\n",
      "|9          |1467812025|2009-04-07|NO_QUERY|mimismo        |[twittera, que, muera]                                                           |\n",
      "|10         |1467812416|2009-04-07|NO_QUERY|erinx3leannexo |[spring, break, plain, city, snowing]                                            |\n",
      "|11         |1467812579|2009-04-07|NO_QUERY|pardonlauren   |[re, pierced, ear]                                                               |\n",
      "|12         |1467812723|2009-04-07|NO_QUERY|TLeC           |[caregiving, couldn, bear, watch, thought, ua, loss, wa, embarrassing]           |\n",
      "|13         |1467812771|2009-04-07|NO_QUERY|robrobbierobert|[octolinz16, count, idk, either, never, talk, anymore]                           |\n",
      "|14         |1467812784|2009-04-07|NO_QUERY|bayofwolves    |[smarrison, ve, first, didn, gun, really, though, zac, snyder, doucheclown]      |\n",
      "|15         |1467812799|2009-04-07|NO_QUERY|HairByJess     |[iamjazzyfizzle, wish, got, watch, miss, iamlilnicki, wa, premiere]              |\n",
      "|16         |1467812964|2009-04-07|NO_QUERY|lovesongwriter |[hollis, death, scene, hurt, severely, watch, film, wry, director, cut]          |\n",
      "|17         |1467813137|2009-04-07|NO_QUERY|armotley       |[file, tax]                                                                      |\n",
      "|18         |1467813579|2009-04-07|NO_QUERY|starkissed     |[lettya, ahh, ive, always, wanted, see, rent, love, soundtrack]                  |\n",
      "|19         |1467813782|2009-04-07|NO_QUERY|gi_gi_bee      |[fakerpattypattz, oh, dear, drinking, forgotten, table, drink]                   |\n",
      "|20         |1467813985|2009-04-07|NO_QUERY|quanvu         |[alydesigns, wa, day, didn, get, much, done]                                     |\n",
      "+-----------+----------+----------+--------+---------------+---------------------------------------------------------------------------------+\n",
      "only showing top 20 rows\n",
      "\n"
     ]
    },
    {
     "name": "stderr",
     "output_type": "stream",
     "text": [
      "\r",
      "                                                                                \r"
     ]
    }
   ],
   "source": [
    "# Just pick the necessary columns\n",
    "df = df.select('0', 'ids', 'date', 'flag', 'user', 'filtered_words_final')\n",
    "\n",
    "# Rename the \"0\" column to \"index\"\n",
    "df = df.withColumnRenamed(\"0\", \"tweet_index\")\n",
    "\n",
    "# Show the result\n",
    "df.show(truncate=False)"
   ]
  },
  {
   "cell_type": "code",
   "execution_count": 32,
   "id": "ba62fe8b",
   "metadata": {},
   "outputs": [
    {
     "name": "stderr",
     "output_type": "stream",
     "text": [
      "\r",
      "[Stage 25:>                                                         (0 + 1) / 1]\r"
     ]
    },
    {
     "name": "stdout",
     "output_type": "stream",
     "text": [
      "+-----------+----------+----------+--------+---------------+--------------------+\n",
      "|tweet_index|       ids|      date|    flag|           user|filtered_words_final|\n",
      "+-----------+----------+----------+--------+---------------+--------------------+\n",
      "|          1|1467810672|2009-04-07|NO_QUERY|  scotthamilton|[upset, update, f...|\n",
      "|          2|1467810917|2009-04-07|NO_QUERY|       mattycus|[kenichan, dived,...|\n",
      "|          3|1467811184|2009-04-07|NO_QUERY|        ElleCTF|[whole, body, fee...|\n",
      "|          4|1467811193|2009-04-07|NO_QUERY|         Karoli|[nationwideclass,...|\n",
      "|          5|1467811372|2009-04-07|NO_QUERY|       joy_wolf|[kwesidei, whole,...|\n",
      "|          6|1467811592|2009-04-07|NO_QUERY|        mybirch|         [need, hug]|\n",
      "|          7|1467811594|2009-04-07|NO_QUERY|           coZZ|[loltrish, hey, l...|\n",
      "|          8|1467811795|2009-04-07|NO_QUERY|2Hood4Hollywood|[tatiana, k, nope...|\n",
      "|          9|1467812025|2009-04-07|NO_QUERY|        mimismo|[twittera, que, m...|\n",
      "|         10|1467812416|2009-04-07|NO_QUERY| erinx3leannexo|[spring, break, p...|\n",
      "|         11|1467812579|2009-04-07|NO_QUERY|   pardonlauren|  [re, pierced, ear]|\n",
      "|         12|1467812723|2009-04-07|NO_QUERY|           TLeC|[caregiving, coul...|\n",
      "|         13|1467812771|2009-04-07|NO_QUERY|robrobbierobert|[octolinz16, coun...|\n",
      "|         14|1467812784|2009-04-07|NO_QUERY|    bayofwolves|[smarrison, ve, f...|\n",
      "|         15|1467812799|2009-04-07|NO_QUERY|     HairByJess|[iamjazzyfizzle, ...|\n",
      "|         16|1467812964|2009-04-07|NO_QUERY| lovesongwriter|[hollis, death, s...|\n",
      "|         17|1467813137|2009-04-07|NO_QUERY|       armotley|         [file, tax]|\n",
      "|         18|1467813579|2009-04-07|NO_QUERY|     starkissed|[lettya, ahh, ive...|\n",
      "|         19|1467813782|2009-04-07|NO_QUERY|      gi_gi_bee|[fakerpattypattz,...|\n",
      "|         20|1467813985|2009-04-07|NO_QUERY|         quanvu|[alydesigns, wa, ...|\n",
      "+-----------+----------+----------+--------+---------------+--------------------+\n",
      "only showing top 20 rows\n",
      "\n"
     ]
    },
    {
     "name": "stderr",
     "output_type": "stream",
     "text": [
      "\r",
      "                                                                                \r"
     ]
    }
   ],
   "source": [
    "df.dropna().show()"
   ]
  },
  {
   "cell_type": "code",
   "execution_count": 33,
   "id": "1281d496",
   "metadata": {},
   "outputs": [
    {
     "name": "stderr",
     "output_type": "stream",
     "text": [
      "[Stage 26:=============================>                            (1 + 1) / 2]\r"
     ]
    },
    {
     "name": "stdout",
     "output_type": "stream",
     "text": [
      "Total count of values in the dataframe 1599999\n"
     ]
    },
    {
     "name": "stderr",
     "output_type": "stream",
     "text": [
      "\r",
      "                                                                                \r"
     ]
    }
   ],
   "source": [
    "# Count the total number of values in the dataframe\n",
    "total_count = df.count()\n",
    "\n",
    "# Show the total count\n",
    "print(\"Total count of values in the dataframe\", total_count)"
   ]
  },
  {
   "cell_type": "code",
   "execution_count": 34,
   "id": "636066b5",
   "metadata": {},
   "outputs": [],
   "source": [
    "# # Checking the value inside flag column\n",
    "\n",
    "# # Let's check flag column distribution\n",
    "# def create_bar_chart(df):\n",
    "#     flag_counts = df.groupBy(\"flag\").count().orderBy(\"flag\")\n",
    "#     x = flag_counts.select(\"flag\").rdd.flatMap(lambda x: x).collect()\n",
    "#     y = flag_counts.select(\"count\").rdd.flatMap(lambda x: x).collect()\n",
    "\n",
    "#     data = [go.Bar(x=x, y=y)]\n",
    "\n",
    "#     layout = go.Layout(title=\"Flag Distribution\", xaxis=dict(title=\"Flag\"), yaxis=dict(title=\"Count\"))\n",
    "#     fig = go.Figure(data=data, layout=layout)\n",
    "\n",
    "#     return fig\n",
    "\n",
    "# # Dash uygulamasını oluşturun\n",
    "# app = dash.Dash(__name__)\n",
    "\n",
    "# app.layout = html.Div([\n",
    "#     dcc.Graph(id='flag-chart'),\n",
    "# ])\n",
    "\n",
    "# @app.callback(\n",
    "#     Output('flag-chart', 'figure'),\n",
    "#     [Input('flag-chart', 'relayoutData')]\n",
    "# )\n",
    "# def update_chart(relayoutData):\n",
    "#     return create_bar_chart(df)\n",
    "\n",
    "# if __name__ == '__main__':\n",
    "#     app.run_server(debug=True)"
   ]
  },
  {
   "cell_type": "markdown",
   "id": "79986ea3",
   "metadata": {},
   "source": [
    "# MySQL"
   ]
  },
  {
   "cell_type": "code",
   "execution_count": 35,
   "id": "dd55fc93",
   "metadata": {},
   "outputs": [],
   "source": [
    "import pymysql\n",
    "\n",
    "# Connect to the database\n",
    "connection = pymysql.connect(\n",
    "    host=\"localhost\",\n",
    "    user=\"root\",\n",
    "    password=\"password\",\n",
    "    database=\"ProjectTweets\",\n",
    "    charset='utf8mb4',\n",
    "    cursorclass=pymysql.cursors.DictCursor\n",
    ")"
   ]
  },
  {
   "cell_type": "code",
   "execution_count": 36,
   "id": "f13a6c13",
   "metadata": {},
   "outputs": [],
   "source": [
    "# # Create a cursor\n",
    "cursor = connection.cursor()\n",
    "\n",
    "# # Create a table\n",
    "# create_table_sql = \"\"\"\n",
    "# CREATE TABLE Tweets (\n",
    "#     tweet_index INT AUTO_INCREMENT PRIMARY KEY,\n",
    "#     ids BIGINT,\n",
    "#     date DATE,\n",
    "#     flag VARCHAR(55),\n",
    "#     user VARCHAR(255),\n",
    "#     filtered_words_final TEXT\n",
    "# );\n",
    "# \"\"\""
   ]
  },
  {
   "cell_type": "code",
   "execution_count": 37,
   "id": "c9ed8b18",
   "metadata": {},
   "outputs": [],
   "source": [
    "# Create a table\n",
    "#cursor.execute(create_table_sql)\n",
    "\n",
    "# Save changes\n",
    "#connection.commit()"
   ]
  },
  {
   "cell_type": "code",
   "execution_count": 38,
   "id": "36c36c86",
   "metadata": {},
   "outputs": [
    {
     "name": "stdout",
     "output_type": "stream",
     "text": [
      "root\n",
      " |-- tweet_index: integer (nullable = true)\n",
      " |-- ids: long (nullable = true)\n",
      " |-- date: date (nullable = true)\n",
      " |-- flag: string (nullable = true)\n",
      " |-- user: string (nullable = true)\n",
      " |-- filtered_words_final: array (nullable = true)\n",
      " |    |-- element: string (containsNull = true)\n",
      "\n"
     ]
    }
   ],
   "source": [
    "df.printSchema()"
   ]
  },
  {
   "cell_type": "code",
   "execution_count": 39,
   "id": "70aeee81",
   "metadata": {},
   "outputs": [
    {
     "name": "stdout",
     "output_type": "stream",
     "text": [
      "root\n",
      " |-- tweet_index: integer (nullable = true)\n",
      " |-- ids: long (nullable = true)\n",
      " |-- date: date (nullable = true)\n",
      " |-- flag: string (nullable = true)\n",
      " |-- user: string (nullable = true)\n",
      " |-- filtered_words_final: array (nullable = true)\n",
      " |    |-- element: string (containsNull = true)\n",
      " |-- concatenated_words: string (nullable = false)\n",
      "\n"
     ]
    }
   ],
   "source": [
    "# 'filtered_words_final' adındaki sütunu virgülle ayrılmış bir metin sütunu olarak birleştirin.\n",
    "df = df.withColumn('concatenated_words', concat_ws(\",\", df['filtered_words_final']))\n",
    "df.printSchema()"
   ]
  },
  {
   "cell_type": "code",
   "execution_count": 40,
   "id": "3078f1b2",
   "metadata": {},
   "outputs": [
    {
     "name": "stderr",
     "output_type": "stream",
     "text": [
      "\r",
      "[Stage 28:>                                                         (0 + 1) / 1]\r"
     ]
    },
    {
     "name": "stdout",
     "output_type": "stream",
     "text": [
      "+-----------+----------+----------+--------+-------------+---------------------------------------------------------------------+\n",
      "|tweet_index|ids       |date      |flag    |user         |concatenated_words                                                   |\n",
      "+-----------+----------+----------+--------+-------------+---------------------------------------------------------------------+\n",
      "|1          |1467810672|2009-04-07|NO_QUERY|scotthamilton|upset,update,facebook,texting,might,cry,result,school,today,also,blah|\n",
      "+-----------+----------+----------+--------+-------------+---------------------------------------------------------------------+\n",
      "only showing top 1 row\n",
      "\n"
     ]
    },
    {
     "name": "stderr",
     "output_type": "stream",
     "text": [
      "\r",
      "                                                                                \r"
     ]
    }
   ],
   "source": [
    "df = df.select('tweet_index', 'ids', 'date', 'flag', 'user', 'concatenated_words')\n",
    "df.show(1, truncate=False)"
   ]
  },
  {
   "cell_type": "code",
   "execution_count": 41,
   "id": "bb94110a",
   "metadata": {},
   "outputs": [
    {
     "name": "stdout",
     "output_type": "stream",
     "text": [
      "root\n",
      " |-- tweet_index: integer (nullable = true)\n",
      " |-- ids: long (nullable = true)\n",
      " |-- date: date (nullable = true)\n",
      " |-- flag: string (nullable = true)\n",
      " |-- user: string (nullable = true)\n",
      " |-- concatenated_words: string (nullable = false)\n",
      "\n"
     ]
    }
   ],
   "source": [
    "df.printSchema()"
   ]
  },
  {
   "cell_type": "code",
   "execution_count": 42,
   "id": "8ebaf4e6",
   "metadata": {},
   "outputs": [],
   "source": [
    "mysql_url = \"jdbc:mysql://localhost:3306/ProjectTweets\"\n",
    "mysql_properties = {\n",
    "    \"user\": \"root\",\n",
    "    \"password\": \"password\",\n",
    "}\n"
   ]
  },
  {
   "cell_type": "code",
   "execution_count": 43,
   "id": "b60333aa",
   "metadata": {},
   "outputs": [],
   "source": [
    "# df.write.jdbc(url=mysql_url, table=\"Tweets\", mode=\"overwrite\", properties=mysql_properties)"
   ]
  },
  {
   "cell_type": "code",
   "execution_count": 44,
   "id": "f6ed197a",
   "metadata": {},
   "outputs": [],
   "source": [
    "# # ALTER TABLE sorgusunu çalıştır\n",
    "# alter_table_sql = \"ALTER TABLE Tweets ADD COLUMN YCSB_KEY VARCHAR(255);\"\n",
    "# cursor.execute(alter_table_sql)"
   ]
  },
  {
   "cell_type": "code",
   "execution_count": 45,
   "id": "dc894c55",
   "metadata": {},
   "outputs": [],
   "source": [
    "# Değişiklikleri kaydet\n",
    "connection.commit()"
   ]
  },
  {
   "cell_type": "code",
   "execution_count": 46,
   "id": "c638b98f",
   "metadata": {},
   "outputs": [],
   "source": [
    "df_from_mysql = spark.read.jdbc(url=mysql_url, table=\"Tweets\", properties=mysql_properties)"
   ]
  },
  {
   "cell_type": "code",
   "execution_count": 47,
   "id": "bdd4815d",
   "metadata": {},
   "outputs": [
    {
     "name": "stderr",
     "output_type": "stream",
     "text": [
      "\r",
      "[Stage 29:>                                                         (0 + 1) / 1]\r"
     ]
    },
    {
     "name": "stdout",
     "output_type": "stream",
     "text": [
      "+-----------+----------+----------+--------+---------------+--------------------+--------+\n",
      "|tweet_index|       ids|      date|    flag|           user|  concatenated_words|YCSB_KEY|\n",
      "+-----------+----------+----------+--------+---------------+--------------------+--------+\n",
      "|          1|1467810672|2009-04-07|NO_QUERY|  scotthamilton|upset,update,face...|    null|\n",
      "|          2|1467810917|2009-04-07|NO_QUERY|       mattycus|kenichan,dived,ma...|    null|\n",
      "|          3|1467811184|2009-04-07|NO_QUERY|        ElleCTF|whole,body,feel,i...|    null|\n",
      "|          4|1467811193|2009-04-07|NO_QUERY|         Karoli|nationwideclass,b...|    null|\n",
      "|          5|1467811372|2009-04-07|NO_QUERY|       joy_wolf| kwesidei,whole,crew|    null|\n",
      "|          6|1467811592|2009-04-07|NO_QUERY|        mybirch|            need,hug|    null|\n",
      "|          7|1467811594|2009-04-07|NO_QUERY|           coZZ|loltrish,hey,long...|    null|\n",
      "|          8|1467811795|2009-04-07|NO_QUERY|2Hood4Hollywood| tatiana,k,nope,didn|    null|\n",
      "|          9|1467812025|2009-04-07|NO_QUERY|        mimismo|  twittera,que,muera|    null|\n",
      "|         10|1467812416|2009-04-07|NO_QUERY| erinx3leannexo|spring,break,plai...|    null|\n",
      "|         11|1467812579|2009-04-07|NO_QUERY|   pardonlauren|      re,pierced,ear|    null|\n",
      "|         12|1467812723|2009-04-07|NO_QUERY|           TLeC|caregiving,couldn...|    null|\n",
      "|         13|1467812771|2009-04-07|NO_QUERY|robrobbierobert|octolinz16,count,...|    null|\n",
      "|         14|1467812784|2009-04-07|NO_QUERY|    bayofwolves|smarrison,ve,firs...|    null|\n",
      "|         15|1467812799|2009-04-07|NO_QUERY|     HairByJess|iamjazzyfizzle,wi...|    null|\n",
      "|         16|1467812964|2009-04-07|NO_QUERY| lovesongwriter|hollis,death,scen...|    null|\n",
      "|         17|1467813137|2009-04-07|NO_QUERY|       armotley|            file,tax|    null|\n",
      "|         18|1467813579|2009-04-07|NO_QUERY|     starkissed|lettya,ahh,ive,al...|    null|\n",
      "|         19|1467813782|2009-04-07|NO_QUERY|      gi_gi_bee|fakerpattypattz,o...|    null|\n",
      "|         20|1467813985|2009-04-07|NO_QUERY|         quanvu|alydesigns,wa,day...|    null|\n",
      "+-----------+----------+----------+--------+---------------+--------------------+--------+\n",
      "only showing top 20 rows\n",
      "\n"
     ]
    },
    {
     "name": "stderr",
     "output_type": "stream",
     "text": [
      "\r",
      "                                                                                \r"
     ]
    }
   ],
   "source": [
    "df_from_mysql.show()"
   ]
  },
  {
   "cell_type": "code",
   "execution_count": 48,
   "id": "7a1206f2",
   "metadata": {},
   "outputs": [],
   "source": [
    "# # Create a cursor\n",
    "# cursor = connection.cursor()\n",
    "\n",
    "# # Create a table\n",
    "# create_table_sql = \"\"\"\n",
    "# CREATE TABLE YCSB_TEST (\n",
    "#     tweet_index INT AUTO_INCREMENT PRIMARY KEY,\n",
    "#     ids BIGINT,\n",
    "#     date DATE,\n",
    "#     flag VARCHAR(55),\n",
    "#     user VARCHAR(255),\n",
    "#     filtered_words_final TEXT,\n",
    "#     YCSB_KEY VARCHAR(255)\n",
    "# );\n",
    "# \"\"\"\n",
    "\n"
   ]
  },
  {
   "cell_type": "code",
   "execution_count": 49,
   "id": "3c2d8c3b",
   "metadata": {},
   "outputs": [],
   "source": [
    "# #Create a table\n",
    "# cursor.execute(create_table_sql)\n",
    "\n",
    "# #Save changes\n",
    "# connection.commit()"
   ]
  },
  {
   "cell_type": "code",
   "execution_count": 50,
   "id": "fb6340c8",
   "metadata": {
    "scrolled": true
   },
   "outputs": [
    {
     "name": "stdout",
     "output_type": "stream",
     "text": [
      "YCSB operation completed successfully.\n",
      "Output:\n",
      "/usr/bin/java  -classpath /home/hduser/ycsb-0.17.0/conf:/home/hduser/ycsb-0.17.0/lib/HdrHistogram-2.1.4.jar:/home/hduser/ycsb-0.17.0/lib/core-0.17.0.jar:/home/hduser/ycsb-0.17.0/lib/htrace-core4-4.1.0-incubating.jar:/home/hduser/ycsb-0.17.0/lib/jackson-core-asl-1.9.4.jar:/home/hduser/ycsb-0.17.0/lib/jackson-mapper-asl-1.9.4.jar:/home/hduser/ycsb-0.17.0/jdbc-binding/conf:/home/hduser/ycsb-0.17.0/jdbc-binding/lib/commons-collections-3.2.1.jar:/home/hduser/ycsb-0.17.0/jdbc-binding/lib/commons-lang-2.4.jar:/home/hduser/ycsb-0.17.0/jdbc-binding/lib/commons-pool-1.5.4.jar:/home/hduser/ycsb-0.17.0/jdbc-binding/lib/geronimo-jms_1.1_spec-1.1.1.jar:/home/hduser/ycsb-0.17.0/jdbc-binding/lib/geronimo-jta_1.1_spec-1.1.1.jar:/home/hduser/ycsb-0.17.0/jdbc-binding/lib/jdbc-binding-0.17.0.jar:/home/hduser/ycsb-0.17.0/jdbc-binding/lib/mysql-connector-j-8.0.33.jar:/home/hduser/ycsb-0.17.0/jdbc-binding/lib/mysql-connector-java-8.0.30.jar:/home/hduser/ycsb-0.17.0/jdbc-binding/lib/openjpa-jdbc-2.1.1.jar:/home/hduser/ycsb-0.17.0/jdbc-binding/lib/openjpa-kernel-2.1.1.jar:/home/hduser/ycsb-0.17.0/jdbc-binding/lib/openjpa-lib-2.1.1.jar:/home/hduser/ycsb-0.17.0/jdbc-binding/lib/serp-1.13.1.jar site.ycsb.Client -load -db site.ycsb.db.JdbcDBClient -P /home/hduser/ycsb-0.17.0/jdbc-binding/conf/db.properties -P /home/hduser/ycsb-0.17.0/workloads/workloada -p db.connection_properties=user=root&password=password&useSSL=false -p jdbc.url=jdbc:mysql://localhost:3306/ProjectTweets -p table=YCSB_TEST\n",
      "Adding shard node URL: jdbc:mysql://localhost:3306/ProjectTweets\n",
      "Using shards: 1, batchSize:-1, fetchSize: -1\n",
      "[OVERALL], RunTime(ms), 1377\n",
      "[OVERALL], Throughput(ops/sec), 0.0\n",
      "[TOTAL_GCS_Copy], Count, 0\n",
      "[TOTAL_GC_TIME_Copy], Time(ms), 0\n",
      "[TOTAL_GC_TIME_%_Copy], Time(%), 0.0\n",
      "[TOTAL_GCS_MarkSweepCompact], Count, 0\n",
      "[TOTAL_GC_TIME_MarkSweepCompact], Time(ms), 0\n",
      "[TOTAL_GC_TIME_%_MarkSweepCompact], Time(%), 0.0\n",
      "[TOTAL_GCs], Count, 0\n",
      "[TOTAL_GC_TIME], Time(ms), 0\n",
      "[TOTAL_GC_TIME_%], Time(%), 0.0\n",
      "[CLEANUP], Operations, 1\n",
      "[CLEANUP], AverageLatency(us), 2313.0\n",
      "[CLEANUP], MinLatency(us), 2312\n",
      "[CLEANUP], MaxLatency(us), 2313\n",
      "[CLEANUP], 95thPercentileLatency(us), 2313\n",
      "[CLEANUP], 99thPercentileLatency(us), 2313\n",
      "[INSERT], Operations, 0\n",
      "[INSERT], AverageLatency(us), NaN\n",
      "[INSERT], MinLatency(us), 9223372036854775807\n",
      "[INSERT], MaxLatency(us), 0\n",
      "[INSERT], 95thPercentileLatency(us), 0\n",
      "[INSERT], 99thPercentileLatency(us), 0\n",
      "[INSERT], Return=ERROR, 1\n",
      "[INSERT-FAILED], Operations, 1\n",
      "[INSERT-FAILED], AverageLatency(us), 48528.0\n",
      "[INSERT-FAILED], MinLatency(us), 48512\n",
      "[INSERT-FAILED], MaxLatency(us), 48543\n",
      "[INSERT-FAILED], 95thPercentileLatency(us), 48543\n",
      "[INSERT-FAILED], 99thPercentileLatency(us), 48543\n",
      "\n"
     ]
    }
   ],
   "source": [
    "import subprocess\n",
    "\n",
    "command = \"/home/hduser/ycsb-0.17.0/bin/ycsb.sh load jdbc -P /home/hduser/ycsb-0.17.0/jdbc-binding/conf/db.properties -P /home/hduser/ycsb-0.17.0/workloads/workloada -p db.connection_properties=\\\"user=root&password=password&useSSL=false\\\" -p jdbc.url=jdbc:mysql://localhost:3306/ProjectTweets -p table=YCSB_TEST\"\n",
    "\n",
    "process = subprocess.Popen(command, shell=True, stdout=subprocess.PIPE, stderr=subprocess.PIPE)\n",
    "stdout, stderr = process.communicate()\n",
    "\n",
    "if process.returncode == 0:\n",
    "    print(\"YCSB operation completed successfully.\")\n",
    "    print(\"Output:\")\n",
    "    print(stdout.decode('utf-8'))\n",
    "else:\n",
    "    print(\"YCSB operation failed. Error message:\")\n",
    "    print(stderr.decode('utf-8'))\n"
   ]
  },
  {
   "cell_type": "code",
   "execution_count": 51,
   "id": "8353813a",
   "metadata": {},
   "outputs": [
    {
     "name": "stderr",
     "output_type": "stream",
     "text": [
      "\r",
      "[Stage 30:>                                                         (0 + 1) / 1]\r"
     ]
    },
    {
     "name": "stdout",
     "output_type": "stream",
     "text": [
      "+-----------+----------+----------+--------+---------------+--------------------+--------+\n",
      "|tweet_index|       ids|      date|    flag|           user|  concatenated_words|YCSB_KEY|\n",
      "+-----------+----------+----------+--------+---------------+--------------------+--------+\n",
      "|          1|1467810672|2009-04-07|NO_QUERY|  scotthamilton|upset,update,face...|    null|\n",
      "|          2|1467810917|2009-04-07|NO_QUERY|       mattycus|kenichan,dived,ma...|    null|\n",
      "|          3|1467811184|2009-04-07|NO_QUERY|        ElleCTF|whole,body,feel,i...|    null|\n",
      "|          4|1467811193|2009-04-07|NO_QUERY|         Karoli|nationwideclass,b...|    null|\n",
      "|          5|1467811372|2009-04-07|NO_QUERY|       joy_wolf| kwesidei,whole,crew|    null|\n",
      "|          6|1467811592|2009-04-07|NO_QUERY|        mybirch|            need,hug|    null|\n",
      "|          7|1467811594|2009-04-07|NO_QUERY|           coZZ|loltrish,hey,long...|    null|\n",
      "|          8|1467811795|2009-04-07|NO_QUERY|2Hood4Hollywood| tatiana,k,nope,didn|    null|\n",
      "|          9|1467812025|2009-04-07|NO_QUERY|        mimismo|  twittera,que,muera|    null|\n",
      "|         10|1467812416|2009-04-07|NO_QUERY| erinx3leannexo|spring,break,plai...|    null|\n",
      "|         11|1467812579|2009-04-07|NO_QUERY|   pardonlauren|      re,pierced,ear|    null|\n",
      "|         12|1467812723|2009-04-07|NO_QUERY|           TLeC|caregiving,couldn...|    null|\n",
      "|         13|1467812771|2009-04-07|NO_QUERY|robrobbierobert|octolinz16,count,...|    null|\n",
      "|         14|1467812784|2009-04-07|NO_QUERY|    bayofwolves|smarrison,ve,firs...|    null|\n",
      "|         15|1467812799|2009-04-07|NO_QUERY|     HairByJess|iamjazzyfizzle,wi...|    null|\n",
      "|         16|1467812964|2009-04-07|NO_QUERY| lovesongwriter|hollis,death,scen...|    null|\n",
      "|         17|1467813137|2009-04-07|NO_QUERY|       armotley|            file,tax|    null|\n",
      "|         18|1467813579|2009-04-07|NO_QUERY|     starkissed|lettya,ahh,ive,al...|    null|\n",
      "|         19|1467813782|2009-04-07|NO_QUERY|      gi_gi_bee|fakerpattypattz,o...|    null|\n",
      "|         20|1467813985|2009-04-07|NO_QUERY|         quanvu|alydesigns,wa,day...|    null|\n",
      "+-----------+----------+----------+--------+---------------+--------------------+--------+\n",
      "only showing top 20 rows\n",
      "\n"
     ]
    },
    {
     "name": "stderr",
     "output_type": "stream",
     "text": [
      "\r",
      "                                                                                \r"
     ]
    }
   ],
   "source": [
    "df_from_mysql.show()"
   ]
  },
  {
   "cell_type": "code",
   "execution_count": 52,
   "id": "d9c94311",
   "metadata": {},
   "outputs": [
    {
     "name": "stdout",
     "output_type": "stream",
     "text": [
      "root\n",
      " |-- tweet_index: integer (nullable = true)\n",
      " |-- ids: long (nullable = true)\n",
      " |-- date: date (nullable = true)\n",
      " |-- flag: string (nullable = true)\n",
      " |-- user: string (nullable = true)\n",
      " |-- concatenated_words: string (nullable = true)\n",
      " |-- YCSB_KEY: string (nullable = true)\n",
      "\n"
     ]
    }
   ],
   "source": [
    "df_from_mysql.printSchema()"
   ]
  },
  {
   "cell_type": "markdown",
   "id": "71c9c746",
   "metadata": {},
   "source": [
    "### Due to unidentified Issue I decided to use cProfile instead of YCSB"
   ]
  },
  {
   "cell_type": "code",
   "execution_count": 53,
   "id": "4eb24e84",
   "metadata": {},
   "outputs": [],
   "source": [
    "# Örnek bir sorgu\n",
    "query = \"SELECT * FROM Tweets WHERE concatenated_words\""
   ]
  },
  {
   "cell_type": "code",
   "execution_count": 54,
   "id": "3c6d222c",
   "metadata": {
    "scrolled": true
   },
   "outputs": [
    {
     "name": "stdout",
     "output_type": "stream",
     "text": [
      "         1131333 function calls in 2.047 seconds\n",
      "\n",
      "   Ordered by: cumulative time\n",
      "\n",
      "   ncalls  tottime  percall  cumtime  percall filename:lineno(function)\n",
      "        1    0.000    0.000    2.047    2.047 {built-in method builtins.exec}\n",
      "        1    0.001    0.001    2.047    2.047 <string>:1(<module>)\n",
      "        1    0.000    0.000    2.046    2.046 3302925674.py:3(perform_query)\n",
      "        1    0.000    0.000    2.046    2.046 cursors.py:133(execute)\n",
      "        1    0.000    0.000    2.046    2.046 cursors.py:319(_query)\n",
      "        1    0.000    0.000    1.994    1.994 connections.py:552(query)\n",
      "        1    0.000    0.000    1.991    1.991 connections.py:810(_read_query_result)\n",
      "        1    0.000    0.000    1.991    1.991 connections.py:1198(read)\n",
      "        1    0.000    0.000    1.972    1.972 connections.py:1281(_read_result_packet)\n",
      "        1    0.051    0.051    1.972    1.972 connections.py:1327(_read_rowdata_packet)\n",
      "    16867    0.045    0.000    1.475    0.000 connections.py:730(_read_packet)\n",
      "    33734    0.038    0.000    1.422    0.000 connections.py:775(_read_bytes)\n",
      "    33734    0.009    0.000    1.339    0.000 {method 'read' of '_io.BufferedReader' objects}\n",
      "      223    0.001    0.000    1.331    0.006 socket.py:691(readinto)\n",
      "      223    1.330    0.006    1.330    0.006 {method 'recv_into' of '_socket.socket' objects}\n",
      "    16857    0.113    0.000    0.457    0.000 connections.py:1340(_read_row_from_packet)\n",
      "   118041    0.053    0.000    0.225    0.000 protocol.py:165(read_length_coded_string)\n",
      "   118042    0.046    0.000    0.106    0.000 protocol.py:147(read_length_encoded_integer)\n",
      "    16857    0.050    0.000    0.092    0.000 converters.py:281(convert_date)\n",
      "   101184    0.061    0.000    0.067    0.000 protocol.py:62(read)\n",
      "   118042    0.060    0.000    0.060    0.000 protocol.py:114(read_uint8)\n",
      "        1    0.000    0.000    0.053    0.053 cursors.py:385(_do_get_result)\n",
      "        1    0.004    0.004    0.053    0.053 cursors.py:397(<listcomp>)\n",
      "    16857    0.048    0.000    0.048    0.000 cursors.py:399(_conv_row)\n",
      "    33735    0.042    0.000    0.042    0.000 {method 'settimeout' of '_socket.socket' objects}\n",
      "    16857    0.024    0.000    0.024    0.000 {method 'split' of 'str' objects}\n",
      "   101170    0.017    0.000    0.017    0.000 {method 'decode' of 'bytes' objects}\n",
      "    16857    0.015    0.000    0.015    0.000 converters.py:297(<listcomp>)\n",
      "   134884    0.011    0.000    0.011    0.000 {method 'append' of 'list' objects}\n",
      "   134933    0.008    0.000    0.008    0.000 {built-in method builtins.len}\n",
      "    16858    0.004    0.000    0.007    0.000 connections.py:1268(_check_packet_is_eof)\n",
      "    16867    0.003    0.000    0.003    0.000 {built-in method _struct.unpack}\n",
      "    16867    0.003    0.000    0.003    0.000 protocol.py:55(__init__)\n",
      "       10    0.003    0.000    0.003    0.000 {method 'sendall' of '_socket.socket' objects}\n",
      "    16867    0.003    0.000    0.003    0.000 protocol.py:208(is_error_packet)\n",
      "        1    0.000    0.000    0.003    0.003 connections.py:834(_execute_command)\n",
      "        1    0.000    0.000    0.003    0.003 connections.py:800(_write_bytes)\n",
      "    16904    0.003    0.000    0.003    0.000 {built-in method builtins.isinstance}\n",
      "    16860    0.002    0.000    0.002    0.000 protocol.py:187(is_eof_packet)\n",
      "        9    0.000    0.000    0.001    0.000 java_gateway.py:1340(<lambda>)\n",
      "        9    0.000    0.000    0.001    0.000 java_gateway.py:638(_garbage_collect_object)\n",
      "        9    0.000    0.000    0.001    0.000 java_gateway.py:956(garbage_collect_object)\n",
      "        9    0.000    0.000    0.001    0.000 java_gateway.py:1010(send_command)\n",
      "        9    0.000    0.000    0.000    0.000 java_gateway.py:1178(send_command)\n",
      "        1    0.000    0.000    0.000    0.000 connections.py:1359(_get_descriptions)\n",
      "      223    0.000    0.000    0.000    0.000 {method '_checkReadable' of '_io._IOBase' objects}\n",
      "        7    0.000    0.000    0.000    0.000 protocol.py:234(__init__)\n",
      "        7    0.000    0.000    0.000    0.000 protocol.py:238(_parse_field_descriptor)\n",
      "      223    0.000    0.000    0.000    0.000 socket.py:730(readable)\n",
      "      223    0.000    0.000    0.000    0.000 {method '_checkClosed' of '_io._IOBase' objects}\n",
      "        9    0.000    0.000    0.000    0.000 finalizer.py:45(remove_finalizer)\n",
      "        9    0.000    0.000    0.000    0.000 {method 'readline' of '_io.BufferedReader' objects}\n",
      "        8    0.000    0.000    0.000    0.000 protocol.py:177(read_struct)\n",
      "        7    0.000    0.000    0.000    0.000 protocol.py:259(description)\n",
      "       18    0.000    0.000    0.000    0.000 {method 'format' of 'str' objects}\n",
      "        9    0.000    0.000    0.000    0.000 {method 'pop' of 'dict' objects}\n",
      "       27    0.000    0.000    0.000    0.000 protocol.py:214(smart_decode)\n",
      "       18    0.000    0.000    0.000    0.000 __init__.py:1455(debug)\n",
      "        1    0.000    0.000    0.000    0.000 protocol.py:323(__init__)\n",
      "        9    0.000    0.000    0.000    0.000 java_gateway.py:973(_get_connection)\n",
      "        9    0.000    0.000    0.000    0.000 protocol.py:380(is_fatal_error)\n",
      "        9    0.000    0.000    0.000    0.000 java_gateway.py:988(_give_back_connection)\n",
      "       18    0.000    0.000    0.000    0.000 __init__.py:1724(isEnabledFor)\n",
      "        2    0.000    0.000    0.000    0.000 cursors.py:97(nextset)\n",
      "        1    0.000    0.000    0.000    0.000 cursors.py:294(fetchall)\n",
      "        1    0.000    0.000    0.000    0.000 connections.py:539(cursor)\n",
      "        1    0.000    0.000    0.000    0.000 cursors.py:45(close)\n",
      "       14    0.000    0.000    0.000    0.000 protocol.py:271(get_column_length)\n",
      "        9    0.000    0.000    0.000    0.000 {method 'startswith' of 'str' objects}\n",
      "        1    0.000    0.000    0.000    0.000 connections.py:1178(__init__)\n",
      "        2    0.000    0.000    0.000    0.000 cursors.py:83(_nextset)\n",
      "        1    0.000    0.000    0.000    0.000 cursors.py:336(_do_get_result)\n",
      "       10    0.000    0.000    0.000    0.000 {method 'encode' of 'str' objects}\n",
      "        1    0.000    0.000    0.000    0.000 cursors.py:34(__init__)\n",
      "        8    0.000    0.000    0.000    0.000 {method 'unpack_from' of '_struct.Struct' objects}\n",
      "        9    0.000    0.000    0.000    0.000 {method 'pop' of 'collections.deque' objects}\n",
      "        5    0.000    0.000    0.000    0.000 cursors.py:65(_get_db)\n",
      "        9    0.000    0.000    0.000    0.000 {method '__exit__' of '_thread.RLock' objects}\n",
      "        9    0.000    0.000    0.000    0.000 {method 'append' of 'collections.deque' objects}\n",
      "        1    0.000    0.000    0.000    0.000 {built-in method _struct.pack}\n",
      "        9    0.000    0.000    0.000    0.000 {method 'get' of 'dict' objects}\n",
      "        9    0.000    0.000    0.000    0.000 {method 'strip' of 'str' objects}\n",
      "        1    0.000    0.000    0.000    0.000 cursors.py:110(mogrify)\n",
      "        1    0.000    0.000    0.000    0.000 cursors.py:326(_clear_result)\n",
      "        1    0.000    0.000    0.000    0.000 {method 'disable' of '_lsprof.Profiler' objects}\n",
      "        1    0.000    0.000    0.000    0.000 {built-in method builtins.min}\n",
      "        1    0.000    0.000    0.000    0.000 cursors.py:70(_check_executed)\n",
      "        1    0.000    0.000    0.000    0.000 protocol.py:183(is_ok_packet)\n",
      "        1    0.000    0.000    0.000    0.000 protocol.py:205(is_load_local_packet)\n",
      "\n",
      "\n"
     ]
    }
   ],
   "source": [
    "import cProfile\n",
    "\n",
    "def perform_query():\n",
    "    cursor = connection.cursor()\n",
    "    cursor.execute(query)\n",
    "    results = cursor.fetchall()\n",
    "    cursor.close()\n",
    "\n",
    "if __name__ == '__main__':\n",
    "    cProfile.run(\"perform_query()\", sort=\"cumulative\")"
   ]
  },
  {
   "cell_type": "markdown",
   "id": "62f15c6d",
   "metadata": {},
   "source": [
    "    Total calls: 1,131,181\n",
    "    Total time: 3.526 seconds\n",
    "\n",
    "Top time-consuming functions:\n",
    "\n",
    "    {built-in method builtins.exec}: 3.526 seconds\n",
    "    <string>:1(<module>): 3.526 seconds\n",
    "    3302925674.py:3(perform_query): 3.524 seconds\n",
    "    cursors.py:133(execute): 3.524 seconds\n",
    "    cursors.py:319(_query): 3.524 seconds"
   ]
  },
  {
   "cell_type": "markdown",
   "id": "8ee114bb",
   "metadata": {},
   "source": [
    "# Hive"
   ]
  },
  {
   "cell_type": "code",
   "execution_count": 55,
   "id": "8215b606",
   "metadata": {},
   "outputs": [],
   "source": [
    "df.createOrReplaceTempView(\"temp_table\")"
   ]
  },
  {
   "cell_type": "code",
   "execution_count": 56,
   "id": "6f96c9f9",
   "metadata": {},
   "outputs": [],
   "source": [
    "# create_table_sql = \"\"\"\n",
    "# CREATE TABLE ProjectTweets (\n",
    "#     tweet_index INT,\n",
    "#     ids BIGINT,\n",
    "#     date DATE,\n",
    "#     flag STRING,\n",
    "#     user STRING,\n",
    "#     filtered_words_final STRING\n",
    "# )\n",
    "# STORED AS PARQUET\n",
    "# \"\"\"\n",
    "# spark.sql(create_table_sql)"
   ]
  },
  {
   "cell_type": "code",
   "execution_count": 57,
   "id": "e014f4bc",
   "metadata": {},
   "outputs": [],
   "source": [
    "# hive_insert_data_sql = \"\"\"\n",
    "# INSERT INTO ProjectTweets SELECT * FROM temp_table\n",
    "# \"\"\""
   ]
  },
  {
   "cell_type": "code",
   "execution_count": 58,
   "id": "86a95903",
   "metadata": {},
   "outputs": [],
   "source": [
    "# spark.sql(hive_insert_data_sql)"
   ]
  },
  {
   "cell_type": "code",
   "execution_count": 59,
   "id": "3d910743",
   "metadata": {},
   "outputs": [
    {
     "name": "stderr",
     "output_type": "stream",
     "text": [
      "2023-11-06 13:03:24,623 WARN conf.HiveConf: HiveConf of name hive.stats.jdbc.timeout does not exist\n",
      "2023-11-06 13:03:24,633 WARN conf.HiveConf: HiveConf of name hive.stats.retries.wait does not exist\n",
      "2023-11-06 13:03:28,698 WARN metastore.ObjectStore: Version information not found in metastore. hive.metastore.schema.verification is not enabled so recording the schema version 2.3.0\n",
      "2023-11-06 13:03:28,698 WARN metastore.ObjectStore: setMetaStoreSchemaVersion called but recording version is disabled: version = 2.3.0, comment = Set by MetaStore hduser@127.0.1.1\n",
      "[Stage 31:>                                                         (0 + 1) / 1]\r"
     ]
    },
    {
     "name": "stdout",
     "output_type": "stream",
     "text": [
      "+-----------+----------+----------+--------+---------------+--------------------+\n",
      "|tweet_index|       ids|      date|    flag|           user|filtered_words_final|\n",
      "+-----------+----------+----------+--------+---------------+--------------------+\n",
      "|          1|1467810672|2009-04-07|NO_QUERY|  scotthamilton|upset,update,face...|\n",
      "|          2|1467810917|2009-04-07|NO_QUERY|       mattycus|kenichan,dived,ma...|\n",
      "|          3|1467811184|2009-04-07|NO_QUERY|        ElleCTF|whole,body,feel,i...|\n",
      "|          4|1467811193|2009-04-07|NO_QUERY|         Karoli|nationwideclass,b...|\n",
      "|          5|1467811372|2009-04-07|NO_QUERY|       joy_wolf| kwesidei,whole,crew|\n",
      "|          6|1467811592|2009-04-07|NO_QUERY|        mybirch|            need,hug|\n",
      "|          7|1467811594|2009-04-07|NO_QUERY|           coZZ|loltrish,hey,long...|\n",
      "|          8|1467811795|2009-04-07|NO_QUERY|2Hood4Hollywood| tatiana,k,nope,didn|\n",
      "|          9|1467812025|2009-04-07|NO_QUERY|        mimismo|  twittera,que,muera|\n",
      "|         10|1467812416|2009-04-07|NO_QUERY| erinx3leannexo|spring,break,plai...|\n",
      "|         11|1467812579|2009-04-07|NO_QUERY|   pardonlauren|      re,pierced,ear|\n",
      "|         12|1467812723|2009-04-07|NO_QUERY|           TLeC|caregiving,couldn...|\n",
      "|         13|1467812771|2009-04-07|NO_QUERY|robrobbierobert|octolinz16,count,...|\n",
      "|         14|1467812784|2009-04-07|NO_QUERY|    bayofwolves|smarrison,ve,firs...|\n",
      "|         15|1467812799|2009-04-07|NO_QUERY|     HairByJess|iamjazzyfizzle,wi...|\n",
      "|         16|1467812964|2009-04-07|NO_QUERY| lovesongwriter|hollis,death,scen...|\n",
      "|         17|1467813137|2009-04-07|NO_QUERY|       armotley|            file,tax|\n",
      "|         18|1467813579|2009-04-07|NO_QUERY|     starkissed|lettya,ahh,ive,al...|\n",
      "|         19|1467813782|2009-04-07|NO_QUERY|      gi_gi_bee|fakerpattypattz,o...|\n",
      "|         20|1467813985|2009-04-07|NO_QUERY|         quanvu|alydesigns,wa,day...|\n",
      "+-----------+----------+----------+--------+---------------+--------------------+\n",
      "only showing top 20 rows\n",
      "\n"
     ]
    },
    {
     "name": "stderr",
     "output_type": "stream",
     "text": [
      "\r",
      "                                                                                \r"
     ]
    }
   ],
   "source": [
    "# Query\n",
    "result = spark.sql(\"SELECT * FROM ProjectTweets\")\n",
    "\n",
    "# Show Result\n",
    "result.show()"
   ]
  },
  {
   "cell_type": "code",
   "execution_count": 60,
   "id": "803cd862",
   "metadata": {},
   "outputs": [
    {
     "name": "stdout",
     "output_type": "stream",
     "text": [
      "YCSB operation completed successfully.\n",
      "Output:\n",
      "/usr/bin/java  -classpath /home/hduser/ycsb-0.17.0/conf:/home/hduser/ycsb-0.17.0/lib/HdrHistogram-2.1.4.jar:/home/hduser/ycsb-0.17.0/lib/core-0.17.0.jar:/home/hduser/ycsb-0.17.0/lib/htrace-core4-4.1.0-incubating.jar:/home/hduser/ycsb-0.17.0/lib/jackson-core-asl-1.9.4.jar:/home/hduser/ycsb-0.17.0/lib/jackson-mapper-asl-1.9.4.jar:/home/hduser/ycsb-0.17.0/jdbc-binding/conf:/home/hduser/ycsb-0.17.0/jdbc-binding/lib/commons-collections-3.2.1.jar:/home/hduser/ycsb-0.17.0/jdbc-binding/lib/commons-lang-2.4.jar:/home/hduser/ycsb-0.17.0/jdbc-binding/lib/commons-pool-1.5.4.jar:/home/hduser/ycsb-0.17.0/jdbc-binding/lib/geronimo-jms_1.1_spec-1.1.1.jar:/home/hduser/ycsb-0.17.0/jdbc-binding/lib/geronimo-jta_1.1_spec-1.1.1.jar:/home/hduser/ycsb-0.17.0/jdbc-binding/lib/jdbc-binding-0.17.0.jar:/home/hduser/ycsb-0.17.0/jdbc-binding/lib/mysql-connector-j-8.0.33.jar:/home/hduser/ycsb-0.17.0/jdbc-binding/lib/mysql-connector-java-8.0.30.jar:/home/hduser/ycsb-0.17.0/jdbc-binding/lib/openjpa-jdbc-2.1.1.jar:/home/hduser/ycsb-0.17.0/jdbc-binding/lib/openjpa-kernel-2.1.1.jar:/home/hduser/ycsb-0.17.0/jdbc-binding/lib/openjpa-lib-2.1.1.jar:/home/hduser/ycsb-0.17.0/jdbc-binding/lib/serp-1.13.1.jar site.ycsb.Client -load -db site.ycsb.db.JdbcDBClient -P /home/hduser/ycsb-0.17.0/jdbc-binding/conf/db.properties -P /home/hduser/ycsb-0.17.0/workloads/workloada -p db.connection_properties=user=root&password=password -p jdbc.url=jdbc:hive2://hive_server:10000/ProjectTweets\n",
      "Adding shard node URL: jdbc:mysql://localhost:3306/ProjectTweets\n",
      "Using shards: 1, batchSize:-1, fetchSize: -1\n",
      "[OVERALL], RunTime(ms), 1339\n",
      "[OVERALL], Throughput(ops/sec), 0.0\n",
      "[TOTAL_GCS_Copy], Count, 0\n",
      "[TOTAL_GC_TIME_Copy], Time(ms), 0\n",
      "[TOTAL_GC_TIME_%_Copy], Time(%), 0.0\n",
      "[TOTAL_GCS_MarkSweepCompact], Count, 0\n",
      "[TOTAL_GC_TIME_MarkSweepCompact], Time(ms), 0\n",
      "[TOTAL_GC_TIME_%_MarkSweepCompact], Time(%), 0.0\n",
      "[TOTAL_GCs], Count, 0\n",
      "[TOTAL_GC_TIME], Time(ms), 0\n",
      "[TOTAL_GC_TIME_%], Time(%), 0.0\n",
      "[CLEANUP], Operations, 1\n",
      "[CLEANUP], AverageLatency(us), 2321.0\n",
      "[CLEANUP], MinLatency(us), 2320\n",
      "[CLEANUP], MaxLatency(us), 2321\n",
      "[CLEANUP], 95thPercentileLatency(us), 2321\n",
      "[CLEANUP], 99thPercentileLatency(us), 2321\n",
      "[INSERT], Operations, 0\n",
      "[INSERT], AverageLatency(us), NaN\n",
      "[INSERT], MinLatency(us), 9223372036854775807\n",
      "[INSERT], MaxLatency(us), 0\n",
      "[INSERT], 95thPercentileLatency(us), 0\n",
      "[INSERT], 99thPercentileLatency(us), 0\n",
      "[INSERT], Return=ERROR, 1\n",
      "[INSERT-FAILED], Operations, 1\n",
      "[INSERT-FAILED], AverageLatency(us), 43280.0\n",
      "[INSERT-FAILED], MinLatency(us), 43264\n",
      "[INSERT-FAILED], MaxLatency(us), 43295\n",
      "[INSERT-FAILED], 95thPercentileLatency(us), 43295\n",
      "[INSERT-FAILED], 99thPercentileLatency(us), 43295\n",
      "\n"
     ]
    }
   ],
   "source": [
    "import subprocess\n",
    "\n",
    "command = \"/home/hduser/ycsb-0.17.0/bin/ycsb.sh load jdbc -P /home/hduser/ycsb-0.17.0/jdbc-binding/conf/db.properties -P /home/hduser/ycsb-0.17.0/workloads/workloada -p db.connection_properties=\\\"user=root&password=password\\\" -p jdbc.url=jdbc:hive2://hive_server:10000/ProjectTweets\"\n",
    "\n",
    "process = subprocess.Popen(command, shell=True, stdout=subprocess.PIPE, stderr=subprocess.PIPE)\n",
    "stdout, stderr = process.communicate()\n",
    "\n",
    "if process.returncode == 0:\n",
    "    print(\"YCSB operation completed successfully.\")\n",
    "    print(\"Output:\")\n",
    "    print(stdout.decode('utf-8'))\n",
    "else:\n",
    "    print(\"YCSB operation failed. Error message:\")\n",
    "    print(stderr.decode('utf-8'))"
   ]
  },
  {
   "cell_type": "code",
   "execution_count": 61,
   "id": "ece01872",
   "metadata": {},
   "outputs": [],
   "source": [
    "import pstats"
   ]
  },
  {
   "cell_type": "code",
   "execution_count": 62,
   "id": "5b0d7be3",
   "metadata": {},
   "outputs": [
    {
     "name": "stdout",
     "output_type": "stream",
     "text": [
      "         4 function calls in 0.000 seconds\n",
      "\n",
      "   Ordered by: cumulative time\n",
      "\n",
      "   ncalls  tottime  percall  cumtime  percall filename:lineno(function)\n",
      "        1    0.000    0.000    0.000    0.000 {built-in method builtins.exec}\n",
      "        1    0.000    0.000    0.000    0.000 <string>:1(<module>)\n",
      "        1    0.000    0.000    0.000    0.000 2046835300.py:2(hive_query)\n",
      "        1    0.000    0.000    0.000    0.000 {method 'disable' of '_lsprof.Profiler' objects}\n",
      "\n",
      "\n",
      "         0 function calls in 0.000 seconds\n",
      "\n"
     ]
    }
   ],
   "source": [
    "# my_hive_script.py\n",
    "def hive_query():\n",
    "    query\n",
    "    pass\n",
    "\n",
    "if __name__ == \"__main__\":\n",
    "    cProfile.run(\"hive_query()\", sort=\"cumulative\")\n",
    "    \n",
    "    # İşte çıktıyı görüntülemek için pstats modülünü kullanın:\n",
    "    p = pstats.Stats()\n",
    "    p.print_stats()"
   ]
  },
  {
   "cell_type": "markdown",
   "id": "327c848c",
   "metadata": {},
   "source": [
    "# SENTIMENT ANALYSIS AFTER TOKENIZATION, LEMMATIZATION AND STOPWORDS REMOVAL"
   ]
  },
  {
   "cell_type": "code",
   "execution_count": 63,
   "id": "f8bb242a",
   "metadata": {},
   "outputs": [],
   "source": [
    "df_for_sentiment = df.select('date', 'concatenated_words')"
   ]
  },
  {
   "cell_type": "code",
   "execution_count": 64,
   "id": "8654ddf9",
   "metadata": {},
   "outputs": [],
   "source": [
    "# Vader SentimentIntensityAnalyzer'ı oluşturun\n",
    "sia = SentimentIntensityAnalyzer()\n",
    "\n",
    "# UDF için bir işlev tanımlayın\n",
    "def analyze_sentiment(text):\n",
    "    sentiment = sia.polarity_scores(text)\n",
    "    return sentiment['compound']\n",
    "\n",
    "# UDF'yi kaydedin\n",
    "sentiment_udf = udf(analyze_sentiment, DoubleType())"
   ]
  },
  {
   "cell_type": "code",
   "execution_count": 65,
   "id": "3f16a06b",
   "metadata": {},
   "outputs": [
    {
     "name": "stderr",
     "output_type": "stream",
     "text": [
      "\r",
      "[Stage 32:>                                                         (0 + 1) / 1]\r"
     ]
    },
    {
     "name": "stdout",
     "output_type": "stream",
     "text": [
      "+----------+--------------------+---------------+\n",
      "|      date|  concatenated_words|sentiment_score|\n",
      "+----------+--------------------+---------------+\n",
      "|2009-04-07|upset,update,face...|            0.0|\n",
      "|2009-04-07|kenichan,dived,ma...|            0.0|\n",
      "|2009-04-07|whole,body,feel,i...|            0.0|\n",
      "|2009-04-07|nationwideclass,b...|            0.0|\n",
      "|2009-04-07| kwesidei,whole,crew|            0.0|\n",
      "|2009-04-07|            need,hug|            0.0|\n",
      "|2009-04-07|loltrish,hey,long...|            0.0|\n",
      "|2009-04-07| tatiana,k,nope,didn|            0.0|\n",
      "|2009-04-07|  twittera,que,muera|            0.0|\n",
      "|2009-04-07|spring,break,plai...|            0.0|\n",
      "|2009-04-07|      re,pierced,ear|            0.0|\n",
      "|2009-04-07|caregiving,couldn...|            0.0|\n",
      "|2009-04-07|octolinz16,count,...|            0.0|\n",
      "|2009-04-07|smarrison,ve,firs...|            0.0|\n",
      "|2009-04-07|iamjazzyfizzle,wi...|            0.0|\n",
      "|2009-04-07|hollis,death,scen...|            0.0|\n",
      "|2009-04-07|            file,tax|            0.0|\n",
      "|2009-04-07|lettya,ahh,ive,al...|            0.0|\n",
      "|2009-04-07|fakerpattypattz,o...|            0.0|\n",
      "|2009-04-07|alydesigns,wa,day...|            0.0|\n",
      "+----------+--------------------+---------------+\n",
      "only showing top 20 rows\n",
      "\n"
     ]
    },
    {
     "name": "stderr",
     "output_type": "stream",
     "text": [
      "\r",
      "                                                                                \r"
     ]
    }
   ],
   "source": [
    "# Vader analizini uygulayın ve sonuçları yeni bir sütuna ekleyin\n",
    "df_for_sentiment = df_for_sentiment.withColumn(\"sentiment_score\", sentiment_udf(df_for_sentiment[\"concatenated_words\"]))\n",
    "\n",
    "# Sonuçları göstermek için ilk birkaç satırı görüntüleyebilirsiniz\n",
    "df_for_sentiment.show()"
   ]
  },
  {
   "cell_type": "code",
   "execution_count": 66,
   "id": "11e2eaaf",
   "metadata": {},
   "outputs": [
    {
     "name": "stderr",
     "output_type": "stream",
     "text": [
      "Traceback (most recent call last):\n",
      "  File \"/usr/local/spark/python/lib/pyspark.zip/pyspark/daemon.py\", line 186, in manager\n",
      "  File \"/usr/local/spark/python/lib/pyspark.zip/pyspark/daemon.py\", line 74, in worker\n",
      "  File \"/usr/local/spark/python/lib/pyspark.zip/pyspark/worker.py\", line 643, in main\n",
      "    if read_int(infile) == SpecialLengths.END_OF_STREAM:\n",
      "  File \"/usr/local/spark/python/lib/pyspark.zip/pyspark/serializers.py\", line 564, in read_int\n",
      "    raise EOFError\n",
      "EOFError\n"
     ]
    }
   ],
   "source": [
    "# \"date\" sütununu 'yyyy-MM-dd' formatına dönüştürün\n",
    "df_for_sentiment = df_for_sentiment.withColumn(\"date\", F.to_date(df_for_sentiment[\"date\"]))\n",
    "\n",
    "# Tarih ve ortalama sentiment puanları için bir veri çerçevesi oluşturun\n",
    "daily_sentiment = df_for_sentiment.groupBy(\"date\").agg(avg(\"sentiment_score\").alias(\"avg_sentiment_score\")).orderBy(\"date\")"
   ]
  },
  {
   "cell_type": "code",
   "execution_count": 67,
   "id": "31902890",
   "metadata": {},
   "outputs": [
    {
     "name": "stderr",
     "output_type": "stream",
     "text": [
      "                                                                                \r"
     ]
    }
   ],
   "source": [
    "# Tüm tarih aralığını içerecek şekilde bir tam tarih dizisi oluşturun\n",
    "min_date = daily_sentiment.selectExpr(\"min(date) as min_date\").first().min_date\n",
    "max_date = daily_sentiment.selectExpr(\"max(date) as max_date\").first().max_date"
   ]
  },
  {
   "cell_type": "code",
   "execution_count": 68,
   "id": "cb5b60af",
   "metadata": {},
   "outputs": [],
   "source": [
    "# Tarih dizisini oluşturun (tüm günleri içerecek)\n",
    "date_range = [min_date + timedelta(days=x) for x in range((max_date - min_date).days + 1)]\n",
    "date_range_df = spark.createDataFrame([(date,) for date in date_range], [\"date\"])"
   ]
  },
  {
   "cell_type": "code",
   "execution_count": 69,
   "id": "f627cc6c",
   "metadata": {},
   "outputs": [],
   "source": [
    "# Eksik tarihleri doldurun\n",
    "daily_sentiment = date_range_df.join(daily_sentiment, on=[\"date\"], how=\"left\").orderBy(\"date\").fillna(0, subset=[\"avg_sentiment_score\"])"
   ]
  },
  {
   "cell_type": "code",
   "execution_count": 70,
   "id": "8062c55c",
   "metadata": {},
   "outputs": [
    {
     "name": "stderr",
     "output_type": "stream",
     "text": [
      "[Stage 41:==============================================>       (171 + 1) / 200]\r"
     ]
    },
    {
     "name": "stdout",
     "output_type": "stream",
     "text": [
      "+----------+--------------------+\n",
      "|      date| avg_sentiment_score|\n",
      "+----------+--------------------+\n",
      "|2009-04-07|-2.22104499274310...|\n",
      "|2009-04-08|                 0.0|\n",
      "|2009-04-09|                 0.0|\n",
      "|2009-04-10|                 0.0|\n",
      "|2009-04-11|                 0.0|\n",
      "|2009-04-12|                 0.0|\n",
      "|2009-04-13|                 0.0|\n",
      "|2009-04-14|                 0.0|\n",
      "|2009-04-15|                 0.0|\n",
      "|2009-04-16|                 0.0|\n",
      "|2009-04-17|                 0.0|\n",
      "|2009-04-18|-2.23096950161170...|\n",
      "|2009-04-19|-1.03626373626373...|\n",
      "|2009-04-20|-7.62942483872716...|\n",
      "|2009-04-21|3.864925709140026E-5|\n",
      "|2009-04-22|                 0.0|\n",
      "|2009-04-23|                 0.0|\n",
      "|2009-04-24|                 0.0|\n",
      "|2009-04-25|                 0.0|\n",
      "|2009-04-26|                 0.0|\n",
      "+----------+--------------------+\n",
      "only showing top 20 rows\n",
      "\n"
     ]
    },
    {
     "name": "stderr",
     "output_type": "stream",
     "text": [
      "\r",
      "[Stage 41:===================================================>  (191 + 1) / 200]\r",
      "\r",
      "                                                                                \r"
     ]
    }
   ],
   "source": [
    "daily_sentiment.show()"
   ]
  },
  {
   "cell_type": "code",
   "execution_count": 71,
   "id": "36f15bee",
   "metadata": {},
   "outputs": [],
   "source": [
    "# Dash uygulamasını başlatın\n",
    "#app = dash.Dash(__name__)"
   ]
  },
  {
   "cell_type": "code",
   "execution_count": 72,
   "id": "3c418ef3",
   "metadata": {},
   "outputs": [
    {
     "name": "stderr",
     "output_type": "stream",
     "text": [
      "                                                                                \r"
     ]
    },
    {
     "data": {
      "text/html": [
       "\n",
       "        <iframe\n",
       "            width=\"100%\"\n",
       "            height=\"650\"\n",
       "            src=\"http://127.0.0.1:8050/\"\n",
       "            frameborder=\"0\"\n",
       "            allowfullscreen\n",
       "            \n",
       "        ></iframe>\n",
       "        "
      ],
      "text/plain": [
       "<IPython.lib.display.IFrame at 0x7faa0d3bde40>"
      ]
     },
     "metadata": {},
     "output_type": "display_data"
    }
   ],
   "source": [
    "# Uygulamanın düzenini oluşturun\n",
    "app.layout = html.Div([\n",
    "    dcc.Graph(\n",
    "        id='sentiment-line-chart',\n",
    "        figure=px.line(daily_sentiment, x='date', y='avg_sentiment_score', title='Daily Average Sentiment Score')\n",
    "    )\n",
    "])\n",
    "\n",
    "if __name__ == '__main__':\n",
    "    app.run_server(debug=True)"
   ]
  },
  {
   "cell_type": "code",
   "execution_count": null,
   "id": "37b25fc2",
   "metadata": {},
   "outputs": [],
   "source": []
  },
  {
   "cell_type": "code",
   "execution_count": null,
   "id": "2a88fe34",
   "metadata": {},
   "outputs": [],
   "source": []
  },
  {
   "cell_type": "code",
   "execution_count": null,
   "id": "17ba1826",
   "metadata": {},
   "outputs": [],
   "source": []
  },
  {
   "cell_type": "code",
   "execution_count": null,
   "id": "ff396c97",
   "metadata": {},
   "outputs": [],
   "source": []
  },
  {
   "cell_type": "code",
   "execution_count": null,
   "id": "b8f1cbde",
   "metadata": {},
   "outputs": [],
   "source": []
  },
  {
   "cell_type": "code",
   "execution_count": null,
   "id": "d9aec0b3",
   "metadata": {},
   "outputs": [],
   "source": []
  }
 ],
 "metadata": {
  "kernelspec": {
   "display_name": "Python 3 (ipykernel)",
   "language": "python",
   "name": "python3"
  },
  "language_info": {
   "codemirror_mode": {
    "name": "ipython",
    "version": 3
   },
   "file_extension": ".py",
   "mimetype": "text/x-python",
   "name": "python",
   "nbconvert_exporter": "python",
   "pygments_lexer": "ipython3",
   "version": "3.10.12"
  }
 },
 "nbformat": 4,
 "nbformat_minor": 5
}
