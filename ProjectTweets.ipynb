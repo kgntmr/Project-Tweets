{
 "cells": [
  {
   "cell_type": "code",
   "execution_count": 105,
   "id": "bac2e33b",
   "metadata": {},
   "outputs": [],
   "source": [
    "# Importing PySpark related libraries\n",
    "from pyspark.sql import SparkSession, Row\n",
    "from pyspark.sql.functions import concat_ws, regexp_replace, col, lower, to_date, date_format\n",
    "from pyspark.ml.feature import Tokenizer, StopWordsRemover\n",
    "from pyspark.sql.functions import udf\n",
    "from pyspark.sql.types import StringType, DoubleType\n",
    "from pyspark.sql.functions import lag, lead, when, coalesce, expr\n",
    "import pyspark.sql.functions as F\n",
    "from pyspark.sql.window import Window\n",
    "\n",
    "# Importing library for Matplotlib\n",
    "import matplotlib.pyplot as plt\n",
    "\n",
    "# Importing library for accessing MySQL database\n",
    "import pymysql\n",
    "\n",
    "# Importing cProfile and subprocess libraries\n",
    "import cProfile\n",
    "import subprocess\n",
    "\n",
    "# Importing libraries for ADF and KPSS tests\n",
    "from statsmodels.tsa.stattools import adfuller, kpss\n",
    "from statsmodels.graphics.tsaplots import plot_acf, plot_pacf\n",
    "from statsmodels.tsa.seasonal import seasonal_decompose\n",
    "from sklearn.ensemble import RandomForestRegressor\n",
    "from sklearn.model_selection import train_test_split\n",
    "from sklearn.model_selection import GridSearchCV, LeaveOneOut\n",
    "from sklearn.metrics import mean_squared_error\n",
    "from statsmodels.tsa.statespace.sarimax import SARIMAX\n",
    "from statsmodels.tsa.arima.model import ARIMA\n",
    "\n",
    "# Importing libraries for Dash and Plotly for data visualization\n",
    "import dash\n",
    "import dash_core_components as dcc\n",
    "from dash import html\n",
    "from dash.dependencies import Input, Output\n",
    "import plotly.graph_objs as go\n",
    "import plotly.express as px\n",
    "\n",
    "# Importing additional PySpark functions and features\n",
    "from pyspark.sql.functions import avg\n",
    "from pyspark.sql import functions as F\n",
    "\n",
    "# Importing library for natural language processing with NLTK\n",
    "import nltk\n",
    "from nltk.stem import WordNetLemmatizer\n",
    "from nltk.sentiment.vader import SentimentIntensityAnalyzer\n",
    "\n",
    "# Downloading NLTK datasets if needed\n",
    "# nltk.download('omw-1.4')\n",
    "# nltk.download('wordnet')\n",
    "# nltk.download('vader_lexicon')\n",
    "\n",
    "# Importing library for datetime operations\n",
    "from datetime import timedelta, datetime, date\n",
    "\n",
    "# Importing other libraries\n",
    "import pandas as pd\n",
    "import numpy as np\n",
    "import warnings\n",
    "warnings.filterwarnings('ignore')"
   ]
  },
  {
   "cell_type": "code",
   "execution_count": 2,
   "id": "dcf717f5",
   "metadata": {},
   "outputs": [],
   "source": [
    "spark = SparkSession.builder.appName('ProjectTweets').getOrCreate()"
   ]
  },
  {
   "cell_type": "markdown",
   "id": "c91ffa58",
   "metadata": {},
   "source": [
    "# DATA PREPARATION"
   ]
  },
  {
   "cell_type": "code",
   "execution_count": 3,
   "id": "91573341",
   "metadata": {
    "scrolled": true
   },
   "outputs": [
    {
     "name": "stderr",
     "output_type": "stream",
     "text": [
      "                                                                                \r"
     ]
    }
   ],
   "source": [
    "df = spark.read.csv('/user1/ProjectTweets.csv', header=True, inferSchema=True)"
   ]
  },
  {
   "cell_type": "code",
   "execution_count": 4,
   "id": "e61bd395",
   "metadata": {},
   "outputs": [
    {
     "name": "stdout",
     "output_type": "stream",
     "text": [
      "root\n",
      " |-- 0: integer (nullable = true)\n",
      " |-- 1467810369: long (nullable = true)\n",
      " |-- Mon Apr 06 22:19:45 PDT 2009: string (nullable = true)\n",
      " |-- NO_QUERY: string (nullable = true)\n",
      " |-- _TheSpecialOne_: string (nullable = true)\n",
      " |-- @switchfoot http://twitpic.com/2y1zl - Awww, that's a bummer.  You shoulda got David Carr of Third Day to do it. ;D: string (nullable = true)\n",
      "\n"
     ]
    }
   ],
   "source": [
    "df.printSchema()"
   ]
  },
  {
   "cell_type": "code",
   "execution_count": 5,
   "id": "5363c840",
   "metadata": {},
   "outputs": [
    {
     "name": "stdout",
     "output_type": "stream",
     "text": [
      "+---+----------+----------------------------+--------+---------------+-------------------------------------------------------------------------------------------------------------------+\n",
      "|0  |1467810369|Mon Apr 06 22:19:45 PDT 2009|NO_QUERY|_TheSpecialOne_|@switchfoot http://twitpic.com/2y1zl - Awww, that's a bummer.  You shoulda got David Carr of Third Day to do it. ;D|\n",
      "+---+----------+----------------------------+--------+---------------+-------------------------------------------------------------------------------------------------------------------+\n",
      "|1  |1467810672|Mon Apr 06 22:19:49 PDT 2009|NO_QUERY|scotthamilton  |is upset that he can't update his Facebook by texting it... and might cry as a result  School today also. Blah!    |\n",
      "|2  |1467810917|Mon Apr 06 22:19:53 PDT 2009|NO_QUERY|mattycus       |@Kenichan I dived many times for the ball. Managed to save 50%  The rest go out of bounds                          |\n",
      "|3  |1467811184|Mon Apr 06 22:19:57 PDT 2009|NO_QUERY|ElleCTF        |my whole body feels itchy and like its on fire                                                                     |\n",
      "|4  |1467811193|Mon Apr 06 22:19:57 PDT 2009|NO_QUERY|Karoli         |@nationwideclass no, it's not behaving at all. i'm mad. why am i here? because I can't see you all over there.     |\n",
      "|5  |1467811372|Mon Apr 06 22:20:00 PDT 2009|NO_QUERY|joy_wolf       |@Kwesidei not the whole crew                                                                                       |\n",
      "+---+----------+----------------------------+--------+---------------+-------------------------------------------------------------------------------------------------------------------+\n",
      "only showing top 5 rows\n",
      "\n"
     ]
    }
   ],
   "source": [
    "df.show(5, truncate=False)"
   ]
  },
  {
   "cell_type": "code",
   "execution_count": 6,
   "id": "c358289e",
   "metadata": {},
   "outputs": [],
   "source": [
    "new_cols = ['ids', 'date', 'flag', 'user', 'text']\n",
    "\n",
    "for i, column_name in enumerate(new_cols):\n",
    "    df = df.withColumnRenamed(df.columns[i + 1], column_name)"
   ]
  },
  {
   "cell_type": "code",
   "execution_count": 7,
   "id": "fb99dd3b",
   "metadata": {},
   "outputs": [],
   "source": [
    "spark.conf.set('spark.sql.legacy.timeParserPolicy', 'LEGACY')"
   ]
  },
  {
   "cell_type": "code",
   "execution_count": 8,
   "id": "5f77ec01",
   "metadata": {},
   "outputs": [],
   "source": [
    "date_column = df.select('date')"
   ]
  },
  {
   "cell_type": "code",
   "execution_count": 9,
   "id": "2baf2eff",
   "metadata": {},
   "outputs": [],
   "source": [
    "df = df.withColumn('date', to_date(df['date'], 'EEE MMM dd HH:mm:ss zzz yyyy'))"
   ]
  },
  {
   "cell_type": "code",
   "execution_count": 10,
   "id": "3a856b04",
   "metadata": {},
   "outputs": [],
   "source": [
    "df = df.withColumn('date', to_date(col('date'), 'dd/MM/yyyy'))"
   ]
  },
  {
   "cell_type": "code",
   "execution_count": 11,
   "id": "572dff8f",
   "metadata": {},
   "outputs": [],
   "source": [
    "# Convert text data to lowercase and clean unnecessary characters\n",
    "df = df.withColumn(\"text\", lower(regexp_replace(col(\"text\"), \"[^a-zA-Z0-9\\\\s]\", \" \")))"
   ]
  },
  {
   "cell_type": "code",
   "execution_count": 12,
   "id": "2fc3289f",
   "metadata": {},
   "outputs": [],
   "source": [
    "# Remove special symbols, and links from text data\n",
    "df = df.withColumn(\"text\", regexp_replace(col(\"text\"), r'[@#]\\w+|https?://\\S+|\\W', \" \"))"
   ]
  },
  {
   "cell_type": "code",
   "execution_count": 13,
   "id": "e34447de",
   "metadata": {},
   "outputs": [
    {
     "name": "stdout",
     "output_type": "stream",
     "text": [
      "+---+----------+----------+--------+-------------+---------------------------------------------------------------------------------------------------------------+\n",
      "|0  |ids       |date      |flag    |user         |text                                                                                                           |\n",
      "+---+----------+----------+--------+-------------+---------------------------------------------------------------------------------------------------------------+\n",
      "|1  |1467810672|2009-04-07|NO_QUERY|scotthamilton|is upset that he can t update his facebook by texting it    and might cry as a result  school today also  blah |\n",
      "+---+----------+----------+--------+-------------+---------------------------------------------------------------------------------------------------------------+\n",
      "only showing top 1 row\n",
      "\n"
     ]
    }
   ],
   "source": [
    "df.show(1, truncate=False)"
   ]
  },
  {
   "cell_type": "markdown",
   "id": "c75fd5cc",
   "metadata": {},
   "source": [
    "## Sentiment Analysis without Tokenization, Lemmatization and Removing Stopwords"
   ]
  },
  {
   "cell_type": "code",
   "execution_count": 14,
   "id": "e939c3bf",
   "metadata": {},
   "outputs": [],
   "source": [
    "df_for_sentiment_1 = df.select('date', 'text')"
   ]
  },
  {
   "cell_type": "code",
   "execution_count": 15,
   "id": "cd00a3f0",
   "metadata": {},
   "outputs": [],
   "source": [
    "# Create Vader SentimentIntensityAnalyzer\n",
    "sia = SentimentIntensityAnalyzer()\n",
    "\n",
    "# Define a function for UDF\n",
    "def analyze_sentiment(text):\n",
    "    sentiment = sia.polarity_scores(text)\n",
    "    return sentiment['compound']\n",
    "\n",
    "# Save UDF\n",
    "sentiment_udf = udf(analyze_sentiment, DoubleType())"
   ]
  },
  {
   "cell_type": "code",
   "execution_count": 16,
   "id": "8a26f6e9",
   "metadata": {},
   "outputs": [],
   "source": [
    "# Apply Vader analysis and add the results to a new column\n",
    "df_for_sentiment_1 = df_for_sentiment_1.withColumn(\"sentiment_score\", sentiment_udf(df_for_sentiment_1[\"text\"]))"
   ]
  },
  {
   "cell_type": "code",
   "execution_count": 17,
   "id": "54cbd29f",
   "metadata": {},
   "outputs": [],
   "source": [
    "# Convert \"date\" column to 'yyyy-MM-dd' format\n",
    "df_for_sentiment_1 = df_for_sentiment_1.withColumn(\"date\", F.to_date(df_for_sentiment_1[\"date\"]))"
   ]
  },
  {
   "cell_type": "code",
   "execution_count": 18,
   "id": "dd48202c",
   "metadata": {},
   "outputs": [],
   "source": [
    "# Ensure you're using the correct column name in the aggregation\n",
    "daily_sentiment_1 = df_for_sentiment_1.groupBy(\"date\").agg(avg(\"sentiment_score\").alias(\"avg_sentiment_score\")).orderBy(\"date\")"
   ]
  },
  {
   "cell_type": "code",
   "execution_count": 19,
   "id": "dfbbd7e4",
   "metadata": {},
   "outputs": [
    {
     "name": "stderr",
     "output_type": "stream",
     "text": [
      "                                                                                \r"
     ]
    }
   ],
   "source": [
    "# Create a full date array to include the entire date range\n",
    "min_date = daily_sentiment_1.selectExpr(\"min(date) as min_date\").first().min_date\n",
    "max_date = daily_sentiment_1.selectExpr(\"max(date) as max_date\").first().max_date"
   ]
  },
  {
   "cell_type": "code",
   "execution_count": 20,
   "id": "c44a97d7",
   "metadata": {},
   "outputs": [],
   "source": [
    "# Create date array\n",
    "date_range = [min_date + timedelta(days=x) for x in range((max_date - min_date).days + 1)]\n",
    "date_range_df = spark.createDataFrame([(date,) for date in date_range], [\"date\"])"
   ]
  },
  {
   "cell_type": "code",
   "execution_count": 21,
   "id": "54729282",
   "metadata": {},
   "outputs": [],
   "source": [
    "# Fill the gap in date column\n",
    "daily_sentiment_1 = date_range_df.join(daily_sentiment_1, on=[\"date\"], how=\"left\").orderBy(\"date\").fillna(0, subset=[\"avg_sentiment_score\"])"
   ]
  },
  {
   "cell_type": "code",
   "execution_count": 22,
   "id": "361fff69",
   "metadata": {},
   "outputs": [
    {
     "name": "stdout",
     "output_type": "stream",
     "text": [
      "root\n",
      " |-- date: date (nullable = true)\n",
      " |-- avg_sentiment_score: double (nullable = false)\n",
      "\n"
     ]
    }
   ],
   "source": [
    "daily_sentiment_1.printSchema()"
   ]
  },
  {
   "cell_type": "code",
   "execution_count": 23,
   "id": "c0356452",
   "metadata": {},
   "outputs": [
    {
     "name": "stderr",
     "output_type": "stream",
     "text": [
      "[Stage 12:==================================================>   (187 + 1) / 200]\r"
     ]
    },
    {
     "name": "stdout",
     "output_type": "stream",
     "text": [
      "+----------+-------------------+\n",
      "|      date|avg_sentiment_score|\n",
      "+----------+-------------------+\n",
      "|2009-04-07| 0.1638104692791461|\n",
      "|2009-04-08|                0.0|\n",
      "|2009-04-09|                0.0|\n",
      "|2009-04-10|                0.0|\n",
      "|2009-04-11|                0.0|\n",
      "|2009-04-12|                0.0|\n",
      "|2009-04-13|                0.0|\n",
      "|2009-04-14|                0.0|\n",
      "|2009-04-15|                0.0|\n",
      "|2009-04-16|                0.0|\n",
      "|2009-04-17|                0.0|\n",
      "|2009-04-18|0.18738602157202913|\n",
      "|2009-04-19|0.18894100089100915|\n",
      "|2009-04-20|0.17782408521710552|\n",
      "|2009-04-21|0.17327567762269075|\n",
      "|2009-04-22|                0.0|\n",
      "|2009-04-23|                0.0|\n",
      "|2009-04-24|                0.0|\n",
      "|2009-04-25|                0.0|\n",
      "|2009-04-26|                0.0|\n",
      "+----------+-------------------+\n",
      "only showing top 20 rows\n",
      "\n"
     ]
    },
    {
     "name": "stderr",
     "output_type": "stream",
     "text": [
      "\r",
      "                                                                                \r"
     ]
    }
   ],
   "source": [
    "daily_sentiment_1.show()"
   ]
  },
  {
   "cell_type": "code",
   "execution_count": 24,
   "id": "dc12c908",
   "metadata": {},
   "outputs": [],
   "source": [
    "# Use the window function to fill the DataFrame with past and future values\n",
    "window_spec = Window.orderBy(\"date\")"
   ]
  },
  {
   "cell_type": "code",
   "execution_count": 25,
   "id": "da28be8a",
   "metadata": {},
   "outputs": [],
   "source": [
    "# Fill missing values with 0\n",
    "daily_sentiment_1 = daily_sentiment_1.fillna(0, subset=['avg_sentiment_score'])"
   ]
  },
  {
   "cell_type": "code",
   "execution_count": 26,
   "id": "3adf97e0",
   "metadata": {},
   "outputs": [],
   "source": [
    "# 1. Apply Backward Fill interpolation\n",
    "daily_sentiment_1 = daily_sentiment_1.withColumn(\"backward_fill\", lag(daily_sentiment_1[\"avg_sentiment_score\"]).over(window_spec))"
   ]
  },
  {
   "cell_type": "code",
   "execution_count": 27,
   "id": "d0e35fa6",
   "metadata": {},
   "outputs": [],
   "source": [
    "# 2. Apply Linear Interpolation\n",
    "daily_sentiment_1 = daily_sentiment_1.withColumn(\"linear_fill\", lag(daily_sentiment_1[\"avg_sentiment_score\"]).over(window_spec))"
   ]
  },
  {
   "cell_type": "code",
   "execution_count": 28,
   "id": "2c54b399",
   "metadata": {},
   "outputs": [],
   "source": [
    "# 3. Apply Quadratic Interpolation\n",
    "daily_sentiment_1 = daily_sentiment_1.withColumn(\"quadratic_fill\", coalesce(\n",
    "    (lag(daily_sentiment_1[\"avg_sentiment_score\"]).over(window_spec) + 2 * daily_sentiment_1[\"avg_sentiment_score\"] - lead(daily_sentiment_1[\"avg_sentiment_score\"]).over(window_spec)),\n",
    "    daily_sentiment_1[\"avg_sentiment_score\"]\n",
    "))"
   ]
  },
  {
   "cell_type": "code",
   "execution_count": 29,
   "id": "c61bd11e",
   "metadata": {},
   "outputs": [],
   "source": [
    "# 4. Apply Mean of Nearest Neighbors interpolation\n",
    "daily_sentiment_1 = daily_sentiment_1.withColumn(\"knn_mean\", coalesce(\n",
    "    (daily_sentiment_1[\"avg_sentiment_score\"] + (lag(daily_sentiment_1[\"avg_sentiment_score\"]).over(window_spec) + lead(daily_sentiment_1[\"avg_sentiment_score\"]).over(window_spec)) / 2),\n",
    "    daily_sentiment_1[\"avg_sentiment_score\"]\n",
    "))"
   ]
  },
  {
   "cell_type": "code",
   "execution_count": 30,
   "id": "db04e4e1",
   "metadata": {},
   "outputs": [],
   "source": [
    "# 5. Apply Mean of Seasonal Counterparts interpolation\n",
    "daily_sentiment_1 = daily_sentiment_1.withColumn(\"seasonal_mean\", coalesce(\n",
    "    (daily_sentiment_1[\"avg_sentiment_score\"] + (lag(daily_sentiment_1[\"avg_sentiment_score\"], 7).over(window_spec) + lead(daily_sentiment_1[\"avg_sentiment_score\"], -7).over(window_spec)) / 2),\n",
    "    daily_sentiment_1[\"avg_sentiment_score\"]\n",
    "))"
   ]
  },
  {
   "cell_type": "code",
   "execution_count": 31,
   "id": "d7a75d11",
   "metadata": {},
   "outputs": [
    {
     "name": "stderr",
     "output_type": "stream",
     "text": [
      "2023-11-10 16:10:30,517 WARN window.WindowExec: No Partition Defined for Window operation! Moving all data to a single partition, this can cause serious performance degradation.\n",
      "2023-11-10 16:10:30,545 WARN window.WindowExec: No Partition Defined for Window operation! Moving all data to a single partition, this can cause serious performance degradation.\n",
      "2023-11-10 16:10:30,545 WARN window.WindowExec: No Partition Defined for Window operation! Moving all data to a single partition, this can cause serious performance degradation.\n",
      "                                                                                \r"
     ]
    }
   ],
   "source": [
    "# Collect the results for visualization\n",
    "interpolated_data = daily_sentiment_1.select(\"date\", \"avg_sentiment_score\", \"backward_fill\", \"linear_fill\", \"quadratic_fill\", \"knn_mean\", \"seasonal_mean\").collect()"
   ]
  },
  {
   "cell_type": "code",
   "execution_count": 32,
   "id": "2dff4013",
   "metadata": {
    "scrolled": false
   },
   "outputs": [
    {
     "data": {
      "image/png": "[encoded data removed]",
      "text/plain": [
       "<Figure size 864x432 with 1 Axes>"
      ]
     },
     "metadata": {
      "needs_background": "light"
     },
     "output_type": "display_data"
    },
    {
     "data": {
      "image/png": "[encoded data removed]",
      "text/plain": [
       "<Figure size 864x432 with 1 Axes>"
      ]
     },
     "metadata": {
      "needs_background": "light"
     },
     "output_type": "display_data"
    },
    {
     "data": {
      "image/png": "[encoded data removed]",
      "text/plain": [
       "<Figure size 864x432 with 1 Axes>"
      ]
     },
     "metadata": {
      "needs_background": "light"
     },
     "output_type": "display_data"
    },
    {
     "data": {
      "image/png": "[encoded data removed]",
      "text/plain": [
       "<Figure size 864x432 with 1 Axes>"
      ]
     },
     "metadata": {
      "needs_background": "light"
     },
     "output_type": "display_data"
    },
    {
     "data": {
      "image/png": "[encoded data removed]",
      "text/plain": [
       "<Figure size 864x432 with 1 Axes>"
      ]
     },
     "metadata": {
      "needs_background": "light"
     },
     "output_type": "display_data"
    }
   ],
   "source": [
    "# Extract data for plotting\n",
    "dates = [row.date for row in interpolated_data]\n",
    "original_scores = [row.avg_sentiment_score for row in interpolated_data]\n",
    "interpolation_methods = [\"backward_fill\", \"linear_fill\", \"quadratic_fill\", \"knn_mean\", \"seasonal_mean\"]\n",
    "\n",
    "# Create a loop to plot each interpolation method\n",
    "for method in interpolation_methods:\n",
    "    plt.figure(figsize=(12, 6))\n",
    "    plt.plot(dates, original_scores, label='Original')\n",
    "    plt.plot(dates, [row[method] for row in interpolated_data], label=method.replace(\"_\", \" \").title())  # Use the method name as the label\n",
    "    plt.xlabel('Date')\n",
    "    plt.ylabel('Sentiment Score')\n",
    "    plt.title(f'Original vs. {method.replace(\"_\", \" \").title()}')\n",
    "    plt.legend()\n",
    "    plt.show()"
   ]
  },
  {
   "cell_type": "markdown",
   "id": "8ec7d251",
   "metadata": {},
   "source": [
    "### Linear Interpolation"
   ]
  },
  {
   "cell_type": "code",
   "execution_count": 34,
   "id": "5db85fa7",
   "metadata": {},
   "outputs": [],
   "source": [
    "# Define a window specification to order the data by date\n",
    "window_spec = Window.orderBy(\"date\")\n",
    "\n",
    "# Calculate the next non-null value using the 'last' function\n",
    "interpolated_df = daily_sentiment_1.withColumn(\"next_value\", F.last(\"avg_sentiment_score\", True).over(window_spec))\n",
    "\n",
    "# Calculate the previous non-null value using the 'first' function\n",
    "interpolated_df = interpolated_df.withColumn(\"prev_value\", F.first(\"avg_sentiment_score\", True).over(window_spec))\n",
    "\n",
    "# Calculate the linearly interpolated value\n",
    "interpolated_df = interpolated_df.withColumn(\n",
    "    \"interpolated_value\",\n",
    "    F.when(F.col(\"avg_sentiment_score\") == 0, (F.col(\"next_value\") + F.col(\"prev_value\")) / 2).otherwise(F.col(\"avg_sentiment_score\"))\n",
    ")\n",
    "\n",
    "# Drop the 'next_value' and 'prev_value' columns if not needed\n",
    "interpolated_df = interpolated_df.drop(\"next_value\", \"prev_value\")"
   ]
  },
  {
   "cell_type": "code",
   "execution_count": 35,
   "id": "330457b2",
   "metadata": {},
   "outputs": [
    {
     "name": "stdout",
     "output_type": "stream",
     "text": [
      "root\n",
      " |-- date: date (nullable = true)\n",
      " |-- avg_sentiment_score: double (nullable = false)\n",
      " |-- backward_fill: double (nullable = true)\n",
      " |-- linear_fill: double (nullable = true)\n",
      " |-- quadratic_fill: double (nullable = false)\n",
      " |-- knn_mean: double (nullable = false)\n",
      " |-- seasonal_mean: double (nullable = false)\n",
      " |-- interpolated_value: double (nullable = true)\n",
      "\n"
     ]
    }
   ],
   "source": [
    "interpolated_df.printSchema()"
   ]
  },
  {
   "cell_type": "code",
   "execution_count": 36,
   "id": "c0763c5c",
   "metadata": {},
   "outputs": [
    {
     "name": "stderr",
     "output_type": "stream",
     "text": [
      "2023-11-10 16:30:40,161 WARN window.WindowExec: No Partition Defined for Window operation! Moving all data to a single partition, this can cause serious performance degradation.\n",
      "[Stage 55:====================================================>   (75 + 1) / 80]\r"
     ]
    },
    {
     "name": "stdout",
     "output_type": "stream",
     "text": [
      "+----------+-------------------+\n",
      "|      date| interpolated_value|\n",
      "+----------+-------------------+\n",
      "|2009-04-07| 0.1638104692791461|\n",
      "|2009-04-08|0.08190523463957305|\n",
      "|2009-04-09|0.08190523463957305|\n",
      "|2009-04-10|0.08190523463957305|\n",
      "|2009-04-11|0.08190523463957305|\n",
      "|2009-04-12|0.08190523463957305|\n",
      "|2009-04-13|0.08190523463957305|\n",
      "|2009-04-14|0.08190523463957305|\n",
      "|2009-04-15|0.08190523463957305|\n",
      "|2009-04-16|0.08190523463957305|\n",
      "|2009-04-17|0.08190523463957305|\n",
      "|2009-04-18|0.18738602157202913|\n",
      "|2009-04-19|0.18894100089100915|\n",
      "|2009-04-20|0.17782408521710552|\n",
      "|2009-04-21|0.17327567762269075|\n",
      "|2009-04-22|0.08190523463957305|\n",
      "|2009-04-23|0.08190523463957305|\n",
      "|2009-04-24|0.08190523463957305|\n",
      "|2009-04-25|0.08190523463957305|\n",
      "|2009-04-26|0.08190523463957305|\n",
      "+----------+-------------------+\n",
      "only showing top 20 rows\n",
      "\n"
     ]
    },
    {
     "name": "stderr",
     "output_type": "stream",
     "text": [
      "\r",
      "                                                                                \r"
     ]
    }
   ],
   "source": [
    "interpolated_df = interpolated_df.select('date', 'interpolated_value')\n",
    "interpolated_df.show()"
   ]
  },
  {
   "cell_type": "code",
   "execution_count": 37,
   "id": "39aaa5ac",
   "metadata": {},
   "outputs": [
    {
     "name": "stderr",
     "output_type": "stream",
     "text": [
      "                                                                                \r"
     ]
    },
    {
     "name": "stdout",
     "output_type": "stream",
     "text": [
      "Column 'date' contains 0 null values.\n"
     ]
    },
    {
     "name": "stderr",
     "output_type": "stream",
     "text": [
      "2023-11-10 16:38:37,480 WARN window.WindowExec: No Partition Defined for Window operation! Moving all data to a single partition, this can cause serious performance degradation.\n",
      "[Stage 67:=======================================================>(79 + 1) / 80]\r"
     ]
    },
    {
     "name": "stdout",
     "output_type": "stream",
     "text": [
      "Column 'interpolated_value' contains 0 null values.\n"
     ]
    },
    {
     "name": "stderr",
     "output_type": "stream",
     "text": [
      "\r",
      "                                                                                \r"
     ]
    }
   ],
   "source": [
    "# Get the column names\n",
    "columns = interpolated_df.columns\n",
    "\n",
    "# Find and print the count of null values in each column\n",
    "for column in columns:\n",
    "    null_count = interpolated_df.filter(interpolated_df[column].isNull()).count()\n",
    "    print(f\"Column '{column}' contains {null_count} null values.\")"
   ]
  },
  {
   "cell_type": "code",
   "execution_count": 38,
   "id": "4de25838",
   "metadata": {},
   "outputs": [
    {
     "name": "stderr",
     "output_type": "stream",
     "text": [
      "2023-11-10 16:46:48,068 WARN window.WindowExec: No Partition Defined for Window operation! Moving all data to a single partition, this can cause serious performance degradation.\n",
      "                                                                                \r"
     ]
    },
    {
     "data": {
      "text/html": [
       "\n",
       "        <iframe\n",
       "            width=\"100%\"\n",
       "            height=\"650\"\n",
       "            src=\"http://127.0.0.1:8080/\"\n",
       "            frameborder=\"0\"\n",
       "            allowfullscreen\n",
       "            \n",
       "        ></iframe>\n",
       "        "
      ],
      "text/plain": [
       "<IPython.lib.display.IFrame at 0x7f4c3dc2fe50>"
      ]
     },
     "metadata": {},
     "output_type": "display_data"
    }
   ],
   "source": [
    "# Start DASH\n",
    "app = dash.Dash(__name__)\n",
    "\n",
    "# Configure DASH\n",
    "app.layout = html.Div([\n",
    "    dcc.Graph(\n",
    "        id='line-chart',\n",
    "        figure=px.line(interpolated_df, x='date', y='interpolated_value', title='Daily Average Sentiment Score')\n",
    "    )\n",
    "])\n",
    "\n",
    "if __name__ == '__main__':\n",
    "    app.run_server(debug=True,  port=8080)"
   ]
  },
  {
   "cell_type": "markdown",
   "id": "290c8418",
   "metadata": {},
   "source": [
    "# Time Series Analysis"
   ]
  },
  {
   "cell_type": "code",
   "execution_count": 41,
   "id": "52251d28",
   "metadata": {},
   "outputs": [
    {
     "name": "stderr",
     "output_type": "stream",
     "text": [
      "2023-11-10 16:53:03,379 WARN window.WindowExec: No Partition Defined for Window operation! Moving all data to a single partition, this can cause serious performance degradation.\n",
      "                                                                                \r"
     ]
    }
   ],
   "source": [
    "# Convert the DF to NumPy array\n",
    "values = interpolated_df.select(\"interpolated_value\").rdd.flatMap(lambda x: x).collect()"
   ]
  },
  {
   "cell_type": "code",
   "execution_count": 42,
   "id": "fa29cfe6",
   "metadata": {},
   "outputs": [
    {
     "name": "stdout",
     "output_type": "stream",
     "text": [
      "ADF Statistic: -3.712252757920975\n",
      "p-value: 0.0039440720931468755\n",
      "Critial Values:\n",
      " 1%, -3.5159766913976376\n",
      "Critial Values:\n",
      " 5%, -2.898885703483903\n",
      "Critial Values:\n",
      " 10%, -2.5866935058484217\n",
      "\n",
      "KPSS Statistic: 0.282053\n",
      "p-value: 0.100000\n",
      "Critial Values:\n",
      " 10%, 0.347\n",
      "Critial Values:\n",
      " 5%, 0.463\n",
      "Critial Values:\n",
      " 2.5%, 0.574\n",
      "Critial Values:\n",
      " 1%, 0.739\n"
     ]
    },
    {
     "name": "stderr",
     "output_type": "stream",
     "text": [
      "/home/hduser/.local/lib/python3.10/site-packages/statsmodels/tsa/stattools.py:2022: InterpolationWarning:\n",
      "\n",
      "The test statistic is outside of the range of p-values available in the\n",
      "look-up table. The actual p-value is greater than the p-value returned.\n",
      "\n",
      "\n"
     ]
    }
   ],
   "source": [
    "# ADF(Augmented Dickey Fuller) Test\n",
    "result_adf = adfuller(values, autolag='AIC')\n",
    "print(f'ADF Statistic: {result_adf[0]}')\n",
    "print(f'p-value: {result_adf[1]}')\n",
    "for key, value in result_adf[4].items():\n",
    "    print('Critial Values:')\n",
    "    print(f' {key}, {value}')\n",
    "\n",
    "# KPSS(Kwiatkowski-Phillips-Schmidt-Shin) Test\n",
    "result_kpss = kpss(values, regression='c')\n",
    "print('\\nKPSS Statistic: %f' % result_kpss[0])\n",
    "print('p-value: %f' % result_kpss[1])\n",
    "for key, value in result_kpss[3].items():\n",
    "    print('Critial Values:')\n",
    "    print(f' {key}, {value}')"
   ]
  },
  {
   "cell_type": "markdown",
   "id": "4e64fe78",
   "metadata": {},
   "source": [
    "The ADF test is commonly used to check if a time series has a unit root, indicating non-stationarity. If the p-value in the ADF test is below 0.05, you reject the null hypothesis."
   ]
  },
  {
   "cell_type": "markdown",
   "id": "599aaf6b",
   "metadata": {},
   "source": [
    "The KPSS test is commonly used to check if a time series has a unit root, indicating non-stationarity. If the p-value in the ADF test is below 0.05, you conclude that the time series is non-stationary."
   ]
  },
  {
   "cell_type": "code",
   "execution_count": 43,
   "id": "afe5e90f",
   "metadata": {},
   "outputs": [
    {
     "data": {
      "image/png": "[encoded data removed]",
      "text/plain": [
       "<Figure size 432x288 with 1 Axes>"
      ]
     },
     "metadata": {
      "needs_background": "light"
     },
     "output_type": "display_data"
    }
   ],
   "source": [
    "# Take the DF from pyspark\n",
    "plt.plot(values, color='k')\n",
    "plt.title('Random White Noise')\n",
    "plt.show()"
   ]
  },
  {
   "cell_type": "code",
   "execution_count": 44,
   "id": "84367b5e",
   "metadata": {},
   "outputs": [
    {
     "data": {
      "image/png": "[encoded data removed]",
      "text/plain": [
       "<Figure size 432x288 with 1 Axes>"
      ]
     },
     "metadata": {
      "needs_background": "light"
     },
     "output_type": "display_data"
    }
   ],
   "source": [
    "# Detrend the DF\n",
    "detrended = np.array(values) - np.polyfit(range(len(values)), values, 1)[0] * np.arange(len(values))\n",
    "\n",
    "# Visualize the detrended DF\n",
    "plt.plot(detrended)\n",
    "plt.title('Sentiment Score detrended by subtracting the least squares fit', fontsize=14)\n",
    "plt.show()"
   ]
  },
  {
   "cell_type": "markdown",
   "id": "9efc4042",
   "metadata": {},
   "source": [
    "# Seasonality"
   ]
  },
  {
   "cell_type": "code",
   "execution_count": 45,
   "id": "072b3321",
   "metadata": {},
   "outputs": [],
   "source": [
    "interpolated_df_pd= interpolated_df.toPandas()"
   ]
  },
  {
   "cell_type": "code",
   "execution_count": 46,
   "id": "d5d980f1",
   "metadata": {},
   "outputs": [
    {
     "data": {
      "text/html": [
       "<div>\n",
       "<style scoped>\n",
       "    .dataframe tbody tr th:only-of-type {\n",
       "        vertical-align: middle;\n",
       "    }\n",
       "\n",
       "    .dataframe tbody tr th {\n",
       "        vertical-align: top;\n",
       "    }\n",
       "\n",
       "    .dataframe thead th {\n",
       "        text-align: right;\n",
       "    }\n",
       "</style>\n",
       "<table border=\"1\" class=\"dataframe\">\n",
       "  <thead>\n",
       "    <tr style=\"text-align: right;\">\n",
       "      <th></th>\n",
       "      <th>date</th>\n",
       "      <th>interpolated_value</th>\n",
       "    </tr>\n",
       "  </thead>\n",
       "  <tbody>\n",
       "    <tr>\n",
       "      <th>0</th>\n",
       "      <td>2009-04-07</td>\n",
       "      <td>0.163810</td>\n",
       "    </tr>\n",
       "    <tr>\n",
       "      <th>1</th>\n",
       "      <td>2009-04-08</td>\n",
       "      <td>0.081905</td>\n",
       "    </tr>\n",
       "    <tr>\n",
       "      <th>2</th>\n",
       "      <td>2009-04-09</td>\n",
       "      <td>0.081905</td>\n",
       "    </tr>\n",
       "    <tr>\n",
       "      <th>3</th>\n",
       "      <td>2009-04-10</td>\n",
       "      <td>0.081905</td>\n",
       "    </tr>\n",
       "    <tr>\n",
       "      <th>4</th>\n",
       "      <td>2009-04-11</td>\n",
       "      <td>0.081905</td>\n",
       "    </tr>\n",
       "  </tbody>\n",
       "</table>\n",
       "</div>"
      ],
      "text/plain": [
       "         date  interpolated_value\n",
       "0  2009-04-07            0.163810\n",
       "1  2009-04-08            0.081905\n",
       "2  2009-04-09            0.081905\n",
       "3  2009-04-10            0.081905\n",
       "4  2009-04-11            0.081905"
      ]
     },
     "execution_count": 46,
     "metadata": {},
     "output_type": "execute_result"
    }
   ],
   "source": [
    "interpolated_df_pd.head()"
   ]
  },
  {
   "cell_type": "code",
   "execution_count": 47,
   "id": "575f8a36",
   "metadata": {},
   "outputs": [
    {
     "data": {
      "text/html": [
       "<div>\n",
       "<style scoped>\n",
       "    .dataframe tbody tr th:only-of-type {\n",
       "        vertical-align: middle;\n",
       "    }\n",
       "\n",
       "    .dataframe tbody tr th {\n",
       "        vertical-align: top;\n",
       "    }\n",
       "\n",
       "    .dataframe thead th {\n",
       "        text-align: right;\n",
       "    }\n",
       "</style>\n",
       "<table border=\"1\" class=\"dataframe\">\n",
       "  <thead>\n",
       "    <tr style=\"text-align: right;\">\n",
       "      <th></th>\n",
       "      <th>interpolated_value</th>\n",
       "    </tr>\n",
       "    <tr>\n",
       "      <th>date</th>\n",
       "      <th></th>\n",
       "    </tr>\n",
       "  </thead>\n",
       "  <tbody>\n",
       "    <tr>\n",
       "      <th>2009-04-07</th>\n",
       "      <td>0.163810</td>\n",
       "    </tr>\n",
       "    <tr>\n",
       "      <th>2009-04-08</th>\n",
       "      <td>0.081905</td>\n",
       "    </tr>\n",
       "    <tr>\n",
       "      <th>2009-04-09</th>\n",
       "      <td>0.081905</td>\n",
       "    </tr>\n",
       "    <tr>\n",
       "      <th>2009-04-10</th>\n",
       "      <td>0.081905</td>\n",
       "    </tr>\n",
       "    <tr>\n",
       "      <th>2009-04-11</th>\n",
       "      <td>0.081905</td>\n",
       "    </tr>\n",
       "  </tbody>\n",
       "</table>\n",
       "</div>"
      ],
      "text/plain": [
       "            interpolated_value\n",
       "date                          \n",
       "2009-04-07            0.163810\n",
       "2009-04-08            0.081905\n",
       "2009-04-09            0.081905\n",
       "2009-04-10            0.081905\n",
       "2009-04-11            0.081905"
      ]
     },
     "execution_count": 47,
     "metadata": {},
     "output_type": "execute_result"
    }
   ],
   "source": [
    "# Preparation for the Algorithm\n",
    "# ==============================================================================\n",
    "interpolated_df_pd['date'] = pd.to_datetime(interpolated_df_pd['date'], format='%Y/%m/%d')\n",
    "interpolated_df_pd = interpolated_df_pd.set_index('date')\n",
    "interpolated_df_pd = interpolated_df_pd.asfreq('D')\n",
    "interpolated_df_pd = interpolated_df_pd.sort_index()\n",
    "interpolated_df_pd.head()"
   ]
  },
  {
   "cell_type": "code",
   "execution_count": 48,
   "id": "c4a0d846",
   "metadata": {},
   "outputs": [
    {
     "name": "stdout",
     "output_type": "stream",
     "text": [
      "Number of rows with missing values: 0.0\n"
     ]
    }
   ],
   "source": [
    "print(f'Number of rows with missing values: {interpolated_df_pd.isnull().any(axis=1).mean()}')"
   ]
  },
  {
   "cell_type": "code",
   "execution_count": 49,
   "id": "fa3e7050",
   "metadata": {},
   "outputs": [
    {
     "data": {
      "text/plain": [
       "True"
      ]
     },
     "execution_count": 49,
     "metadata": {},
     "output_type": "execute_result"
    }
   ],
   "source": [
    "# Verify that a temporary index is complete\n",
    "# ==============================================================================\n",
    "(interpolated_df_pd.index == pd.date_range(start=interpolated_df_pd.index.min(),\n",
    "end=interpolated_df_pd.index.max(),\n",
    "freq=interpolated_df_pd.index.freq)).all()"
   ]
  },
  {
   "cell_type": "markdown",
   "id": "259184fa",
   "metadata": {},
   "source": [
    "## AutoRegressive"
   ]
  },
  {
   "cell_type": "code",
   "execution_count": 50,
   "id": "16d07599",
   "metadata": {},
   "outputs": [],
   "source": [
    "# Split data into train-test\n",
    "# ==============================================================================\n",
    "\n",
    "# Define the number of steps for test data\n",
    "steps = 20\n",
    "\n",
    "# Split the data into training and test sets\n",
    "data_train = interpolated_df_pd[:-steps]\n",
    "data_test = interpolated_df_pd[-steps:]"
   ]
  },
  {
   "cell_type": "code",
   "execution_count": 51,
   "id": "ce330333",
   "metadata": {},
   "outputs": [
    {
     "name": "stdout",
     "output_type": "stream",
     "text": [
      "Train dates : 2009-04-07 00:00:00 --- 2009-06-05 00:00:00 (n=60)\n",
      "Test dates : 2009-06-06 00:00:00 --- 2009-06-25 00:00:00 (n=20\n"
     ]
    },
    {
     "data": {
      "image/png": "[encoded data removed]",
      "text/plain": [
       "<Figure size 648x288 with 1 Axes>"
      ]
     },
     "metadata": {
      "needs_background": "light"
     },
     "output_type": "display_data"
    }
   ],
   "source": [
    "# Print information about the split\n",
    "print(f\"Train dates : {data_train.index.min()} --- {data_train.index.max()} (n={len(data_train)})\")\n",
    "print(f\"Test dates : {data_test.index.min()} --- {data_test.index.max()} (n={len(data_test)}\")\n",
    "\n",
    "# Create a plot to visualize the train and test data\n",
    "fig, ax = plt.subplots(figsize=(9, 4))\n",
    "data_train['interpolated_value'].plot(ax=ax, label='train')\n",
    "data_test['interpolated_value'].plot(ax=ax, label='test')\n",
    "ax.legend();"
   ]
  },
  {
   "cell_type": "code",
   "execution_count": 52,
   "id": "94dde9d3",
   "metadata": {},
   "outputs": [],
   "source": [
    "# Define your lag variables\n",
    "# ==============================================================================\n",
    "data_train['lag1'] = data_train['interpolated_value'].shift(1)\n",
    "data_train['lag2'] = data_train['interpolated_value'].shift(2)\n",
    "\n",
    "# Drop missing values\n",
    "data_train = data_train.dropna()"
   ]
  },
  {
   "cell_type": "code",
   "execution_count": 53,
   "id": "a77843d0",
   "metadata": {},
   "outputs": [
    {
     "name": "stdout",
     "output_type": "stream",
     "text": [
      "                            OLS Regression Results                            \n",
      "==============================================================================\n",
      "Dep. Variable:     interpolated_value   R-squared:                       0.148\n",
      "Model:                            OLS   Adj. R-squared:                  0.117\n",
      "Method:                 Least Squares   F-statistic:                     4.775\n",
      "Date:                Fri, 10 Nov 2023   Prob (F-statistic):             0.0122\n",
      "Time:                        16:58:30   Log-Likelihood:                 91.954\n",
      "No. Observations:                  58   AIC:                            -177.9\n",
      "Df Residuals:                      55   BIC:                            -171.7\n",
      "Df Model:                           2                                         \n",
      "Covariance Type:            nonrobust                                         \n",
      "==============================================================================\n",
      "                 coef    std err          t      P>|t|      [0.025      0.975]\n",
      "------------------------------------------------------------------------------\n",
      "const          0.0731      0.020      3.610      0.001       0.033       0.114\n",
      "lag1           0.3454      0.134      2.584      0.012       0.078       0.613\n",
      "lag2           0.0884      0.133      0.662      0.511      -0.179       0.356\n",
      "==============================================================================\n",
      "Omnibus:                        4.474   Durbin-Watson:                   1.997\n",
      "Prob(Omnibus):                  0.107   Jarque-Bera (JB):                3.506\n",
      "Skew:                           0.478   Prob(JB):                        0.173\n",
      "Kurtosis:                       2.268   Cond. No.                         23.6\n",
      "==============================================================================\n",
      "\n",
      "Notes:\n",
      "[1] Standard Errors assume that the covariance matrix of the errors is correctly specified.\n"
     ]
    }
   ],
   "source": [
    "# Create and train AR model\n",
    "# ==============================================================================\n",
    "X = data_train[['lag1', 'lag2']]\n",
    "X = sm.add_constant(X)  # Add a constant for the intercept\n",
    "y = data_train['interpolated_value']\n",
    "\n",
    "model = sm.OLS(y, X).fit()\n",
    "\n",
    "# Print model summary\n",
    "print(model.summary())"
   ]
  },
  {
   "cell_type": "code",
   "execution_count": 55,
   "id": "b0ca357b",
   "metadata": {},
   "outputs": [],
   "source": [
    "# Initialize lag values\n",
    "lag1 = data_train['lag1'].iloc[-1]  \n",
    "lag2 = data_train['lag2'].iloc[-1]  \n",
    "\n",
    "\n",
    "# Predict 'steps' time periods into the future\n",
    "forecasted_values = []\n",
    "\n",
    "for _ in range(steps):\n",
    "    # Calculate the prediction\n",
    "    y_pred = model.predict([1, lag1, lag2])\n",
    "    forecasted_values.append(y_pred[0])  # Access the first element directly\n",
    "\n",
    "    # Update lag values for the next prediction\n",
    "    lag2 = lag1\n",
    "    lag1 = y_pred[0]  # Access the first element directly"
   ]
  },
  {
   "cell_type": "code",
   "execution_count": 56,
   "id": "9614f468",
   "metadata": {},
   "outputs": [],
   "source": [
    "# Create a DataFrame for the predictions with date index\n",
    "prediction_dates = data_test.index[-steps:]\n",
    "predictions = pd.DataFrame({'Predicted': forecasted_values}, index=prediction_dates)"
   ]
  },
  {
   "cell_type": "code",
   "execution_count": 57,
   "id": "f06d782c",
   "metadata": {},
   "outputs": [
    {
     "data": {
      "text/html": [
       "<div>\n",
       "<style scoped>\n",
       "    .dataframe tbody tr th:only-of-type {\n",
       "        vertical-align: middle;\n",
       "    }\n",
       "\n",
       "    .dataframe tbody tr th {\n",
       "        vertical-align: top;\n",
       "    }\n",
       "\n",
       "    .dataframe thead th {\n",
       "        text-align: right;\n",
       "    }\n",
       "</style>\n",
       "<table border=\"1\" class=\"dataframe\">\n",
       "  <thead>\n",
       "    <tr style=\"text-align: right;\">\n",
       "      <th></th>\n",
       "      <th>Predicted</th>\n",
       "    </tr>\n",
       "    <tr>\n",
       "      <th>date</th>\n",
       "      <th></th>\n",
       "    </tr>\n",
       "  </thead>\n",
       "  <tbody>\n",
       "    <tr>\n",
       "      <th>2009-06-06</th>\n",
       "      <td>0.142047</td>\n",
       "    </tr>\n",
       "    <tr>\n",
       "      <th>2009-06-07</th>\n",
       "      <td>0.135797</td>\n",
       "    </tr>\n",
       "    <tr>\n",
       "      <th>2009-06-08</th>\n",
       "      <td>0.132519</td>\n",
       "    </tr>\n",
       "    <tr>\n",
       "      <th>2009-06-09</th>\n",
       "      <td>0.130834</td>\n",
       "    </tr>\n",
       "    <tr>\n",
       "      <th>2009-06-10</th>\n",
       "      <td>0.129962</td>\n",
       "    </tr>\n",
       "  </tbody>\n",
       "</table>\n",
       "</div>"
      ],
      "text/plain": [
       "            Predicted\n",
       "date                 \n",
       "2009-06-06   0.142047\n",
       "2009-06-07   0.135797\n",
       "2009-06-08   0.132519\n",
       "2009-06-09   0.130834\n",
       "2009-06-10   0.129962"
      ]
     },
     "execution_count": 57,
     "metadata": {},
     "output_type": "execute_result"
    }
   ],
   "source": [
    "# Print the first 5 rows of the DataFrames\n",
    "predictions.head()"
   ]
  },
  {
   "cell_type": "code",
   "execution_count": 58,
   "id": "df0bbeec",
   "metadata": {},
   "outputs": [
    {
     "data": {
      "text/html": [
       "<div>\n",
       "<style scoped>\n",
       "    .dataframe tbody tr th:only-of-type {\n",
       "        vertical-align: middle;\n",
       "    }\n",
       "\n",
       "    .dataframe tbody tr th {\n",
       "        vertical-align: top;\n",
       "    }\n",
       "\n",
       "    .dataframe thead th {\n",
       "        text-align: right;\n",
       "    }\n",
       "</style>\n",
       "<table border=\"1\" class=\"dataframe\">\n",
       "  <thead>\n",
       "    <tr style=\"text-align: right;\">\n",
       "      <th></th>\n",
       "      <th>interpolated_value</th>\n",
       "      <th>lag1</th>\n",
       "      <th>lag2</th>\n",
       "    </tr>\n",
       "    <tr>\n",
       "      <th>date</th>\n",
       "      <th></th>\n",
       "      <th></th>\n",
       "      <th></th>\n",
       "    </tr>\n",
       "  </thead>\n",
       "  <tbody>\n",
       "    <tr>\n",
       "      <th>2009-04-09</th>\n",
       "      <td>0.081905</td>\n",
       "      <td>0.081905</td>\n",
       "      <td>0.163810</td>\n",
       "    </tr>\n",
       "    <tr>\n",
       "      <th>2009-04-10</th>\n",
       "      <td>0.081905</td>\n",
       "      <td>0.081905</td>\n",
       "      <td>0.081905</td>\n",
       "    </tr>\n",
       "    <tr>\n",
       "      <th>2009-04-11</th>\n",
       "      <td>0.081905</td>\n",
       "      <td>0.081905</td>\n",
       "      <td>0.081905</td>\n",
       "    </tr>\n",
       "    <tr>\n",
       "      <th>2009-04-12</th>\n",
       "      <td>0.081905</td>\n",
       "      <td>0.081905</td>\n",
       "      <td>0.081905</td>\n",
       "    </tr>\n",
       "    <tr>\n",
       "      <th>2009-04-13</th>\n",
       "      <td>0.081905</td>\n",
       "      <td>0.081905</td>\n",
       "      <td>0.081905</td>\n",
       "    </tr>\n",
       "  </tbody>\n",
       "</table>\n",
       "</div>"
      ],
      "text/plain": [
       "            interpolated_value      lag1      lag2\n",
       "date                                              \n",
       "2009-04-09            0.081905  0.081905  0.163810\n",
       "2009-04-10            0.081905  0.081905  0.081905\n",
       "2009-04-11            0.081905  0.081905  0.081905\n",
       "2009-04-12            0.081905  0.081905  0.081905\n",
       "2009-04-13            0.081905  0.081905  0.081905"
      ]
     },
     "execution_count": 58,
     "metadata": {},
     "output_type": "execute_result"
    }
   ],
   "source": [
    "data_train.head()"
   ]
  },
  {
   "cell_type": "code",
   "execution_count": 59,
   "id": "16bcb072",
   "metadata": {},
   "outputs": [
    {
     "data": {
      "text/html": [
       "<div>\n",
       "<style scoped>\n",
       "    .dataframe tbody tr th:only-of-type {\n",
       "        vertical-align: middle;\n",
       "    }\n",
       "\n",
       "    .dataframe tbody tr th {\n",
       "        vertical-align: top;\n",
       "    }\n",
       "\n",
       "    .dataframe thead th {\n",
       "        text-align: right;\n",
       "    }\n",
       "</style>\n",
       "<table border=\"1\" class=\"dataframe\">\n",
       "  <thead>\n",
       "    <tr style=\"text-align: right;\">\n",
       "      <th></th>\n",
       "      <th>interpolated_value</th>\n",
       "    </tr>\n",
       "    <tr>\n",
       "      <th>date</th>\n",
       "      <th></th>\n",
       "    </tr>\n",
       "  </thead>\n",
       "  <tbody>\n",
       "    <tr>\n",
       "      <th>2009-06-06</th>\n",
       "      <td>0.192470</td>\n",
       "    </tr>\n",
       "    <tr>\n",
       "      <th>2009-06-07</th>\n",
       "      <td>0.189789</td>\n",
       "    </tr>\n",
       "    <tr>\n",
       "      <th>2009-06-08</th>\n",
       "      <td>0.172798</td>\n",
       "    </tr>\n",
       "    <tr>\n",
       "      <th>2009-06-09</th>\n",
       "      <td>0.081905</td>\n",
       "    </tr>\n",
       "    <tr>\n",
       "      <th>2009-06-10</th>\n",
       "      <td>0.081905</td>\n",
       "    </tr>\n",
       "  </tbody>\n",
       "</table>\n",
       "</div>"
      ],
      "text/plain": [
       "            interpolated_value\n",
       "date                          \n",
       "2009-06-06            0.192470\n",
       "2009-06-07            0.189789\n",
       "2009-06-08            0.172798\n",
       "2009-06-09            0.081905\n",
       "2009-06-10            0.081905"
      ]
     },
     "execution_count": 59,
     "metadata": {},
     "output_type": "execute_result"
    }
   ],
   "source": [
    "data_test.head()"
   ]
  },
  {
   "cell_type": "code",
   "execution_count": 60,
   "id": "d7a90db8",
   "metadata": {},
   "outputs": [
    {
     "data": {
      "image/png": "[encoded data removed]",
      "text/plain": [
       "<Figure size 648x288 with 1 Axes>"
      ]
     },
     "metadata": {
      "needs_background": "light"
     },
     "output_type": "display_data"
    }
   ],
   "source": [
    "# Plot\n",
    "# ==============================================================================\n",
    "fig, ax = plt.subplots(figsize=(9, 4))\n",
    "data_train['interpolated_value'].plot(ax=ax, label='train')\n",
    "data_test['interpolated_value'].plot(ax=ax, label='test')\n",
    "predictions.plot(ax=ax, label='predictions')\n",
    "ax.legend();"
   ]
  },
  {
   "cell_type": "code",
   "execution_count": 61,
   "id": "00e9b711",
   "metadata": {},
   "outputs": [
    {
     "name": "stdout",
     "output_type": "stream",
     "text": [
      "Test error (MSE): 0.013544959047254643\n"
     ]
    }
   ],
   "source": [
    "# Calculate the test error (MSE)\n",
    "error_mse = mean_squared_error(\n",
    "    y_true=data_test['interpolated_value'],\n",
    "    y_pred=predictions['Predicted']\n",
    ")\n",
    "\n",
    "# Print the test error\n",
    "print(f\"Test error (MSE): {error_mse}\")"
   ]
  },
  {
   "cell_type": "code",
   "execution_count": 62,
   "id": "21efece8",
   "metadata": {},
   "outputs": [
    {
     "name": "stdout",
     "output_type": "stream",
     "text": [
      "Best Hyperparameters:\n",
      "n_estimators: 500\n",
      "max_depth: 3\n",
      "Best MSE: 7.873256180015573e-08\n"
     ]
    }
   ],
   "source": [
    "# Define the hyperparameter grid\n",
    "param_grid = {\n",
    "    'n_estimators': [1, 500],\n",
    "    'max_depth': [1, 2, 3, 4 ,5]\n",
    "}\n",
    "\n",
    "# Create the RandomForestRegressor\n",
    "regressor = RandomForestRegressor(random_state=42)\n",
    "\n",
    "# Create Leave-One-Out Cross-Validation\n",
    "loo = LeaveOneOut()\n",
    "\n",
    "# Initialize variables to store the best hyperparameters and MSE\n",
    "best_params = None\n",
    "best_mse = float('inf')\n",
    "\n",
    "# Perform LOOCV to search for the best hyperparameters\n",
    "for train_index, test_index in loo.split(X):\n",
    "    X_train, X_test = X.iloc[train_index], X.iloc[test_index]\n",
    "    y_train, y_test = y.iloc[train_index], y.iloc[test_index]\n",
    "\n",
    "    # Create GridSearchCV for hyperparameter tuning\n",
    "    grid_search = GridSearchCV(estimator=regressor, param_grid=param_grid, scoring='neg_mean_squared_error', cv=2)\n",
    "    grid_search.fit(X_train, y_train)\n",
    "\n",
    "    # Get the best hyperparameters and the best model\n",
    "    best_params = grid_search.best_params_\n",
    "    best_model = grid_search.best_estimator_\n",
    "\n",
    "    # Evaluate the best model on the test data\n",
    "    forecasted_values = best_model.predict(X_test)\n",
    "\n",
    "    # Calculate the mean squared error\n",
    "    mse = mean_squared_error(y_test, forecasted_values)\n",
    "\n",
    "    if mse < best_mse:\n",
    "        best_mse = mse\n",
    "\n",
    "# Print the results\n",
    "print(\"Best Hyperparameters:\")\n",
    "print(\"n_estimators:\", best_params['n_estimators'])\n",
    "print(\"max_depth:\", best_params['max_depth'])\n",
    "print(f\"Best MSE: {best_mse}\")"
   ]
  },
  {
   "cell_type": "code",
   "execution_count": 64,
   "id": "a0ed1901",
   "metadata": {},
   "outputs": [
    {
     "data": {
      "text/html": [
       "<style>#sk-container-id-1 {color: black;}#sk-container-id-1 pre{padding: 0;}#sk-container-id-1 div.sk-toggleable {background-color: white;}#sk-container-id-1 label.sk-toggleable__label {cursor: pointer;display: block;width: 100%;margin-bottom: 0;padding: 0.3em;box-sizing: border-box;text-align: center;}#sk-container-id-1 label.sk-toggleable__label-arrow:before {content: \"▸\";float: left;margin-right: 0.25em;color: #696969;}#sk-container-id-1 label.sk-toggleable__label-arrow:hover:before {color: black;}#sk-container-id-1 div.sk-estimator:hover label.sk-toggleable__label-arrow:before {color: black;}#sk-container-id-1 div.sk-toggleable__content {max-height: 0;max-width: 0;overflow: hidden;text-align: left;background-color: #f0f8ff;}#sk-container-id-1 div.sk-toggleable__content pre {margin: 0.2em;color: black;border-radius: 0.25em;background-color: #f0f8ff;}#sk-container-id-1 input.sk-toggleable__control:checked~div.sk-toggleable__content {max-height: 200px;max-width: 100%;overflow: auto;}#sk-container-id-1 input.sk-toggleable__control:checked~label.sk-toggleable__label-arrow:before {content: \"▾\";}#sk-container-id-1 div.sk-estimator input.sk-toggleable__control:checked~label.sk-toggleable__label {background-color: #d4ebff;}#sk-container-id-1 div.sk-label input.sk-toggleable__control:checked~label.sk-toggleable__label {background-color: #d4ebff;}#sk-container-id-1 input.sk-hidden--visually {border: 0;clip: rect(1px 1px 1px 1px);clip: rect(1px, 1px, 1px, 1px);height: 1px;margin: -1px;overflow: hidden;padding: 0;position: absolute;width: 1px;}#sk-container-id-1 div.sk-estimator {font-family: monospace;background-color: #f0f8ff;border: 1px dotted black;border-radius: 0.25em;box-sizing: border-box;margin-bottom: 0.5em;}#sk-container-id-1 div.sk-estimator:hover {background-color: #d4ebff;}#sk-container-id-1 div.sk-parallel-item::after {content: \"\";width: 100%;border-bottom: 1px solid gray;flex-grow: 1;}#sk-container-id-1 div.sk-label:hover label.sk-toggleable__label {background-color: #d4ebff;}#sk-container-id-1 div.sk-serial::before {content: \"\";position: absolute;border-left: 1px solid gray;box-sizing: border-box;top: 0;bottom: 0;left: 50%;z-index: 0;}#sk-container-id-1 div.sk-serial {display: flex;flex-direction: column;align-items: center;background-color: white;padding-right: 0.2em;padding-left: 0.2em;position: relative;}#sk-container-id-1 div.sk-item {position: relative;z-index: 1;}#sk-container-id-1 div.sk-parallel {display: flex;align-items: stretch;justify-content: center;background-color: white;position: relative;}#sk-container-id-1 div.sk-item::before, #sk-container-id-1 div.sk-parallel-item::before {content: \"\";position: absolute;border-left: 1px solid gray;box-sizing: border-box;top: 0;bottom: 0;left: 50%;z-index: -1;}#sk-container-id-1 div.sk-parallel-item {display: flex;flex-direction: column;z-index: 1;position: relative;background-color: white;}#sk-container-id-1 div.sk-parallel-item:first-child::after {align-self: flex-end;width: 50%;}#sk-container-id-1 div.sk-parallel-item:last-child::after {align-self: flex-start;width: 50%;}#sk-container-id-1 div.sk-parallel-item:only-child::after {width: 0;}#sk-container-id-1 div.sk-dashed-wrapped {border: 1px dashed gray;margin: 0 0.4em 0.5em 0.4em;box-sizing: border-box;padding-bottom: 0.4em;background-color: white;}#sk-container-id-1 div.sk-label label {font-family: monospace;font-weight: bold;display: inline-block;line-height: 1.2em;}#sk-container-id-1 div.sk-label-container {text-align: center;}#sk-container-id-1 div.sk-container {/* jupyter's `normalize.less` sets `[hidden] { display: none; }` but bootstrap.min.css set `[hidden] { display: none !important; }` so we also need the `!important` here to be able to override the default hidden behavior on the sphinx rendered scikit-learn.org. See: https://github.com/scikit-learn/scikit-learn/issues/21755 */display: inline-block !important;position: relative;}#sk-container-id-1 div.sk-text-repr-fallback {display: none;}</style><div id=\"sk-container-id-1\" class=\"sk-top-container\"><div class=\"sk-text-repr-fallback\"><pre>RandomForestRegressor(max_depth=3, n_estimators=500, random_state=42)</pre><b>In a Jupyter environment, please rerun this cell to show the HTML representation or trust the notebook. <br />On GitHub, the HTML representation is unable to render, please try loading this page with nbviewer.org.</b></div><div class=\"sk-container\" hidden><div class=\"sk-item\"><div class=\"sk-estimator sk-toggleable\"><input class=\"sk-toggleable__control sk-hidden--visually\" id=\"sk-estimator-id-1\" type=\"checkbox\" checked><label for=\"sk-estimator-id-1\" class=\"sk-toggleable__label sk-toggleable__label-arrow\">RandomForestRegressor</label><div class=\"sk-toggleable__content\"><pre>RandomForestRegressor(max_depth=3, n_estimators=500, random_state=42)</pre></div></div></div></div></div>"
      ],
      "text/plain": [
       "RandomForestRegressor(max_depth=3, n_estimators=500, random_state=42)"
      ]
     },
     "execution_count": 64,
     "metadata": {},
     "output_type": "execute_result"
    }
   ],
   "source": [
    "# Define the hyperparameters\n",
    "n_estimators = 500\n",
    "max_depth = 3\n",
    "\n",
    "# Split the data into training and testing sets\n",
    "X_train, X_test, y_train, y_test = train_test_split(X, y, test_size=0.33, random_state=42)\n",
    "\n",
    "\n",
    "# Create and train a RandomForestRegressor with the best hyperparameters\n",
    "regressor = RandomForestRegressor(max_depth=max_depth, n_estimators=n_estimators, random_state=42)\n",
    "regressor.fit(X, y)"
   ]
  },
  {
   "cell_type": "code",
   "execution_count": 65,
   "id": "655b605c",
   "metadata": {},
   "outputs": [],
   "source": [
    "# Predictions on the test set\n",
    "forecasted_values = regressor.predict(X_test)"
   ]
  },
  {
   "cell_type": "code",
   "execution_count": 66,
   "id": "71b15534",
   "metadata": {},
   "outputs": [
    {
     "name": "stdout",
     "output_type": "stream",
     "text": [
      "[0.10243441 0.10474582 0.10939409 0.11174177 0.13556421 0.1816439\n",
      " 0.10522063 0.17495497 0.18132699 0.15978955 0.17628561 0.10474582\n",
      " 0.09781702 0.10474582 0.10474582 0.10474582 0.10474582 0.10474582\n",
      " 0.14135681 0.10474582]\n"
     ]
    }
   ],
   "source": [
    "print(forecasted_values)"
   ]
  },
  {
   "cell_type": "code",
   "execution_count": 67,
   "id": "ed4a4094",
   "metadata": {},
   "outputs": [],
   "source": [
    "# Create an index for the forecasted values\n",
    "forecasted_index = data_test.index[:len(forecasted_values)]"
   ]
  },
  {
   "cell_type": "code",
   "execution_count": 68,
   "id": "f853d817",
   "metadata": {},
   "outputs": [
    {
     "name": "stdout",
     "output_type": "stream",
     "text": [
      "DatetimeIndex(['2009-06-06', '2009-06-07', '2009-06-08', '2009-06-09',\n",
      "               '2009-06-10', '2009-06-11', '2009-06-12', '2009-06-13',\n",
      "               '2009-06-14', '2009-06-15', '2009-06-16', '2009-06-17',\n",
      "               '2009-06-18', '2009-06-19', '2009-06-20', '2009-06-21',\n",
      "               '2009-06-22', '2009-06-23', '2009-06-24', '2009-06-25'],\n",
      "              dtype='datetime64[ns]', name='date', freq='D')\n"
     ]
    }
   ],
   "source": [
    "print(forecasted_index)"
   ]
  },
  {
   "cell_type": "code",
   "execution_count": 72,
   "id": "4bed760a",
   "metadata": {},
   "outputs": [
    {
     "data": {
      "text/html": [
       "<div>\n",
       "<style scoped>\n",
       "    .dataframe tbody tr th:only-of-type {\n",
       "        vertical-align: middle;\n",
       "    }\n",
       "\n",
       "    .dataframe tbody tr th {\n",
       "        vertical-align: top;\n",
       "    }\n",
       "\n",
       "    .dataframe thead th {\n",
       "        text-align: right;\n",
       "    }\n",
       "</style>\n",
       "<table border=\"1\" class=\"dataframe\">\n",
       "  <thead>\n",
       "    <tr style=\"text-align: right;\">\n",
       "      <th></th>\n",
       "      <th>Predicted</th>\n",
       "    </tr>\n",
       "    <tr>\n",
       "      <th>date</th>\n",
       "      <th></th>\n",
       "    </tr>\n",
       "  </thead>\n",
       "  <tbody>\n",
       "    <tr>\n",
       "      <th>2009-06-06</th>\n",
       "      <td>0.102434</td>\n",
       "    </tr>\n",
       "    <tr>\n",
       "      <th>2009-06-07</th>\n",
       "      <td>0.104746</td>\n",
       "    </tr>\n",
       "    <tr>\n",
       "      <th>2009-06-08</th>\n",
       "      <td>0.109394</td>\n",
       "    </tr>\n",
       "    <tr>\n",
       "      <th>2009-06-09</th>\n",
       "      <td>0.111742</td>\n",
       "    </tr>\n",
       "    <tr>\n",
       "      <th>2009-06-10</th>\n",
       "      <td>0.135564</td>\n",
       "    </tr>\n",
       "  </tbody>\n",
       "</table>\n",
       "</div>"
      ],
      "text/plain": [
       "            Predicted\n",
       "date                 \n",
       "2009-06-06   0.102434\n",
       "2009-06-07   0.104746\n",
       "2009-06-08   0.109394\n",
       "2009-06-09   0.111742\n",
       "2009-06-10   0.135564"
      ]
     },
     "execution_count": 72,
     "metadata": {},
     "output_type": "execute_result"
    }
   ],
   "source": [
    "# Convert prediction values and index to a DataFrame\n",
    "forecasted_data = pd.DataFrame({'Predicted': forecasted_values}, index=forecasted_index)\n",
    "\n",
    "# Results\n",
    "forecasted_data.tail()"
   ]
  },
  {
   "cell_type": "code",
   "execution_count": 74,
   "id": "96e8568e",
   "metadata": {},
   "outputs": [
    {
     "data": {
      "image/png": "[encoded data removed]",
      "text/plain": [
       "<Figure size 864x432 with 1 Axes>"
      ]
     },
     "metadata": {
      "needs_background": "light"
     },
     "output_type": "display_data"
    }
   ],
   "source": [
    "# Plot\n",
    "fig, ax = plt.subplots(figsize=(12, 6))\n",
    "data_train['interpolated_value'].plot(ax=ax, label='train')\n",
    "data_test['interpolated_value'].plot(ax=ax, label='test')\n",
    "forecasted_data['Predicted'].plot(ax=ax, label='predicted')\n",
    "ax.legend()\n",
    "plt.show()"
   ]
  },
  {
   "cell_type": "code",
   "execution_count": 75,
   "id": "dfb5115e",
   "metadata": {},
   "outputs": [
    {
     "name": "stdout",
     "output_type": "stream",
     "text": [
      "Mean Squared Error: 0.0012928597524841322\n"
     ]
    }
   ],
   "source": [
    "# Calculate the Mean Squared Error\n",
    "mse = mean_squared_error(y_test, forecasted_values)\n",
    "print(f\"Mean Squared Error: {mse}\")"
   ]
  },
  {
   "cell_type": "code",
   "execution_count": 77,
   "id": "b540ac34",
   "metadata": {},
   "outputs": [
    {
     "name": "stdout",
     "output_type": "stream",
     "text": [
      "RUNNING THE L-BFGS-B CODE\n",
      "\n",
      "           * * *\n",
      "\n",
      "Machine precision = 2.220D-16\n",
      " N =            5     M =           10\n",
      " This problem is unconstrained.\n",
      "\n",
      "At X0         0 variables are exactly at the bounds\n",
      "\n",
      "At iterate    0    f= -1.28589D-01    |proj g|=  4.53985D+01\n",
      "\n",
      "At iterate    5    f= -1.41320D+00    |proj g|=  2.33389D-01\n",
      "\n",
      "At iterate   10    f= -1.47099D+00    |proj g|=  6.51840D-01\n",
      "\n",
      "At iterate   15    f= -1.53016D+00    |proj g|=  1.50109D-02\n",
      "\n",
      "At iterate   20    f= -1.53422D+00    |proj g|=  8.28062D-01\n",
      "\n",
      "At iterate   25    f= -1.54880D+00    |proj g|=  1.66649D-01\n",
      "\n",
      "At iterate   30    f= -1.54948D+00    |proj g|=  3.06920D-01\n",
      "\n",
      "At iterate   35    f= -1.55448D+00    |proj g|=  2.71718D-01\n",
      "\n",
      "At iterate   40    f= -1.55508D+00    |proj g|=  4.96133D-02\n",
      "\n",
      "At iterate   45    f= -1.55518D+00    |proj g|=  1.65602D-03\n",
      "\n",
      "           * * *\n",
      "\n",
      "Tit   = total number of iterations\n",
      "Tnf   = total number of function evaluations\n",
      "Tnint = total number of segments explored during Cauchy searches\n",
      "Skip  = number of BFGS updates skipped\n",
      "Nact  = number of active bounds at final generalized Cauchy point\n",
      "Projg = norm of the final projected gradient\n",
      "F     = final function value\n",
      "\n",
      "           * * *\n",
      "\n",
      "   N    Tit     Tnf  Tnint  Skip  Nact     Projg        F\n",
      "    5     47     76      1     0     0   1.726D-03  -1.555D+00\n",
      "  F =  -1.5551788039870666     \n",
      "\n",
      "CONVERGENCE: REL_REDUCTION_OF_F_<=_FACTR*EPSMCH             \n",
      "\n",
      " Warning:  more than 10 function and gradient\n",
      "   evaluations in the last line search.  Termination\n",
      "   may possibly be caused by a bad search direction.\n"
     ]
    },
    {
     "data": {
      "image/png": "[encoded data removed]",
      "text/plain": [
       "<Figure size 648x288 with 1 Axes>"
      ]
     },
     "metadata": {
      "needs_background": "light"
     },
     "output_type": "display_data"
    },
    {
     "name": "stdout",
     "output_type": "stream",
     "text": [
      "SARIMA Test error (MSE): 0.009333631826786511\n"
     ]
    }
   ],
   "source": [
    "# Fit a SARIMA model\n",
    "order = (2, 0, 0)  # Non-seasonal order\n",
    "seasonal_order = (1, 0, 1, 7)  # Seasonal order (p, d, q, S)\n",
    "\n",
    "model_sarima = SARIMAX(data_train['interpolated_value'], order=order, seasonal_order=seasonal_order)\n",
    "results_sarima = model_sarima.fit()\n",
    "\n",
    "# Make predictions on the test set\n",
    "forecasted_values_sarima = results_sarima.predict(start=len(data_train), end=len(data_train) + len(data_test) - 1, typ='levels')\n",
    "\n",
    "# Create an index for the forecasted values\n",
    "forecasted_index_sarima = data_test.index[:len(forecasted_values_sarima)]\n",
    "\n",
    "# Plot\n",
    "fig, ax = plt.subplots(figsize=(9, 4))\n",
    "data_train['interpolated_value'].plot(ax=ax, label='train')\n",
    "data_test['interpolated_value'].plot(ax=ax, label='test')\n",
    "forecasted_values_sarima.plot(ax=ax, label='SARIMA predictions', color='green')\n",
    "ax.legend()\n",
    "plt.show()\n",
    "\n",
    "# Calculate the test error (MSE)\n",
    "error_mse_sarima = mean_squared_error(\n",
    "    y_true=data_test['interpolated_value'],\n",
    "    y_pred=forecasted_values_sarima\n",
    ")\n",
    "\n",
    "# Print the test error for SARIMA\n",
    "print(f\"SARIMA Test error (MSE): {error_mse_sarima}\")"
   ]
  },
  {
   "cell_type": "code",
   "execution_count": 78,
   "id": "57849105",
   "metadata": {},
   "outputs": [
    {
     "data": {
      "image/png": "[encoded data removed]",
      "text/plain": [
       "<Figure size 864x288 with 2 Axes>"
      ]
     },
     "metadata": {
      "needs_background": "light"
     },
     "output_type": "display_data"
    }
   ],
   "source": [
    "# Create lag variables\n",
    "data_train['lag1'] = data_train['interpolated_value'].shift(1)\n",
    "data_train['lag2'] = data_train['interpolated_value'].shift(2)\n",
    "# Plot ACF and PACF\n",
    "fig, ax = plt.subplots(1, 2, figsize=(12, 4))\n",
    "plot_acf(data_train['interpolated_value'], lags=25, ax=ax[0])\n",
    "plot_pacf(data_train['interpolated_value'], lags=25, ax=ax[1])\n",
    "plt.show()"
   ]
  },
  {
   "cell_type": "markdown",
   "id": "2eb7aa70",
   "metadata": {},
   "source": [
    "# Lemmatization, Tokenization, StopWordsRemover"
   ]
  },
  {
   "cell_type": "code",
   "execution_count": 79,
   "id": "7cb97431",
   "metadata": {},
   "outputs": [],
   "source": [
    "# Lemmatization using NLTK\n",
    "lemmatizer = WordNetLemmatizer()\n",
    "\n",
    "def lemmatize_text(text):\n",
    "    words = text.split()\n",
    "    lemmatized_words = [lemmatizer.lemmatize(word) for word in words]\n",
    "    return ' '.join(lemmatized_words)\n",
    "\n",
    "lemmatize_udf = udf(lemmatize_text, StringType())\n",
    "df = df.withColumn(\"text\", lemmatize_udf(\"text\"))"
   ]
  },
  {
   "cell_type": "code",
   "execution_count": 80,
   "id": "8abfb5ee",
   "metadata": {},
   "outputs": [],
   "source": [
    "# Tokenization\n",
    "tokenizer = Tokenizer(inputCol=\"text\", outputCol=\"filtered_words\")\n",
    "df = tokenizer.transform(df)"
   ]
  },
  {
   "cell_type": "code",
   "execution_count": 81,
   "id": "df0794fb",
   "metadata": {},
   "outputs": [],
   "source": [
    "# Use StopWordsRemover on the \"filtered_words\" column in your example DataFrame\n",
    "remover = StopWordsRemover(inputCol=\"filtered_words\", outputCol=\"filtered_words_without_stopwords\")\n",
    "df = remover.transform(df)\n",
    "\n",
    "# You can update the column name as per your needs\n",
    "df = df.withColumnRenamed(\"filtered_words_without_stopwords\", \"filtered_words_final\")"
   ]
  },
  {
   "cell_type": "markdown",
   "id": "2ef86ef2",
   "metadata": {},
   "source": [
    "# Preparing the Dataset for the Databases"
   ]
  },
  {
   "cell_type": "code",
   "execution_count": 82,
   "id": "7435bdd7",
   "metadata": {},
   "outputs": [],
   "source": [
    "# Just pick the necessary columns\n",
    "df = df.select('0', 'ids', 'date', 'flag', 'user', 'filtered_words_final')\n",
    "\n",
    "# Rename the \"0\" column to \"index\"\n",
    "df = df.withColumnRenamed(\"0\", \"tweet_index\")\n",
    "\n",
    "# Show the result\n",
    "#df.show(truncate=False)"
   ]
  },
  {
   "cell_type": "code",
   "execution_count": 83,
   "id": "ba62fe8b",
   "metadata": {},
   "outputs": [
    {
     "data": {
      "text/plain": [
       "DataFrame[tweet_index: int, ids: bigint, date: date, flag: string, user: string, filtered_words_final: array<string>]"
      ]
     },
     "execution_count": 83,
     "metadata": {},
     "output_type": "execute_result"
    }
   ],
   "source": [
    "df.dropna()"
   ]
  },
  {
   "cell_type": "code",
   "execution_count": null,
   "id": "1281d496",
   "metadata": {},
   "outputs": [],
   "source": [
    "# Count the total number of values in the dataframe\n",
    "total_count = df.count()\n",
    "\n",
    "# Show the total count\n",
    "print(\"Total count of values in the dataframe\", total_count)"
   ]
  },
  {
   "cell_type": "markdown",
   "id": "79986ea3",
   "metadata": {},
   "source": [
    "# MySQL"
   ]
  },
  {
   "cell_type": "code",
   "execution_count": 85,
   "id": "dd55fc93",
   "metadata": {},
   "outputs": [],
   "source": [
    "# Connect to the database\n",
    "connection = pymysql.connect(\n",
    "    host=\"localhost\",\n",
    "    user=\"root\",\n",
    "    password=\"password\",\n",
    "    database=\"ProjectTweets\",\n",
    "    charset='utf8mb4',\n",
    "    cursorclass=pymysql.cursors.DictCursor\n",
    ")"
   ]
  },
  {
   "cell_type": "code",
   "execution_count": 88,
   "id": "f13a6c13",
   "metadata": {},
   "outputs": [],
   "source": [
    "# Create a cursor\n",
    "cursor = connection.cursor()\n",
    "\n",
    "# Create a table\n",
    "create_table_sql = \"\"\"\n",
    "CREATE TABLE IF NOT EXISTS Tweets (\n",
    "    tweet_index INT AUTO_INCREMENT PRIMARY KEY,\n",
    "    ids BIGINT,\n",
    "    date DATE,\n",
    "    flag VARCHAR(55),\n",
    "    user VARCHAR(255),\n",
    "    filtered_words_final TEXT\n",
    ");\n",
    "\"\"\""
   ]
  },
  {
   "cell_type": "code",
   "execution_count": 89,
   "id": "c9ed8b18",
   "metadata": {},
   "outputs": [],
   "source": [
    "# Create a table\n",
    "cursor.execute(create_table_sql)\n",
    "\n",
    "# Save changes\n",
    "connection.commit()"
   ]
  },
  {
   "cell_type": "code",
   "execution_count": 90,
   "id": "70aeee81",
   "metadata": {},
   "outputs": [
    {
     "name": "stdout",
     "output_type": "stream",
     "text": [
      "root\n",
      " |-- tweet_index: integer (nullable = true)\n",
      " |-- ids: long (nullable = true)\n",
      " |-- date: date (nullable = true)\n",
      " |-- flag: string (nullable = true)\n",
      " |-- user: string (nullable = true)\n",
      " |-- filtered_words_final: array (nullable = true)\n",
      " |    |-- element: string (containsNull = true)\n",
      " |-- concatenated_words: string (nullable = false)\n",
      "\n"
     ]
    }
   ],
   "source": [
    "# Combine the column named 'filtered_words_final' into a comma-separated column of text.\n",
    "df = df.withColumn('concatenated_words', concat_ws(\",\", df['filtered_words_final']))\n",
    "df.printSchema()"
   ]
  },
  {
   "cell_type": "code",
   "execution_count": 91,
   "id": "3078f1b2",
   "metadata": {},
   "outputs": [
    {
     "name": "stderr",
     "output_type": "stream",
     "text": [
      "\r",
      "[Stage 90:>                                                         (0 + 1) / 1]\r"
     ]
    },
    {
     "name": "stdout",
     "output_type": "stream",
     "text": [
      "+-----------+----------+----------+--------+-------------+---------------------------------------------------------------------+\n",
      "|tweet_index|ids       |date      |flag    |user         |concatenated_words                                                   |\n",
      "+-----------+----------+----------+--------+-------------+---------------------------------------------------------------------+\n",
      "|1          |1467810672|2009-04-07|NO_QUERY|scotthamilton|upset,update,facebook,texting,might,cry,result,school,today,also,blah|\n",
      "+-----------+----------+----------+--------+-------------+---------------------------------------------------------------------+\n",
      "only showing top 1 row\n",
      "\n"
     ]
    },
    {
     "name": "stderr",
     "output_type": "stream",
     "text": [
      "\r",
      "                                                                                \r"
     ]
    }
   ],
   "source": [
    "df = df.select('tweet_index', 'ids', 'date', 'flag', 'user', 'concatenated_words')\n",
    "df.show(1, truncate=False)"
   ]
  },
  {
   "cell_type": "code",
   "execution_count": 92,
   "id": "bb94110a",
   "metadata": {},
   "outputs": [
    {
     "name": "stdout",
     "output_type": "stream",
     "text": [
      "root\n",
      " |-- tweet_index: integer (nullable = true)\n",
      " |-- ids: long (nullable = true)\n",
      " |-- date: date (nullable = true)\n",
      " |-- flag: string (nullable = true)\n",
      " |-- user: string (nullable = true)\n",
      " |-- concatenated_words: string (nullable = false)\n",
      "\n"
     ]
    }
   ],
   "source": [
    "df.printSchema()"
   ]
  },
  {
   "cell_type": "code",
   "execution_count": 93,
   "id": "8ebaf4e6",
   "metadata": {},
   "outputs": [],
   "source": [
    "mysql_url = \"jdbc:mysql://localhost:3306/ProjectTweets\"\n",
    "mysql_properties = {\n",
    "    \"user\": \"root\",\n",
    "    \"password\": \"password\",\n",
    "}"
   ]
  },
  {
   "cell_type": "code",
   "execution_count": 94,
   "id": "b60333aa",
   "metadata": {},
   "outputs": [
    {
     "name": "stderr",
     "output_type": "stream",
     "text": [
      "                                                                                \r"
     ]
    }
   ],
   "source": [
    "df.write.jdbc(url=mysql_url, table=\"Tweets\", mode=\"overwrite\", properties=mysql_properties)"
   ]
  },
  {
   "cell_type": "code",
   "execution_count": 96,
   "id": "f6ed197a",
   "metadata": {},
   "outputs": [],
   "source": [
    "# Execute the ALTER TABLE query\n",
    "#alter_table_sql = \"ALTER TABLE Tweets ADD COLUMN IF NOT EXISTS YCSB_KEY VARCHAR(255);\"\n",
    "#cursor.execute(alter_table_sql)"
   ]
  },
  {
   "cell_type": "code",
   "execution_count": 97,
   "id": "dc894c55",
   "metadata": {},
   "outputs": [],
   "source": [
    "connection.commit()"
   ]
  },
  {
   "cell_type": "code",
   "execution_count": 98,
   "id": "c638b98f",
   "metadata": {},
   "outputs": [],
   "source": [
    "df_from_mysql = spark.read.jdbc(url=mysql_url, table=\"Tweets\", properties=mysql_properties)"
   ]
  },
  {
   "cell_type": "markdown",
   "id": "a2eb2da0",
   "metadata": {},
   "source": [
    "### Showing results from MySQL"
   ]
  },
  {
   "cell_type": "code",
   "execution_count": 99,
   "id": "bdd4815d",
   "metadata": {},
   "outputs": [
    {
     "name": "stderr",
     "output_type": "stream",
     "text": [
      "\r",
      "[Stage 92:>                                                         (0 + 1) / 1]\r"
     ]
    },
    {
     "name": "stdout",
     "output_type": "stream",
     "text": [
      "+-----------+----------+----------+--------+---------------+--------------------+\n",
      "|tweet_index|       ids|      date|    flag|           user|  concatenated_words|\n",
      "+-----------+----------+----------+--------+---------------+--------------------+\n",
      "|          1|1467810672|2009-04-07|NO_QUERY|  scotthamilton|upset,update,face...|\n",
      "|          2|1467810917|2009-04-07|NO_QUERY|       mattycus|kenichan,dived,ma...|\n",
      "|          3|1467811184|2009-04-07|NO_QUERY|        ElleCTF|whole,body,feel,i...|\n",
      "|          4|1467811193|2009-04-07|NO_QUERY|         Karoli|nationwideclass,b...|\n",
      "|          5|1467811372|2009-04-07|NO_QUERY|       joy_wolf| kwesidei,whole,crew|\n",
      "|          6|1467811592|2009-04-07|NO_QUERY|        mybirch|            need,hug|\n",
      "|          7|1467811594|2009-04-07|NO_QUERY|           coZZ|loltrish,hey,long...|\n",
      "|          8|1467811795|2009-04-07|NO_QUERY|2Hood4Hollywood| tatiana,k,nope,didn|\n",
      "|          9|1467812025|2009-04-07|NO_QUERY|        mimismo|  twittera,que,muera|\n",
      "|         10|1467812416|2009-04-07|NO_QUERY| erinx3leannexo|spring,break,plai...|\n",
      "|         11|1467812579|2009-04-07|NO_QUERY|   pardonlauren|      re,pierced,ear|\n",
      "|         12|1467812723|2009-04-07|NO_QUERY|           TLeC|caregiving,couldn...|\n",
      "|         13|1467812771|2009-04-07|NO_QUERY|robrobbierobert|octolinz16,count,...|\n",
      "|         14|1467812784|2009-04-07|NO_QUERY|    bayofwolves|smarrison,ve,firs...|\n",
      "|         15|1467812799|2009-04-07|NO_QUERY|     HairByJess|iamjazzyfizzle,wi...|\n",
      "|         16|1467812964|2009-04-07|NO_QUERY| lovesongwriter|hollis,death,scen...|\n",
      "|         17|1467813137|2009-04-07|NO_QUERY|       armotley|            file,tax|\n",
      "|         18|1467813579|2009-04-07|NO_QUERY|     starkissed|lettya,ahh,ive,al...|\n",
      "|         19|1467813782|2009-04-07|NO_QUERY|      gi_gi_bee|fakerpattypattz,o...|\n",
      "|         20|1467813985|2009-04-07|NO_QUERY|         quanvu|alydesigns,wa,day...|\n",
      "+-----------+----------+----------+--------+---------------+--------------------+\n",
      "only showing top 20 rows\n",
      "\n"
     ]
    },
    {
     "name": "stderr",
     "output_type": "stream",
     "text": [
      "\r",
      "                                                                                \r"
     ]
    }
   ],
   "source": [
    "# Checking the database after insertin the dataframe\n",
    "df_from_mysql.show()"
   ]
  },
  {
   "cell_type": "markdown",
   "id": "23844619",
   "metadata": {},
   "source": [
    "- Create an extra table to determine the problem in YCSB"
   ]
  },
  {
   "cell_type": "code",
   "execution_count": 100,
   "id": "7a1206f2",
   "metadata": {},
   "outputs": [],
   "source": [
    "# Create a cursor\n",
    "cursor = connection.cursor()\n",
    "\n",
    "# Create a table\n",
    "create_table_sql = \"\"\"\n",
    "CREATE TABLE IF NOT EXISTS YCSB_TEST (\n",
    "    tweet_index INT AUTO_INCREMENT PRIMARY KEY,\n",
    "    ids BIGINT,\n",
    "    date DATE,\n",
    "    flag VARCHAR(55),\n",
    "    user VARCHAR(255),\n",
    "    filtered_words_final TEXT,\n",
    "    YCSB_KEY VARCHAR(255)\n",
    ");\n",
    "\"\"\""
   ]
  },
  {
   "cell_type": "code",
   "execution_count": 101,
   "id": "3c2d8c3b",
   "metadata": {},
   "outputs": [],
   "source": [
    "#Create a table\n",
    "cursor.execute(create_table_sql)\n",
    "\n",
    "#Save changes\n",
    "connection.commit()"
   ]
  },
  {
   "cell_type": "code",
   "execution_count": 106,
   "id": "fb6340c8",
   "metadata": {
    "scrolled": true
   },
   "outputs": [
    {
     "name": "stdout",
     "output_type": "stream",
     "text": [
      "YCSB operation completed successfully.\n",
      "Output:\n",
      "/usr/bin/java  -classpath /home/hduser/ycsb-0.17.0/conf:/home/hduser/ycsb-0.17.0/lib/HdrHistogram-2.1.4.jar:/home/hduser/ycsb-0.17.0/lib/core-0.17.0.jar:/home/hduser/ycsb-0.17.0/lib/htrace-core4-4.1.0-incubating.jar:/home/hduser/ycsb-0.17.0/lib/jackson-core-asl-1.9.4.jar:/home/hduser/ycsb-0.17.0/lib/jackson-mapper-asl-1.9.4.jar:/home/hduser/ycsb-0.17.0/jdbc-binding/conf:/home/hduser/ycsb-0.17.0/jdbc-binding/lib/commons-collections-3.2.1.jar:/home/hduser/ycsb-0.17.0/jdbc-binding/lib/commons-lang-2.4.jar:/home/hduser/ycsb-0.17.0/jdbc-binding/lib/commons-pool-1.5.4.jar:/home/hduser/ycsb-0.17.0/jdbc-binding/lib/geronimo-jms_1.1_spec-1.1.1.jar:/home/hduser/ycsb-0.17.0/jdbc-binding/lib/geronimo-jta_1.1_spec-1.1.1.jar:/home/hduser/ycsb-0.17.0/jdbc-binding/lib/jdbc-binding-0.17.0.jar:/home/hduser/ycsb-0.17.0/jdbc-binding/lib/mysql-connector-j-8.0.33.jar:/home/hduser/ycsb-0.17.0/jdbc-binding/lib/mysql-connector-java-8.0.30.jar:/home/hduser/ycsb-0.17.0/jdbc-binding/lib/openjpa-jdbc-2.1.1.jar:/home/hduser/ycsb-0.17.0/jdbc-binding/lib/openjpa-kernel-2.1.1.jar:/home/hduser/ycsb-0.17.0/jdbc-binding/lib/openjpa-lib-2.1.1.jar:/home/hduser/ycsb-0.17.0/jdbc-binding/lib/serp-1.13.1.jar site.ycsb.Client -load -db site.ycsb.db.JdbcDBClient -P /home/hduser/ycsb-0.17.0/jdbc-binding/conf/db.properties -P /home/hduser/ycsb-0.17.0/workloads/workloada -p db.connection_properties=user=root&password=password&useSSL=false -p jdbc.url=jdbc:mysql://localhost:3306/ProjectTweets -p table=YCSB_TEST\n",
      "Adding shard node URL: jdbc:mysql://localhost:3306/ProjectTweets\n",
      "Using shards: 1, batchSize:-1, fetchSize: -1\n",
      "[OVERALL], RunTime(ms), 1091\n",
      "[OVERALL], Throughput(ops/sec), 0.0\n",
      "[TOTAL_GCS_Copy], Count, 0\n",
      "[TOTAL_GC_TIME_Copy], Time(ms), 0\n",
      "[TOTAL_GC_TIME_%_Copy], Time(%), 0.0\n",
      "[TOTAL_GCS_MarkSweepCompact], Count, 0\n",
      "[TOTAL_GC_TIME_MarkSweepCompact], Time(ms), 0\n",
      "[TOTAL_GC_TIME_%_MarkSweepCompact], Time(%), 0.0\n",
      "[TOTAL_GCs], Count, 0\n",
      "[TOTAL_GC_TIME], Time(ms), 0\n",
      "[TOTAL_GC_TIME_%], Time(%), 0.0\n",
      "[CLEANUP], Operations, 1\n",
      "[CLEANUP], AverageLatency(us), 2395.0\n",
      "[CLEANUP], MinLatency(us), 2394\n",
      "[CLEANUP], MaxLatency(us), 2395\n",
      "[CLEANUP], 95thPercentileLatency(us), 2395\n",
      "[CLEANUP], 99thPercentileLatency(us), 2395\n",
      "[INSERT], Operations, 0\n",
      "[INSERT], AverageLatency(us), NaN\n",
      "[INSERT], MinLatency(us), 9223372036854775807\n",
      "[INSERT], MaxLatency(us), 0\n",
      "[INSERT], 95thPercentileLatency(us), 0\n",
      "[INSERT], 99thPercentileLatency(us), 0\n",
      "[INSERT], Return=ERROR, 1\n",
      "[INSERT-FAILED], Operations, 1\n",
      "[INSERT-FAILED], AverageLatency(us), 81952.0\n",
      "[INSERT-FAILED], MinLatency(us), 81920\n",
      "[INSERT-FAILED], MaxLatency(us), 81983\n",
      "[INSERT-FAILED], 95thPercentileLatency(us), 81983\n",
      "[INSERT-FAILED], 99thPercentileLatency(us), 81983\n",
      "\n"
     ]
    }
   ],
   "source": [
    "command = \"/home/hduser/ycsb-0.17.0/bin/ycsb.sh load jdbc -P /home/hduser/ycsb-0.17.0/jdbc-binding/conf/db.properties -P /home/hduser/ycsb-0.17.0/workloads/workloada -p db.connection_properties=\\\"user=root&password=password&useSSL=false\\\" -p jdbc.url=jdbc:mysql://localhost:3306/ProjectTweets -p table=YCSB_TEST\"\n",
    "\n",
    "process = subprocess.Popen(command, shell=True, stdout=subprocess.PIPE, stderr=subprocess.PIPE)\n",
    "stdout, stderr = process.communicate()\n",
    "\n",
    "if process.returncode == 0:\n",
    "    print(\"YCSB operation completed successfully.\")\n",
    "    print(\"Output:\")\n",
    "    print(stdout.decode('utf-8'))\n",
    "else:\n",
    "    print(\"YCSB operation failed. Error message:\")\n",
    "    print(stderr.decode('utf-8'))"
   ]
  },
  {
   "cell_type": "markdown",
   "id": "71c9c746",
   "metadata": {},
   "source": [
    "### Due to unidentified Issue YCSB did not work. I decided to use cProfile."
   ]
  },
  {
   "cell_type": "code",
   "execution_count": 107,
   "id": "4eb24e84",
   "metadata": {},
   "outputs": [],
   "source": [
    "# Example query\n",
    "query = \"SELECT * FROM Tweets WHERE concatenated_words\""
   ]
  },
  {
   "cell_type": "code",
   "execution_count": 108,
   "id": "3c6d222c",
   "metadata": {
    "scrolled": true
   },
   "outputs": [
    {
     "name": "stdout",
     "output_type": "stream",
     "text": [
      "         1063494 function calls in 2.390 seconds\n",
      "\n",
      "   Ordered by: cumulative time\n",
      "\n",
      "   ncalls  tottime  percall  cumtime  percall filename:lineno(function)\n",
      "        1    0.000    0.000    2.390    2.390 {built-in method builtins.exec}\n",
      "        1    0.020    0.020    2.390    2.390 <string>:1(<module>)\n",
      "        1    0.000    0.000    2.370    2.370 2091401167.py:1(perform_query)\n",
      "        1    0.000    0.000    2.370    2.370 cursors.py:133(execute)\n",
      "        1    0.000    0.000    2.370    2.370 cursors.py:319(_query)\n",
      "        1    0.000    0.000    2.343    2.343 connections.py:552(query)\n",
      "        1    0.000    0.000    2.334    2.334 connections.py:810(_read_query_result)\n",
      "        1    0.000    0.000    2.334    2.334 connections.py:1198(read)\n",
      "        1    0.000    0.000    2.321    2.321 connections.py:1281(_read_result_packet)\n",
      "        1    0.017    0.017    2.321    2.321 connections.py:1327(_read_rowdata_packet)\n",
      "    16866    0.075    0.000    1.971    0.000 connections.py:730(_read_packet)\n",
      "    33732    0.049    0.000    1.886    0.000 connections.py:775(_read_bytes)\n",
      "    33732    0.019    0.000    1.815    0.000 {method 'read' of '_io.BufferedReader' objects}\n",
      "      212    0.001    0.000    1.797    0.008 socket.py:691(readinto)\n",
      "      212    1.795    0.008    1.795    0.008 {method 'recv_into' of '_socket.socket' objects}\n",
      "    16857    0.115    0.000    0.337    0.000 connections.py:1340(_read_row_from_packet)\n",
      "   101178    0.048    0.000    0.160    0.000 protocol.py:165(read_length_coded_string)\n",
      "   101178    0.057    0.000    0.063    0.000 protocol.py:62(read)\n",
      "   101179    0.032    0.000    0.049    0.000 protocol.py:147(read_length_encoded_integer)\n",
      "    16857    0.024    0.000    0.042    0.000 converters.py:281(convert_date)\n",
      "        1    0.000    0.000    0.027    0.027 cursors.py:385(_do_get_result)\n",
      "        1    0.003    0.003    0.027    0.027 cursors.py:397(<listcomp>)\n",
      "    16857    0.025    0.000    0.025    0.000 cursors.py:399(_conv_row)\n",
      "    33733    0.023    0.000    0.023    0.000 {method 'settimeout' of '_socket.socket' objects}\n",
      "   101179    0.017    0.000    0.017    0.000 protocol.py:114(read_uint8)\n",
      "   101166    0.013    0.000    0.013    0.000 {method 'decode' of 'bytes' objects}\n",
      "    16857    0.012    0.000    0.012    0.000 converters.py:297(<listcomp>)\n",
      "        1    0.000    0.000    0.009    0.009 connections.py:834(_execute_command)\n",
      "        1    0.000    0.000    0.009    0.009 connections.py:800(_write_bytes)\n",
      "   118023    0.008    0.000    0.008    0.000 {method 'append' of 'list' objects}\n",
      "    16858    0.004    0.000    0.008    0.000 connections.py:1268(_check_packet_is_eof)\n",
      "   134916    0.008    0.000    0.008    0.000 {built-in method builtins.len}\n",
      "        1    0.006    0.006    0.006    0.006 {method 'sendall' of '_socket.socket' objects}\n",
      "    16857    0.004    0.000    0.004    0.000 {method 'split' of 'str' objects}\n",
      "    16860    0.004    0.000    0.004    0.000 protocol.py:187(is_eof_packet)\n",
      "    16866    0.004    0.000    0.004    0.000 {built-in method _struct.unpack}\n",
      "    16866    0.003    0.000    0.003    0.000 protocol.py:55(__init__)\n",
      "    16859    0.003    0.000    0.003    0.000 {built-in method builtins.isinstance}\n",
      "    16866    0.003    0.000    0.003    0.000 protocol.py:208(is_error_packet)\n",
      "      212    0.000    0.000    0.000    0.000 {method '_checkReadable' of '_io._IOBase' objects}\n",
      "        1    0.000    0.000    0.000    0.000 connections.py:1359(_get_descriptions)\n",
      "      212    0.000    0.000    0.000    0.000 socket.py:730(readable)\n",
      "        6    0.000    0.000    0.000    0.000 protocol.py:234(__init__)\n",
      "        6    0.000    0.000    0.000    0.000 protocol.py:238(_parse_field_descriptor)\n",
      "      212    0.000    0.000    0.000    0.000 {method '_checkClosed' of '_io._IOBase' objects}\n",
      "        7    0.000    0.000    0.000    0.000 protocol.py:177(read_struct)\n",
      "        1    0.000    0.000    0.000    0.000 protocol.py:323(__init__)\n",
      "        6    0.000    0.000    0.000    0.000 protocol.py:259(description)\n",
      "        2    0.000    0.000    0.000    0.000 cursors.py:97(nextset)\n",
      "        1    0.000    0.000    0.000    0.000 connections.py:539(cursor)\n",
      "        1    0.000    0.000    0.000    0.000 cursors.py:45(close)\n",
      "        1    0.000    0.000    0.000    0.000 cursors.py:294(fetchall)\n",
      "        2    0.000    0.000    0.000    0.000 cursors.py:83(_nextset)\n",
      "        1    0.000    0.000    0.000    0.000 cursors.py:336(_do_get_result)\n",
      "       12    0.000    0.000    0.000    0.000 protocol.py:271(get_column_length)\n",
      "        1    0.000    0.000    0.000    0.000 cursors.py:34(__init__)\n",
      "        1    0.000    0.000    0.000    0.000 connections.py:1178(__init__)\n",
      "        7    0.000    0.000    0.000    0.000 {method 'unpack_from' of '_struct.Struct' objects}\n",
      "        5    0.000    0.000    0.000    0.000 cursors.py:65(_get_db)\n",
      "        1    0.000    0.000    0.000    0.000 {built-in method _struct.pack}\n",
      "        1    0.000    0.000    0.000    0.000 {method 'disable' of '_lsprof.Profiler' objects}\n",
      "        1    0.000    0.000    0.000    0.000 cursors.py:326(_clear_result)\n",
      "        1    0.000    0.000    0.000    0.000 connections.py:1194(__del__)\n",
      "        1    0.000    0.000    0.000    0.000 cursors.py:110(mogrify)\n",
      "        6    0.000    0.000    0.000    0.000 {method 'get' of 'dict' objects}\n",
      "        1    0.000    0.000    0.000    0.000 cursors.py:70(_check_executed)\n",
      "        1    0.000    0.000    0.000    0.000 {built-in method builtins.min}\n",
      "        1    0.000    0.000    0.000    0.000 protocol.py:183(is_ok_packet)\n",
      "        1    0.000    0.000    0.000    0.000 {method 'encode' of 'str' objects}\n",
      "        1    0.000    0.000    0.000    0.000 protocol.py:205(is_load_local_packet)\n",
      "\n",
      "\n"
     ]
    }
   ],
   "source": [
    "def perform_query():\n",
    "    cursor = connection.cursor()\n",
    "    cursor.execute(query)\n",
    "    results = cursor.fetchall()\n",
    "    cursor.close()\n",
    "\n",
    "if __name__ == '__main__':\n",
    "    cProfile.run(\"perform_query()\", sort=\"cumulative\")"
   ]
  },
  {
   "cell_type": "markdown",
   "id": "62f15c6d",
   "metadata": {},
   "source": [
    "    Total calls: 1,131,181\n",
    "    Total time: 3.526 seconds\n",
    "\n",
    "Top time-consuming functions:\n",
    "\n",
    "    {built-in method builtins.exec}: 3.526 seconds\n",
    "    <string>:1(<module>): 3.526 seconds\n",
    "    3302925674.py:3(perform_query): 3.524 seconds\n",
    "    cursors.py:133(execute): 3.524 seconds\n",
    "    cursors.py:319(_query): 3.524 seconds"
   ]
  },
  {
   "cell_type": "markdown",
   "id": "8ee114bb",
   "metadata": {},
   "source": [
    "# Hive"
   ]
  },
  {
   "cell_type": "code",
   "execution_count": 109,
   "id": "8215b606",
   "metadata": {},
   "outputs": [],
   "source": [
    "df.createOrReplaceTempView(\"temp_table\")"
   ]
  },
  {
   "cell_type": "code",
   "execution_count": 110,
   "id": "d93b560d",
   "metadata": {
    "scrolled": true
   },
   "outputs": [
    {
     "name": "stderr",
     "output_type": "stream",
     "text": [
      "2023-11-10 17:24:07,344 WARN metastore.ObjectStore: Failed to get database global_temp, returning NoSuchObjectException\n",
      "2023-11-10 17:24:07,392 ERROR metastore.RetryingHMSHandler: AlreadyExistsException(message:Database projecttweets already exists)\n",
      "\tat org.apache.hadoop.hive.metastore.HiveMetaStore$HMSHandler.create_database(HiveMetaStore.java:925)\n",
      "\tat sun.reflect.NativeMethodAccessorImpl.invoke0(Native Method)\n",
      "\tat sun.reflect.NativeMethodAccessorImpl.invoke(NativeMethodAccessorImpl.java:62)\n",
      "\tat sun.reflect.DelegatingMethodAccessorImpl.invoke(DelegatingMethodAccessorImpl.java:43)\n",
      "\tat java.lang.reflect.Method.invoke(Method.java:498)\n",
      "\tat org.apache.hadoop.hive.metastore.RetryingHMSHandler.invokeInternal(RetryingHMSHandler.java:148)\n",
      "\tat org.apache.hadoop.hive.metastore.RetryingHMSHandler.invoke(RetryingHMSHandler.java:107)\n",
      "\tat com.sun.proxy.$Proxy34.create_database(Unknown Source)\n",
      "\tat org.apache.hadoop.hive.metastore.HiveMetaStoreClient.createDatabase(HiveMetaStoreClient.java:727)\n",
      "\tat sun.reflect.NativeMethodAccessorImpl.invoke0(Native Method)\n",
      "\tat sun.reflect.NativeMethodAccessorImpl.invoke(NativeMethodAccessorImpl.java:62)\n",
      "\tat sun.reflect.DelegatingMethodAccessorImpl.invoke(DelegatingMethodAccessorImpl.java:43)\n",
      "\tat java.lang.reflect.Method.invoke(Method.java:498)\n",
      "\tat org.apache.hadoop.hive.metastore.RetryingMetaStoreClient.invoke(RetryingMetaStoreClient.java:173)\n",
      "\tat com.sun.proxy.$Proxy35.createDatabase(Unknown Source)\n",
      "\tat org.apache.hadoop.hive.ql.metadata.Hive.createDatabase(Hive.java:427)\n",
      "\tat org.apache.spark.sql.hive.client.HiveClientImpl.$anonfun$createDatabase$1(HiveClientImpl.scala:334)\n",
      "\tat scala.runtime.java8.JFunction0$mcV$sp.apply(JFunction0$mcV$sp.java:23)\n",
      "\tat org.apache.spark.sql.hive.client.HiveClientImpl.$anonfun$withHiveState$1(HiveClientImpl.scala:291)\n",
      "\tat org.apache.spark.sql.hive.client.HiveClientImpl.liftedTree1$1(HiveClientImpl.scala:224)\n",
      "\tat org.apache.spark.sql.hive.client.HiveClientImpl.retryLocked(HiveClientImpl.scala:223)\n",
      "\tat org.apache.spark.sql.hive.client.HiveClientImpl.withHiveState(HiveClientImpl.scala:273)\n",
      "\tat org.apache.spark.sql.hive.client.HiveClientImpl.createDatabase(HiveClientImpl.scala:332)\n",
      "\tat org.apache.spark.sql.hive.HiveExternalCatalog.$anonfun$createDatabase$1(HiveExternalCatalog.scala:193)\n",
      "\tat scala.runtime.java8.JFunction0$mcV$sp.apply(JFunction0$mcV$sp.java:23)\n",
      "\tat org.apache.spark.sql.hive.HiveExternalCatalog.withClient(HiveExternalCatalog.scala:102)\n",
      "\tat org.apache.spark.sql.hive.HiveExternalCatalog.createDatabase(HiveExternalCatalog.scala:193)\n",
      "\tat org.apache.spark.sql.catalyst.catalog.ExternalCatalogWithListener.createDatabase(ExternalCatalogWithListener.scala:47)\n",
      "\tat org.apache.spark.sql.catalyst.catalog.SessionCatalog.createDatabase(SessionCatalog.scala:233)\n",
      "\tat org.apache.spark.sql.execution.command.CreateDatabaseCommand.run(ddl.scala:82)\n",
      "\tat org.apache.spark.sql.execution.command.ExecutedCommandExec.sideEffectResult$lzycompute(commands.scala:70)\n",
      "\tat org.apache.spark.sql.execution.command.ExecutedCommandExec.sideEffectResult(commands.scala:68)\n",
      "\tat org.apache.spark.sql.execution.command.ExecutedCommandExec.executeCollect(commands.scala:79)\n",
      "\tat org.apache.spark.sql.Dataset.$anonfun$logicalPlan$1(Dataset.scala:228)\n",
      "\tat org.apache.spark.sql.Dataset.$anonfun$withAction$1(Dataset.scala:3700)\n",
      "\tat org.apache.spark.sql.execution.SQLExecution$.$anonfun$withNewExecutionId$5(SQLExecution.scala:103)\n",
      "\tat org.apache.spark.sql.execution.SQLExecution$.withSQLConfPropagated(SQLExecution.scala:163)\n",
      "\tat org.apache.spark.sql.execution.SQLExecution$.$anonfun$withNewExecutionId$1(SQLExecution.scala:90)\n",
      "\tat org.apache.spark.sql.SparkSession.withActive(SparkSession.scala:775)\n",
      "\tat org.apache.spark.sql.execution.SQLExecution$.withNewExecutionId(SQLExecution.scala:64)\n",
      "\tat org.apache.spark.sql.Dataset.withAction(Dataset.scala:3698)\n",
      "\tat org.apache.spark.sql.Dataset.<init>(Dataset.scala:228)\n",
      "\tat org.apache.spark.sql.Dataset$.$anonfun$ofRows$2(Dataset.scala:99)\n",
      "\tat org.apache.spark.sql.SparkSession.withActive(SparkSession.scala:775)\n",
      "\tat org.apache.spark.sql.Dataset$.ofRows(Dataset.scala:96)\n",
      "\tat org.apache.spark.sql.SparkSession.$anonfun$sql$1(SparkSession.scala:618)\n",
      "\tat org.apache.spark.sql.SparkSession.withActive(SparkSession.scala:775)\n",
      "\tat org.apache.spark.sql.SparkSession.sql(SparkSession.scala:613)\n",
      "\tat sun.reflect.NativeMethodAccessorImpl.invoke0(Native Method)\n",
      "\tat sun.reflect.NativeMethodAccessorImpl.invoke(NativeMethodAccessorImpl.java:62)\n",
      "\tat sun.reflect.DelegatingMethodAccessorImpl.invoke(DelegatingMethodAccessorImpl.java:43)\n",
      "\tat java.lang.reflect.Method.invoke(Method.java:498)\n",
      "\tat py4j.reflection.MethodInvoker.invoke(MethodInvoker.java:244)\n",
      "\tat py4j.reflection.ReflectionEngine.invoke(ReflectionEngine.java:357)\n",
      "\tat py4j.Gateway.invoke(Gateway.java:282)\n",
      "\tat py4j.commands.AbstractCommand.invokeMethod(AbstractCommand.java:132)\n",
      "\tat py4j.commands.CallCommand.execute(CallCommand.java:79)\n",
      "\tat py4j.GatewayConnection.run(GatewayConnection.java:238)\n",
      "\tat java.lang.Thread.run(Thread.java:750)\n",
      "\n"
     ]
    },
    {
     "data": {
      "text/plain": [
       "DataFrame[]"
      ]
     },
     "execution_count": 110,
     "metadata": {},
     "output_type": "execute_result"
    }
   ],
   "source": [
    "spark.sql(\"CREATE DATABASE IF NOT EXISTS ProjectTweets\")"
   ]
  },
  {
   "cell_type": "code",
   "execution_count": 111,
   "id": "6f96c9f9",
   "metadata": {
    "scrolled": true
   },
   "outputs": [
    {
     "name": "stderr",
     "output_type": "stream",
     "text": [
      "2023-11-10 17:24:07,877 WARN session.SessionState: METASTORE_FILTER_HOOK will be ignored, since hive.security.authorization.manager is set to instance of HiveAuthorizerFactory.\n",
      "2023-11-10 17:24:08,068 WARN conf.HiveConf: HiveConf of name hive.internal.ss.authz.settings.applied.marker does not exist\n",
      "2023-11-10 17:24:08,085 WARN conf.HiveConf: HiveConf of name hive.stats.jdbc.timeout does not exist\n",
      "2023-11-10 17:24:08,094 WARN conf.HiveConf: HiveConf of name hive.stats.retries.wait does not exist\n",
      "2023-11-10 17:24:08,175 ERROR metastore.RetryingHMSHandler: AlreadyExistsException(message:Table tweets already exists)\n",
      "\tat org.apache.hadoop.hive.metastore.HiveMetaStore$HMSHandler.create_table_core(HiveMetaStore.java:1416)\n",
      "\tat org.apache.hadoop.hive.metastore.HiveMetaStore$HMSHandler.create_table_with_environment_context(HiveMetaStore.java:1503)\n",
      "\tat sun.reflect.NativeMethodAccessorImpl.invoke0(Native Method)\n",
      "\tat sun.reflect.NativeMethodAccessorImpl.invoke(NativeMethodAccessorImpl.java:62)\n",
      "\tat sun.reflect.DelegatingMethodAccessorImpl.invoke(DelegatingMethodAccessorImpl.java:43)\n",
      "\tat java.lang.reflect.Method.invoke(Method.java:498)\n",
      "\tat org.apache.hadoop.hive.metastore.RetryingHMSHandler.invokeInternal(RetryingHMSHandler.java:148)\n",
      "\tat org.apache.hadoop.hive.metastore.RetryingHMSHandler.invoke(RetryingHMSHandler.java:107)\n",
      "\tat com.sun.proxy.$Proxy34.create_table_with_environment_context(Unknown Source)\n",
      "\tat org.apache.hadoop.hive.metastore.HiveMetaStoreClient.create_table_with_environment_context(HiveMetaStoreClient.java:2405)\n",
      "\tat org.apache.hadoop.hive.ql.metadata.SessionHiveMetaStoreClient.create_table_with_environment_context(SessionHiveMetaStoreClient.java:93)\n",
      "\tat org.apache.hadoop.hive.metastore.HiveMetaStoreClient.createTable(HiveMetaStoreClient.java:752)\n",
      "\tat org.apache.hadoop.hive.metastore.HiveMetaStoreClient.createTable(HiveMetaStoreClient.java:740)\n",
      "\tat sun.reflect.NativeMethodAccessorImpl.invoke0(Native Method)\n",
      "\tat sun.reflect.NativeMethodAccessorImpl.invoke(NativeMethodAccessorImpl.java:62)\n",
      "\tat sun.reflect.DelegatingMethodAccessorImpl.invoke(DelegatingMethodAccessorImpl.java:43)\n",
      "\tat java.lang.reflect.Method.invoke(Method.java:498)\n",
      "\tat org.apache.hadoop.hive.metastore.RetryingMetaStoreClient.invoke(RetryingMetaStoreClient.java:173)\n",
      "\tat com.sun.proxy.$Proxy35.createTable(Unknown Source)\n",
      "\tat org.apache.hadoop.hive.ql.metadata.Hive.createTable(Hive.java:852)\n",
      "\tat org.apache.hadoop.hive.ql.metadata.Hive.createTable(Hive.java:867)\n",
      "\tat org.apache.spark.sql.hive.client.HiveClientImpl.$anonfun$createTable$1(HiveClientImpl.scala:543)\n",
      "\tat scala.runtime.java8.JFunction0$mcV$sp.apply(JFunction0$mcV$sp.java:23)\n",
      "\tat org.apache.spark.sql.hive.client.HiveClientImpl.$anonfun$withHiveState$1(HiveClientImpl.scala:291)\n",
      "\tat org.apache.spark.sql.hive.client.HiveClientImpl.liftedTree1$1(HiveClientImpl.scala:224)\n",
      "\tat org.apache.spark.sql.hive.client.HiveClientImpl.retryLocked(HiveClientImpl.scala:223)\n",
      "\tat org.apache.spark.sql.hive.client.HiveClientImpl.withHiveState(HiveClientImpl.scala:273)\n",
      "\tat org.apache.spark.sql.hive.client.HiveClientImpl.createTable(HiveClientImpl.scala:541)\n",
      "\tat org.apache.spark.sql.hive.HiveExternalCatalog.$anonfun$createTable$1(HiveExternalCatalog.scala:287)\n",
      "\tat scala.runtime.java8.JFunction0$mcV$sp.apply(JFunction0$mcV$sp.java:23)\n",
      "\tat org.apache.spark.sql.hive.HiveExternalCatalog.withClient(HiveExternalCatalog.scala:102)\n",
      "\tat org.apache.spark.sql.hive.HiveExternalCatalog.createTable(HiveExternalCatalog.scala:245)\n",
      "\tat org.apache.spark.sql.catalyst.catalog.ExternalCatalogWithListener.createTable(ExternalCatalogWithListener.scala:94)\n",
      "\tat org.apache.spark.sql.catalyst.catalog.SessionCatalog.createTable(SessionCatalog.scala:353)\n",
      "\tat org.apache.spark.sql.execution.command.CreateTableCommand.run(tables.scala:166)\n",
      "\tat org.apache.spark.sql.execution.command.ExecutedCommandExec.sideEffectResult$lzycompute(commands.scala:70)\n",
      "\tat org.apache.spark.sql.execution.command.ExecutedCommandExec.sideEffectResult(commands.scala:68)\n",
      "\tat org.apache.spark.sql.execution.command.ExecutedCommandExec.executeCollect(commands.scala:79)\n",
      "\tat org.apache.spark.sql.Dataset.$anonfun$logicalPlan$1(Dataset.scala:228)\n",
      "\tat org.apache.spark.sql.Dataset.$anonfun$withAction$1(Dataset.scala:3700)\n",
      "\tat org.apache.spark.sql.execution.SQLExecution$.$anonfun$withNewExecutionId$5(SQLExecution.scala:103)\n",
      "\tat org.apache.spark.sql.execution.SQLExecution$.withSQLConfPropagated(SQLExecution.scala:163)\n",
      "\tat org.apache.spark.sql.execution.SQLExecution$.$anonfun$withNewExecutionId$1(SQLExecution.scala:90)\n",
      "\tat org.apache.spark.sql.SparkSession.withActive(SparkSession.scala:775)\n",
      "\tat org.apache.spark.sql.execution.SQLExecution$.withNewExecutionId(SQLExecution.scala:64)\n",
      "\tat org.apache.spark.sql.Dataset.withAction(Dataset.scala:3698)\n",
      "\tat org.apache.spark.sql.Dataset.<init>(Dataset.scala:228)\n",
      "\tat org.apache.spark.sql.Dataset$.$anonfun$ofRows$2(Dataset.scala:99)\n",
      "\tat org.apache.spark.sql.SparkSession.withActive(SparkSession.scala:775)\n",
      "\tat org.apache.spark.sql.Dataset$.ofRows(Dataset.scala:96)\n",
      "\tat org.apache.spark.sql.SparkSession.$anonfun$sql$1(SparkSession.scala:618)\n",
      "\tat org.apache.spark.sql.SparkSession.withActive(SparkSession.scala:775)\n",
      "\tat org.apache.spark.sql.SparkSession.sql(SparkSession.scala:613)\n",
      "\tat sun.reflect.NativeMethodAccessorImpl.invoke0(Native Method)\n",
      "\tat sun.reflect.NativeMethodAccessorImpl.invoke(NativeMethodAccessorImpl.java:62)\n",
      "\tat sun.reflect.DelegatingMethodAccessorImpl.invoke(DelegatingMethodAccessorImpl.java:43)\n",
      "\tat java.lang.reflect.Method.invoke(Method.java:498)\n",
      "\tat py4j.reflection.MethodInvoker.invoke(MethodInvoker.java:244)\n",
      "\tat py4j.reflection.ReflectionEngine.invoke(ReflectionEngine.java:357)\n",
      "\tat py4j.Gateway.invoke(Gateway.java:282)\n",
      "\tat py4j.commands.AbstractCommand.invokeMethod(AbstractCommand.java:132)\n",
      "\tat py4j.commands.CallCommand.execute(CallCommand.java:79)\n",
      "\tat py4j.GatewayConnection.run(GatewayConnection.java:238)\n",
      "\tat java.lang.Thread.run(Thread.java:750)\n",
      "\n"
     ]
    },
    {
     "data": {
      "text/plain": [
       "DataFrame[]"
      ]
     },
     "execution_count": 111,
     "metadata": {},
     "output_type": "execute_result"
    }
   ],
   "source": [
    "create_table_sql = \"\"\"\n",
    "CREATE TABLE IF NOT EXISTS ProjectTweets.Tweets (\n",
    "    tweet_index INT,\n",
    "    ids BIGINT,\n",
    "    date DATE,\n",
    "    flag STRING,\n",
    "    user STRING,\n",
    "    concatenated_words STRING\n",
    ")\n",
    "STORED AS PARQUET\n",
    "\"\"\"\n",
    "spark.sql(create_table_sql)"
   ]
  },
  {
   "cell_type": "code",
   "execution_count": 112,
   "id": "e014f4bc",
   "metadata": {},
   "outputs": [],
   "source": [
    "hive_insert_data_sql = \"\"\"\n",
    "INSERT INTO ProjectTweets SELECT * FROM temp_table\n",
    "\"\"\""
   ]
  },
  {
   "cell_type": "code",
   "execution_count": 113,
   "id": "86a95903",
   "metadata": {},
   "outputs": [
    {
     "name": "stderr",
     "output_type": "stream",
     "text": [
      "                                                                                \r"
     ]
    },
    {
     "data": {
      "text/plain": [
       "DataFrame[]"
      ]
     },
     "execution_count": 113,
     "metadata": {},
     "output_type": "execute_result"
    }
   ],
   "source": [
    "spark.sql(hive_insert_data_sql)"
   ]
  },
  {
   "cell_type": "markdown",
   "id": "84a7974c",
   "metadata": {},
   "source": [
    "### Showing results from Hive"
   ]
  },
  {
   "cell_type": "code",
   "execution_count": 114,
   "id": "3d910743",
   "metadata": {},
   "outputs": [
    {
     "name": "stdout",
     "output_type": "stream",
     "text": [
      "+-----------+----------+----------+--------+---------------+--------------------+\n",
      "|tweet_index|       ids|      date|    flag|           user|filtered_words_final|\n",
      "+-----------+----------+----------+--------+---------------+--------------------+\n",
      "|          1|1467810672|2009-04-07|NO_QUERY|  scotthamilton|upset,update,face...|\n",
      "|          2|1467810917|2009-04-07|NO_QUERY|       mattycus|,kenichan,dived,m...|\n",
      "|          3|1467811184|2009-04-07|NO_QUERY|        ElleCTF|whole,body,feels,...|\n",
      "|          4|1467811193|2009-04-07|NO_QUERY|         Karoli|,nationwideclass,...|\n",
      "|          5|1467811372|2009-04-07|NO_QUERY|       joy_wolf|,kwesidei,whole,crew|\n",
      "|          6|1467811592|2009-04-07|NO_QUERY|        mybirch|            need,hug|\n",
      "|          7|1467811594|2009-04-07|NO_QUERY|           coZZ|,loltrish,hey,,lo...|\n",
      "|          8|1467811795|2009-04-07|NO_QUERY|2Hood4Hollywood|,tatiana,k,nope,didn|\n",
      "|          9|1467812025|2009-04-07|NO_QUERY|        mimismo| ,twittera,que,muera|\n",
      "|         10|1467812416|2009-04-07|NO_QUERY| erinx3leannexo|spring,break,plai...|\n",
      "|         11|1467812579|2009-04-07|NO_QUERY|   pardonlauren|     re,pierced,ears|\n",
      "|         12|1467812723|2009-04-07|NO_QUERY|           TLeC|,caregiving,could...|\n",
      "|         13|1467812771|2009-04-07|NO_QUERY|robrobbierobert|,octolinz16,count...|\n",
      "|         14|1467812784|2009-04-07|NO_QUERY|    bayofwolves|,smarrison,ve,fir...|\n",
      "|         15|1467812799|2009-04-07|NO_QUERY|     HairByJess|,iamjazzyfizzle,w...|\n",
      "|         16|1467812964|2009-04-07|NO_QUERY| lovesongwriter|hollis,,death,sce...|\n",
      "|         17|1467813137|2009-04-07|NO_QUERY|       armotley|          file,taxes|\n",
      "|         18|1467813579|2009-04-07|NO_QUERY|     starkissed|,lettya,ahh,ive,a...|\n",
      "|         19|1467813782|2009-04-07|NO_QUERY|      gi_gi_bee|,fakerpattypattz,...|\n",
      "|         20|1467813985|2009-04-07|NO_QUERY|         quanvu|,alydesigns,day,d...|\n",
      "+-----------+----------+----------+--------+---------------+--------------------+\n",
      "only showing top 20 rows\n",
      "\n"
     ]
    }
   ],
   "source": [
    "# Query\n",
    "result = spark.sql(\"SELECT * FROM ProjectTweets\")\n",
    "\n",
    "# Show Result\n",
    "result.show()"
   ]
  },
  {
   "cell_type": "code",
   "execution_count": 115,
   "id": "803cd862",
   "metadata": {},
   "outputs": [
    {
     "name": "stdout",
     "output_type": "stream",
     "text": [
      "YCSB operation completed successfully.\n",
      "Output:\n",
      "/usr/bin/java  -classpath /home/hduser/ycsb-0.17.0/conf:/home/hduser/ycsb-0.17.0/lib/HdrHistogram-2.1.4.jar:/home/hduser/ycsb-0.17.0/lib/core-0.17.0.jar:/home/hduser/ycsb-0.17.0/lib/htrace-core4-4.1.0-incubating.jar:/home/hduser/ycsb-0.17.0/lib/jackson-core-asl-1.9.4.jar:/home/hduser/ycsb-0.17.0/lib/jackson-mapper-asl-1.9.4.jar:/home/hduser/ycsb-0.17.0/jdbc-binding/conf:/home/hduser/ycsb-0.17.0/jdbc-binding/lib/commons-collections-3.2.1.jar:/home/hduser/ycsb-0.17.0/jdbc-binding/lib/commons-lang-2.4.jar:/home/hduser/ycsb-0.17.0/jdbc-binding/lib/commons-pool-1.5.4.jar:/home/hduser/ycsb-0.17.0/jdbc-binding/lib/geronimo-jms_1.1_spec-1.1.1.jar:/home/hduser/ycsb-0.17.0/jdbc-binding/lib/geronimo-jta_1.1_spec-1.1.1.jar:/home/hduser/ycsb-0.17.0/jdbc-binding/lib/jdbc-binding-0.17.0.jar:/home/hduser/ycsb-0.17.0/jdbc-binding/lib/mysql-connector-j-8.0.33.jar:/home/hduser/ycsb-0.17.0/jdbc-binding/lib/mysql-connector-java-8.0.30.jar:/home/hduser/ycsb-0.17.0/jdbc-binding/lib/openjpa-jdbc-2.1.1.jar:/home/hduser/ycsb-0.17.0/jdbc-binding/lib/openjpa-kernel-2.1.1.jar:/home/hduser/ycsb-0.17.0/jdbc-binding/lib/openjpa-lib-2.1.1.jar:/home/hduser/ycsb-0.17.0/jdbc-binding/lib/serp-1.13.1.jar site.ycsb.Client -load -db site.ycsb.db.JdbcDBClient -P /home/hduser/ycsb-0.17.0/jdbc-binding/conf/db.properties -P /home/hduser/ycsb-0.17.0/workloads/workloada -p db.connection_properties=user=root&password=password -p jdbc.url=jdbc:hive2://hive_server:10000/ProjectTweets\n",
      "Adding shard node URL: jdbc:mysql://localhost:3306/ProjectTweets\n",
      "Using shards: 1, batchSize:-1, fetchSize: -1\n",
      "[OVERALL], RunTime(ms), 1468\n",
      "[OVERALL], Throughput(ops/sec), 0.0\n",
      "[TOTAL_GCS_Copy], Count, 0\n",
      "[TOTAL_GC_TIME_Copy], Time(ms), 0\n",
      "[TOTAL_GC_TIME_%_Copy], Time(%), 0.0\n",
      "[TOTAL_GCS_MarkSweepCompact], Count, 0\n",
      "[TOTAL_GC_TIME_MarkSweepCompact], Time(ms), 0\n",
      "[TOTAL_GC_TIME_%_MarkSweepCompact], Time(%), 0.0\n",
      "[TOTAL_GCs], Count, 0\n",
      "[TOTAL_GC_TIME], Time(ms), 0\n",
      "[TOTAL_GC_TIME_%], Time(%), 0.0\n",
      "[CLEANUP], Operations, 1\n",
      "[CLEANUP], AverageLatency(us), 5458.0\n",
      "[CLEANUP], MinLatency(us), 5456\n",
      "[CLEANUP], MaxLatency(us), 5459\n",
      "[CLEANUP], 95thPercentileLatency(us), 5459\n",
      "[CLEANUP], 99thPercentileLatency(us), 5459\n",
      "[INSERT], Operations, 0\n",
      "[INSERT], AverageLatency(us), NaN\n",
      "[INSERT], MinLatency(us), 9223372036854775807\n",
      "[INSERT], MaxLatency(us), 0\n",
      "[INSERT], 95thPercentileLatency(us), 0\n",
      "[INSERT], 99thPercentileLatency(us), 0\n",
      "[INSERT], Return=ERROR, 1\n",
      "[INSERT-FAILED], Operations, 1\n",
      "[INSERT-FAILED], AverageLatency(us), 68960.0\n",
      "[INSERT-FAILED], MinLatency(us), 68928\n",
      "[INSERT-FAILED], MaxLatency(us), 68991\n",
      "[INSERT-FAILED], 95thPercentileLatency(us), 68991\n",
      "[INSERT-FAILED], 99thPercentileLatency(us), 68991\n",
      "\n"
     ]
    }
   ],
   "source": [
    "command = \"/home/hduser/ycsb-0.17.0/bin/ycsb.sh load jdbc -P /home/hduser/ycsb-0.17.0/jdbc-binding/conf/db.properties -P /home/hduser/ycsb-0.17.0/workloads/workloada -p db.connection_properties=\\\"user=root&password=password\\\" -p jdbc.url=jdbc:hive2://hive_server:10000/ProjectTweets\"\n",
    "\n",
    "process = subprocess.Popen(command, shell=True, stdout=subprocess.PIPE, stderr=subprocess.PIPE)\n",
    "stdout, stderr = process.communicate()\n",
    "\n",
    "if process.returncode == 0:\n",
    "    print(\"YCSB operation completed successfully.\")\n",
    "    print(\"Output:\")\n",
    "    print(stdout.decode('utf-8'))\n",
    "else:\n",
    "    print(\"YCSB operation failed. Error message:\")\n",
    "    print(stderr.decode('utf-8'))"
   ]
  },
  {
   "cell_type": "code",
   "execution_count": 117,
   "id": "12cf416b",
   "metadata": {},
   "outputs": [],
   "source": [
    "import cProfile\n",
    "import pstats"
   ]
  },
  {
   "cell_type": "code",
   "execution_count": 118,
   "id": "5b0d7be3",
   "metadata": {},
   "outputs": [
    {
     "name": "stdout",
     "output_type": "stream",
     "text": [
      "         4 function calls in 0.000 seconds\n",
      "\n",
      "   Ordered by: cumulative time\n",
      "\n",
      "   ncalls  tottime  percall  cumtime  percall filename:lineno(function)\n",
      "        1    0.000    0.000    0.000    0.000 {built-in method builtins.exec}\n",
      "        1    0.000    0.000    0.000    0.000 <string>:1(<module>)\n",
      "        1    0.000    0.000    0.000    0.000 99812281.py:2(hive_query)\n",
      "        1    0.000    0.000    0.000    0.000 {method 'disable' of '_lsprof.Profiler' objects}\n",
      "\n",
      "\n",
      "         0 function calls in 0.000 seconds\n",
      "\n"
     ]
    }
   ],
   "source": [
    "# my_hive_script.py\n",
    "def hive_query():\n",
    "    query\n",
    "    pass\n",
    "\n",
    "if __name__ == \"__main__\":\n",
    "    cProfile.run(\"hive_query()\", sort=\"cumulative\")\n",
    "    \n",
    "    # Show the results with pstat\n",
    "    p = pstats.Stats()\n",
    "    p.print_stats()"
   ]
  },
  {
   "cell_type": "markdown",
   "id": "327c848c",
   "metadata": {},
   "source": [
    "# SENTIMENT ANALYSIS AFTER TOKENIZATION, LEMMATIZATION AND STOPWORDS REMOVAL"
   ]
  },
  {
   "cell_type": "code",
   "execution_count": 119,
   "id": "f8bb242a",
   "metadata": {},
   "outputs": [],
   "source": [
    "df_for_sentiment_2 = df.select('date', 'concatenated_words')"
   ]
  },
  {
   "cell_type": "code",
   "execution_count": 120,
   "id": "8654ddf9",
   "metadata": {},
   "outputs": [],
   "source": [
    "# Create Vader SentimentIntensityAnalyzer\n",
    "sia = SentimentIntensityAnalyzer()\n",
    "\n",
    "# Define a function for the UDF\n",
    "def analyze_sentiment(text):\n",
    "    sentiment = sia.polarity_scores(text)\n",
    "    return sentiment['compound']\n",
    "\n",
    "# Save UDF\n",
    "sentiment_udf = udf(analyze_sentiment, DoubleType())"
   ]
  },
  {
   "cell_type": "code",
   "execution_count": 121,
   "id": "3f16a06b",
   "metadata": {},
   "outputs": [
    {
     "name": "stderr",
     "output_type": "stream",
     "text": [
      "\r",
      "[Stage 96:>                                                         (0 + 1) / 1]\r"
     ]
    },
    {
     "name": "stdout",
     "output_type": "stream",
     "text": [
      "+----------+--------------------+---------------+\n",
      "|      date|  concatenated_words|sentiment_score|\n",
      "+----------+--------------------+---------------+\n",
      "|2009-04-07|upset,update,face...|            0.0|\n",
      "|2009-04-07|kenichan,dived,ma...|            0.0|\n",
      "|2009-04-07|whole,body,feel,i...|            0.0|\n",
      "|2009-04-07|nationwideclass,b...|            0.0|\n",
      "|2009-04-07| kwesidei,whole,crew|            0.0|\n",
      "|2009-04-07|            need,hug|            0.0|\n",
      "|2009-04-07|loltrish,hey,long...|            0.0|\n",
      "|2009-04-07| tatiana,k,nope,didn|            0.0|\n",
      "|2009-04-07|  twittera,que,muera|            0.0|\n",
      "|2009-04-07|spring,break,plai...|            0.0|\n",
      "|2009-04-07|      re,pierced,ear|            0.0|\n",
      "|2009-04-07|caregiving,couldn...|            0.0|\n",
      "|2009-04-07|octolinz16,count,...|            0.0|\n",
      "|2009-04-07|smarrison,ve,firs...|            0.0|\n",
      "|2009-04-07|iamjazzyfizzle,wi...|            0.0|\n",
      "|2009-04-07|hollis,death,scen...|            0.0|\n",
      "|2009-04-07|            file,tax|            0.0|\n",
      "|2009-04-07|lettya,ahh,ive,al...|            0.0|\n",
      "|2009-04-07|fakerpattypattz,o...|            0.0|\n",
      "|2009-04-07|alydesigns,wa,day...|            0.0|\n",
      "+----------+--------------------+---------------+\n",
      "only showing top 20 rows\n",
      "\n"
     ]
    },
    {
     "name": "stderr",
     "output_type": "stream",
     "text": [
      "\r",
      "                                                                                \r"
     ]
    }
   ],
   "source": [
    "# Apply Vader analysis and add the results to a new column\n",
    "df_for_sentiment_2 = df_for_sentiment_2.withColumn(\"sentiment_score\", sentiment_udf(df_for_sentiment_2[\"concatenated_words\"]))\n",
    "\n",
    "df_for_sentiment_2.show()"
   ]
  },
  {
   "cell_type": "code",
   "execution_count": 122,
   "id": "11e2eaaf",
   "metadata": {},
   "outputs": [],
   "source": [
    "# Convert \"date\" column to 'yyyy-MM-dd' format\n",
    "df_for_sentiment_2 = df_for_sentiment_2.withColumn(\"date\", F.to_date(df_for_sentiment_2[\"date\"]))\n",
    "\n",
    "# Create a data frame for date and average sentiment scores\n",
    "daily_sentiment_2 = df_for_sentiment_2.groupBy(\"date\").agg(avg(\"sentiment_score\").alias(\"avg_sentiment_score\")).orderBy(\"date\")"
   ]
  },
  {
   "cell_type": "code",
   "execution_count": 123,
   "id": "31902890",
   "metadata": {},
   "outputs": [
    {
     "name": "stderr",
     "output_type": "stream",
     "text": [
      "                                                                                \r"
     ]
    }
   ],
   "source": [
    "# Create a full date array to include the entire date range\n",
    "min_date = daily_sentiment_2.selectExpr(\"min(date) as min_date\").first().min_date\n",
    "max_date = daily_sentiment_2.selectExpr(\"max(date) as max_date\").first().max_date"
   ]
  },
  {
   "cell_type": "code",
   "execution_count": 124,
   "id": "cb5b60af",
   "metadata": {},
   "outputs": [],
   "source": [
    "# Create the date array\n",
    "date_range = [min_date + timedelta(days=x) for x in range((max_date - min_date).days + 1)]\n",
    "date_range_df = spark.createDataFrame([(date,) for date in date_range], [\"date\"])"
   ]
  },
  {
   "cell_type": "code",
   "execution_count": 125,
   "id": "f627cc6c",
   "metadata": {},
   "outputs": [],
   "source": [
    "# Fill in missing dates\n",
    "daily_sentiment_2 = date_range_df.join(daily_sentiment_2, on=[\"date\"], how=\"left\").orderBy(\"date\").fillna(0, subset=[\"avg_sentiment_score\"])"
   ]
  },
  {
   "cell_type": "code",
   "execution_count": 126,
   "id": "8062c55c",
   "metadata": {},
   "outputs": [
    {
     "name": "stderr",
     "output_type": "stream",
     "text": [
      "[Stage 105:==============================================>      (177 + 2) / 200]\r"
     ]
    },
    {
     "name": "stdout",
     "output_type": "stream",
     "text": [
      "+----------+--------------------+\n",
      "|      date| avg_sentiment_score|\n",
      "+----------+--------------------+\n",
      "|2009-04-07|-2.22104499274310...|\n",
      "|2009-04-08|                 0.0|\n",
      "|2009-04-09|                 0.0|\n",
      "|2009-04-10|                 0.0|\n",
      "|2009-04-11|                 0.0|\n",
      "|2009-04-12|                 0.0|\n",
      "|2009-04-13|                 0.0|\n",
      "|2009-04-14|                 0.0|\n",
      "|2009-04-15|                 0.0|\n",
      "|2009-04-16|                 0.0|\n",
      "|2009-04-17|                 0.0|\n",
      "|2009-04-18|-2.23096950161170...|\n",
      "|2009-04-19|-1.03626373626373...|\n",
      "|2009-04-20|-7.62942483872716...|\n",
      "|2009-04-21|3.864925709140026E-5|\n",
      "|2009-04-22|                 0.0|\n",
      "|2009-04-23|                 0.0|\n",
      "|2009-04-24|                 0.0|\n",
      "|2009-04-25|                 0.0|\n",
      "|2009-04-26|                 0.0|\n",
      "+----------+--------------------+\n",
      "only showing top 20 rows\n",
      "\n"
     ]
    },
    {
     "name": "stderr",
     "output_type": "stream",
     "text": [
      "\r",
      "[Stage 105:====================================================>(197 + 1) / 200]\r",
      "\r",
      "                                                                                \r"
     ]
    }
   ],
   "source": [
    "daily_sentiment_2.show()"
   ]
  },
  {
   "cell_type": "code",
   "execution_count": 127,
   "id": "36f15bee",
   "metadata": {},
   "outputs": [],
   "source": [
    "# Start the Dash application\n",
    "app = dash.Dash(__name__)"
   ]
  },
  {
   "cell_type": "code",
   "execution_count": 128,
   "id": "3c418ef3",
   "metadata": {},
   "outputs": [
    {
     "name": "stderr",
     "output_type": "stream",
     "text": [
      "                                                                                \r"
     ]
    },
    {
     "data": {
      "text/html": [
       "\n",
       "        <iframe\n",
       "            width=\"100%\"\n",
       "            height=\"650\"\n",
       "            src=\"http://127.0.0.1:8880/\"\n",
       "            frameborder=\"0\"\n",
       "            allowfullscreen\n",
       "            \n",
       "        ></iframe>\n",
       "        "
      ],
      "text/plain": [
       "<IPython.lib.display.IFrame at 0x7f4c394273a0>"
      ]
     },
     "metadata": {},
     "output_type": "display_data"
    }
   ],
   "source": [
    "# Create the layout of the application\n",
    "app.layout = html.Div([\n",
    "    dcc.Graph(\n",
    "        id='sentiment-line-chart',\n",
    "        figure=px.line(daily_sentiment_2, x='date', y='avg_sentiment_score', title='Daily Average Sentiment Score')\n",
    "    )\n",
    "])\n",
    "\n",
    "if __name__ == '__main__':\n",
    "    app.run_server(debug=True, port=8880)"
   ]
  },
  {
   "cell_type": "markdown",
   "id": "a56b4213",
   "metadata": {},
   "source": [
    "## This is why I chose the dataframe without lemmatization, tokenization, and stop word removal.\n",
    "- Because there is not enough sentiment score it is almost 0.\n",
    "- In this case removing special symbols and making the text letters smaller helped to keep the meaning of the text."
   ]
  }
 ],
 "metadata": {
  "kernelspec": {
   "display_name": "Python 3 (ipykernel)",
   "language": "python",
   "name": "python3"
  },
  "language_info": {
   "codemirror_mode": {
    "name": "ipython",
    "version": 3
   },
   "file_extension": ".py",
   "mimetype": "text/x-python",
   "name": "python",
   "nbconvert_exporter": "python",
   "pygments_lexer": "ipython3",
   "version": "3.10.12"
  }
 },
 "nbformat": 4,
 "nbformat_minor": 5
}
